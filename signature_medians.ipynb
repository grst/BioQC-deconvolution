{
 "cells": [
  {
   "cell_type": "code",
   "execution_count": 1,
   "metadata": {
    "collapsed": true
   },
   "outputs": [],
   "source": [
    "%load_ext autoreload\n",
    "%autoreload 1\n",
    "%aimport pygenesig.pybioqc\n",
    "%aimport pygenesig.tools\n",
    "%aimport pygenesig.file_formats\n",
    "%matplotlib inline\n",
    "\n",
    "\n",
    "from pygenesig.pybioqc import * \n",
    "from pygenesig.bioqc import * \n",
    "from pygenesig.tools import * \n",
    "from pygenesig.file_formats import * \n",
    "from scipy.stats import mannwhitneyu\n",
    "import pandas as pd\n",
    "from pylab import * \n",
    "import seaborn as sns"
   ]
  },
  {
   "cell_type": "code",
   "execution_count": 2,
   "metadata": {
    "collapsed": true
   },
   "outputs": [],
   "source": [
    "gtex_sig = load_gmt(\"../pygenesig-example/results/gtex_v6_gini_0.8_3/signatures.gmt\")"
   ]
  },
  {
   "cell_type": "code",
   "execution_count": 4,
   "metadata": {
    "collapsed": false
   },
   "outputs": [],
   "source": [
    "exprs = read_expr(\"../pygenesig-example/data_processed/v6/exprs.npy\")\n",
    "target = read_target(\"../pygenesig-example/data_processed/v6/target.csv\")\n",
    "rosetta = read_rosetta(\"../pygenesig-example/data_processed/v6/rosetta.csv\", inverse=True)"
   ]
  },
  {
   "cell_type": "code",
   "execution_count": 5,
   "metadata": {
    "collapsed": true
   },
   "outputs": [],
   "source": [
    "gtex_sig_gtex = translate_signatures(gtex_sig, rosetta)"
   ]
  },
  {
   "cell_type": "code",
   "execution_count": 29,
   "metadata": {
    "collapsed": false
   },
   "outputs": [],
   "source": [
    "rel_ranks = {}\n",
    "for tissue, inds in gtex_sig_gtex.items():\n",
    "    rel_ranks[tissue] = np.median(pd.DataFrame(exprs[:, target == tissue]).rank(axis=0, ascending=False).values[inds, :].flatten()) / exprs.shape[0]"
   ]
  },
  {
   "cell_type": "code",
   "execution_count": 31,
   "metadata": {
    "collapsed": false
   },
   "outputs": [],
   "source": [
    "rel_ranks_df = pd.DataFrame([x for x in rel_ranks.items()])"
   ]
  },
  {
   "cell_type": "code",
   "execution_count": 35,
   "metadata": {
    "collapsed": true
   },
   "outputs": [],
   "source": [
    "rel_ranks_df.to_csv(\"results/rel_ranks_gtex_ngs.tsv\", sep=\"\\t\", header=None, index=None)"
   ]
  },
  {
   "cell_type": "markdown",
   "metadata": {},
   "source": [
    "## The same for mouse microarray"
   ]
  },
  {
   "cell_type": "code",
   "execution_count": 37,
   "metadata": {
    "collapsed": true
   },
   "outputs": [],
   "source": [
    "exprs = read_expr(\"../pygenesig-example/data_processed/mouseGNF/exprs.npy\")\n",
    "target = read_target(\"../pygenesig-example/data_processed/mouseGNF/target.csv\")\n",
    "rosetta = read_rosetta(\"../pygenesig-example/data_processed/mouseGNF/rosetta.csv\", inverse=True)"
   ]
  },
  {
   "cell_type": "code",
   "execution_count": 58,
   "metadata": {
    "collapsed": false
   },
   "outputs": [],
   "source": [
    "gtex_sig_mousegnf = translate_signatures(gtex_sig, rosetta, ignore_missing=True)"
   ]
  },
  {
   "cell_type": "code",
   "execution_count": 59,
   "metadata": {
    "collapsed": true
   },
   "outputs": [],
   "source": [
    "tissue_map = pd.read_csv(\"../pygenesig-example/manual_annotation/mouseGNF_map_tissues.csv\", sep=\";\", header=None)\n",
    "tissue_map = dict(zip(tissue_map[1], tissue_map[0]))"
   ]
  },
  {
   "cell_type": "code",
   "execution_count": 60,
   "metadata": {
    "collapsed": false
   },
   "outputs": [],
   "source": [
    "gtex_sig_mousegnf = {\n",
    "    tissue: ind for tissue, ind in gtex_sig_mousegnf.items() if tissue in tissue_map\n",
    "}"
   ]
  },
  {
   "cell_type": "code",
   "execution_count": 62,
   "metadata": {
    "collapsed": false
   },
   "outputs": [],
   "source": [
    "rel_ranks = {}\n",
    "for tissue, inds in gtex_sig_mousegnf.items():\n",
    "    rel_ranks[tissue] = np.median(pd.DataFrame(exprs[:, target == tissue_map[tissue]]).rank(axis=0, ascending=False).values[inds, :].flatten()) / exprs.shape[0]"
   ]
  },
  {
   "cell_type": "code",
   "execution_count": 64,
   "metadata": {
    "collapsed": false
   },
   "outputs": [
    {
     "data": {
      "text/plain": [
       "{'Adrenal_Gland': 0.6530818244905684,\n",
       " 'Bladder': 0.37697937038672641,\n",
       " 'Brain_Amygdala': 0.37950287048135767,\n",
       " 'Brain_Cerebellum': 0.18181818181818182,\n",
       " 'Brain_Hippocampus': 0.2356633650873762,\n",
       " 'Brain_Hypothalamus': 0.15869661220112297,\n",
       " 'Liver': 0.046211595482934832,\n",
       " 'Lung': 0.53088133240804991,\n",
       " 'Muscle_Skeletal': 0.053372027001451015,\n",
       " 'Ovary': 0.63563813008642989,\n",
       " 'Pancreas': 0.17781212541795471,\n",
       " 'Pituitary': 0.50009463125354869,\n",
       " 'Prostate': 0.39839757743990917,\n",
       " 'Spleen': 0.38612705822976467,\n",
       " 'Stomach': 0.15320799949529998,\n",
       " 'Testis': 0.13033877988770426,\n",
       " 'Uterus': 0.33225033120938741}"
      ]
     },
     "execution_count": 64,
     "metadata": {},
     "output_type": "execute_result"
    }
   ],
   "source": [
    "rel_ranks"
   ]
  },
  {
   "cell_type": "code",
   "execution_count": 65,
   "metadata": {
    "collapsed": true
   },
   "outputs": [],
   "source": [
    "rel_ranks_df = pd.DataFrame([x for x in rel_ranks.items()])\n",
    "rel_ranks_df.to_csv(\"results/rel_ranks_gtex_mouse_affy.tsv\", sep=\"\\t\", header=None, index=None)"
   ]
  },
  {
   "cell_type": "code",
   "execution_count": null,
   "metadata": {
    "collapsed": true
   },
   "outputs": [],
   "source": []
  }
 ],
 "metadata": {
  "anaconda-cloud": {},
  "kernelspec": {
   "display_name": "Python [Root]",
   "language": "python",
   "name": "Python [Root]"
  },
  "language_info": {
   "codemirror_mode": {
    "name": "ipython",
    "version": 3
   },
   "file_extension": ".py",
   "mimetype": "text/x-python",
   "name": "python",
   "nbconvert_exporter": "python",
   "pygments_lexer": "ipython3",
   "version": "3.5.2"
  }
 },
 "nbformat": 4,
 "nbformat_minor": 0
}
