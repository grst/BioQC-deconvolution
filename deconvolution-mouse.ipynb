{
 "cells": [
  {
   "cell_type": "code",
   "execution_count": 2,
   "metadata": {
    "collapsed": false
   },
   "outputs": [],
   "source": [
    "%load_ext autoreload\n",
    "%autoreload 1\n",
    "%aimport pygenesig.pybioqc\n",
    "%aimport pygenesig.tools\n",
    "%aimport pygenesig.file_formats\n",
    "%matplotlib inline\n",
    "\n",
    "\n",
    "from pygenesig.pybioqc import * \n",
    "from pygenesig.bioqc import * \n",
    "from pygenesig.tools import * \n",
    "from pygenesig.file_formats import * \n",
    "from scipy.stats import mannwhitneyu\n",
    "import pandas as pd\n",
    "from pylab import * \n",
    "import seaborn as sns"
   ]
  },
  {
   "cell_type": "code",
   "execution_count": 3,
   "metadata": {
    "collapsed": false
   },
   "outputs": [],
   "source": [
    "exprs = read_expr(\"../pygenesig-example/data_processed/v6/exprs.npy\")\n",
    "target = read_target(\"../pygenesig-example/data_processed/v6/target.csv\")\n",
    "rosetta = read_rosetta(\"../pygenesig-example/data_processed/v6/rosetta.csv\", inverse=True)"
   ]
  },
  {
   "cell_type": "code",
   "execution_count": 4,
   "metadata": {
    "collapsed": false
   },
   "outputs": [],
   "source": [
    "exprs_m = read_expr(\"../pygenesig-example/data_processed/mouseGNF/exprs.npy\")\n",
    "target_m = read_target(\"../pygenesig-example/data_processed/mouseGNF/target.csv\")\n",
    "rosetta_m = read_rosetta(\"../pygenesig-example/data_processed/mouseGNF/rosetta.csv\", inverse=True)"
   ]
  },
  {
   "cell_type": "code",
   "execution_count": 63,
   "metadata": {
    "collapsed": false
   },
   "outputs": [],
   "source": [
    "signatures = load_gmt(\"../pygenesig-example/results/gtex_v6_solid_gini_0.8_1/signatures.gmt\")\n",
    "signatures_ind = translate_signatures(signatures, rosetta, ignore_missing=True)\n",
    "signatures_ind = {\n",
    "    tissue: np.array(inds) for tissue, inds in signatures_ind.items()\n",
    "}\n",
    "signatures_ind_m = translate_signatures(signatures, rosetta_m, ignore_missing=True)"
   ]
  },
  {
   "cell_type": "code",
   "execution_count": 64,
   "metadata": {
    "collapsed": false
   },
   "outputs": [
    {
     "data": {
      "text/plain": [
       "array(['adipose_brown', 'adipose_brown', 'adipose_white', 'adipose_white',\n",
       "       'adrenal_gland', 'adrenal_gland', 'amygdala', 'amygdala',\n",
       "       'B-cells_marginal_zone', 'B-cells_marginal_zone', 'bladder',\n",
       "       'bladder', 'bone', 'bone', 'bone_marrow', 'bone_marrow',\n",
       "       'cerebellum', 'cerebellum', 'cerebral_cortex', 'cerebral_cortex',\n",
       "       'cerebral_cortex_prefrontal', 'cerebral_cortex_prefrontal',\n",
       "       'ciliary_bodies', 'ciliary_bodies', 'common_myeloid_progenitor',\n",
       "       'common_myeloid_progenitor', 'cornea', 'cornea',\n",
       "       'dendritic_cells_lymphoid_CD8a+', 'dendritic_cells_lymphoid_CD8a+',\n",
       "       'dendritic_cells_myeloid_CD8a-', 'dendritic_cells_myeloid_CD8a-',\n",
       "       'dendritic_plasmacytoid_B220+', 'dendritic_plasmacytoid_B220+',\n",
       "       'dorsal_root_ganglia', 'dorsal_root_ganglia', 'dorsal_striatum',\n",
       "       'dorsal_striatum', 'epidermis', 'epidermis', 'eyecup', 'eyecup',\n",
       "       'follicular_B-cells', 'follicular_B-cells',\n",
       "       'granulo_mono_progenitor', 'granulo_mono_progenitor',\n",
       "       'granulocytes_mac1+gr1+', 'granulocytes_mac1+gr1+', 'heart',\n",
       "       'heart', 'hippocampus', 'hippocampus', 'hypothalamus',\n",
       "       'hypothalamus', 'intestine_large', 'intestine_large',\n",
       "       'intestine_small', 'intestine_small', 'iris', 'iris', 'kidney',\n",
       "       'kidney', 'lacrimal_gland', 'lacrimal_gland', 'lens', 'lens',\n",
       "       'liver', 'liver', 'lung', 'lung', 'lymph_nodes', 'lymph_nodes',\n",
       "       'macrophage_bone_marrow_0hr', 'macrophage_bone_marrow_0hr',\n",
       "       'macrophage_bone_marrow_24h_LPS', 'macrophage_bone_marrow_24h_LPS',\n",
       "       'macrophage_bone_marrow_2hr_LPS', 'macrophage_bone_marrow_2hr_LPS',\n",
       "       'macrophage_bone_marrow_6hr_LPS', 'macrophage_bone_marrow_6hr_LPS',\n",
       "       'macrophage_peri_LPS_thio_0hrs', 'macrophage_peri_LPS_thio_0hrs',\n",
       "       'macrophage_peri_LPS_thio_1hrs', 'macrophage_peri_LPS_thio_1hrs',\n",
       "       'macrophage_peri_LPS_thio_7hrs', 'macrophage_peri_LPS_thio_7hrs',\n",
       "       'mammary_gland__lact', 'mammary_gland__lact',\n",
       "       'mammary_gland_non-lactating', 'mammary_gland_non-lactating',\n",
       "       'mast_cells', 'mast_cells', 'mast_cells_IgE', 'mast_cells_IgE',\n",
       "       'mast_cells_IgE+antigen_1hr', 'mast_cells_IgE+antigen_1hr',\n",
       "       'mast_cells_IgE+antigen_6hr', 'mast_cells_IgE+antigen_6hr',\n",
       "       'mega_erythrocyte_progenitor', 'mega_erythrocyte_progenitor',\n",
       "       'microglia', 'microglia', 'NK_cells', 'NK_cells',\n",
       "       'nucleus_accumbens', 'nucleus_accumbens', 'olfactory_bulb',\n",
       "       'olfactory_bulb', 'osteoblast_day14', 'osteoblast_day14',\n",
       "       'osteoblast_day21', 'osteoblast_day21', 'osteoblast_day5',\n",
       "       'osteoblast_day5', 'osteoclasts', 'osteoclasts', 'ovary', 'ovary',\n",
       "       'pancreas', 'pancreas', 'pituitary', 'pituitary', 'placenta',\n",
       "       'placenta', 'prostate', 'prostate', 'retina', 'retina',\n",
       "       'retinal_pigment_epithelium', 'retinal_pigment_epithelium',\n",
       "       'salivary_gland', 'salivary_gland', 'skeletal_muscle',\n",
       "       'skeletal_muscle', 'spinal_cord', 'spinal_cord', 'spleen', 'spleen',\n",
       "       'stem_cells__HSC', 'stem_cells__HSC', 'stomach', 'stomach',\n",
       "       'T-cells_CD4+', 'T-cells_CD4+', 'T-cells_CD8+', 'T-cells_CD8+',\n",
       "       'T-cells_foxP3+', 'T-cells_foxP3+', 'testis', 'testis',\n",
       "       'thymocyte_DP_CD4+CD8+', 'thymocyte_DP_CD4+CD8+',\n",
       "       'thymocyte_SP_CD4+', 'thymocyte_SP_CD4+', 'thymocyte_SP_CD8+',\n",
       "       'thymocyte_SP_CD8+', 'umbilical_cord', 'umbilical_cord', 'uterus',\n",
       "       'uterus'], \n",
       "      dtype='<U30')"
      ]
     },
     "execution_count": 64,
     "metadata": {},
     "output_type": "execute_result"
    }
   ],
   "source": [
    "target_m"
   ]
  },
  {
   "cell_type": "code",
   "execution_count": 65,
   "metadata": {
    "collapsed": true
   },
   "outputs": [],
   "source": [
    "target_name = {\n",
    "    'tissue1': 'Muscle_Skeletal',\n",
    "    'tissue2': 'Liver'\n",
    "}"
   ]
  },
  {
   "cell_type": "code",
   "execution_count": 66,
   "metadata": {
    "collapsed": true
   },
   "outputs": [],
   "source": [
    "target_name_m = {\n",
    "    'tissue1': 'skeletal_muscle',\n",
    "    'tissue2': 'liver'\n",
    "}"
   ]
  },
  {
   "cell_type": "code",
   "execution_count": 67,
   "metadata": {
    "collapsed": true
   },
   "outputs": [],
   "source": [
    "sig_name = {\n",
    "    'tissue1': 'Muscle_Skeletal',\n",
    "    'tissue2': 'Liver'\n",
    "}"
   ]
  },
  {
   "cell_type": "code",
   "execution_count": 68,
   "metadata": {
    "collapsed": false
   },
   "outputs": [
    {
     "data": {
      "text/plain": [
       "{'tissue1': 132, 'tissue2': 66}"
      ]
     },
     "execution_count": 68,
     "metadata": {},
     "output_type": "execute_result"
    }
   ],
   "source": [
    "s_ind = {\n",
    "    'tissue1': np.flatnonzero(target_m == target_name_m['tissue1'])[0],\n",
    "    'tissue2': np.flatnonzero(target_m == target_name_m['tissue2'])[0]\n",
    "}\n",
    "s_ind"
   ]
  },
  {
   "cell_type": "code",
   "execution_count": 69,
   "metadata": {
    "collapsed": false
   },
   "outputs": [],
   "source": [
    "s = {\n",
    "    tissue: exprs_m[:, i] for tissue, i in s_ind.items()\n",
    "}"
   ]
  },
  {
   "cell_type": "code",
   "execution_count": 70,
   "metadata": {
    "collapsed": false
   },
   "outputs": [],
   "source": [
    "ind = {\n",
    "    tissue: np.array([True if i in signatures_ind_m[name] else False for i in range(exprs_m.shape[0])])\n",
    "    for tissue, name in sig_name.items()\n",
    "}"
   ]
  },
  {
   "cell_type": "code",
   "execution_count": 71,
   "metadata": {
    "collapsed": false
   },
   "outputs": [
    {
     "data": {
      "text/plain": [
       "{'tissue1': 0.014271868942662415, 'tissue2': 0.02013380854123679}"
      ]
     },
     "execution_count": 71,
     "metadata": {},
     "output_type": "execute_result"
    }
   ],
   "source": [
    "rel_rk = {\n",
    "    tissue: pd.DataFrame(exprs[:, target == target_name[tissue]]).rank(\n",
    "        axis=0, ascending=False).iloc[signatures_ind[sig_name[tissue]], :].median(axis=0).median() / exprs.shape[0] for tissue in s\n",
    "}\n",
    "rel_rk"
   ]
  },
  {
   "cell_type": "code",
   "execution_count": 72,
   "metadata": {
    "collapsed": false
   },
   "outputs": [
    {
     "data": {
      "text/plain": [
       "{'tissue1': 139, 'tissue2': 262}"
      ]
     },
     "execution_count": 72,
     "metadata": {},
     "output_type": "execute_result"
    }
   ],
   "source": [
    "size = {\n",
    "    tissue: sum(t_ind) for tissue, t_ind in ind.items()\n",
    "}\n",
    "size"
   ]
  },
  {
   "cell_type": "code",
   "execution_count": 73,
   "metadata": {
    "collapsed": false
   },
   "outputs": [
    {
     "data": {
      "text/plain": [
       "0.010075566750629723"
      ]
     },
     "execution_count": 73,
     "metadata": {},
     "output_type": "execute_result"
    }
   ],
   "source": [
    "overlap = jaccard_ind(*(signatures_ind_m[sig_name[tissue]] for tissue in s))\n",
    "overlap"
   ]
  },
  {
   "cell_type": "code",
   "execution_count": 74,
   "metadata": {
    "collapsed": true
   },
   "outputs": [],
   "source": [
    "def mix(x, y, prop_x):\n",
    "    return x * prop_x + y * (1 - prop_x)"
   ]
  },
  {
   "cell_type": "code",
   "execution_count": 75,
   "metadata": {
    "collapsed": true
   },
   "outputs": [],
   "source": [
    "def wmw_r_corr(x, y, u, u_exp):\n",
    "    return 1 - (2 * (u - u_exp)) / (x.size * y.size)"
   ]
  },
  {
   "cell_type": "code",
   "execution_count": 76,
   "metadata": {
    "collapsed": false
   },
   "outputs": [],
   "source": [
    "mixed = [mix(s['tissue1'], s['tissue2'], f) for f in np.arange(0, 1.01, 0.01)]"
   ]
  },
  {
   "cell_type": "code",
   "execution_count": 77,
   "metadata": {
    "collapsed": false
   },
   "outputs": [
    {
     "data": {
      "text/plain": [
       "{'tissue1': [MannwhitneyuResult(statistic=498581.5, pvalue=1.1236905468741419e-28),\n",
       "  MannwhitneyuResult(statistic=859197.0, pvalue=7.3230885438593698e-06),\n",
       "  MannwhitneyuResult(statistic=1004811.0, pvalue=0.052300120072574202),\n",
       "  MannwhitneyuResult(statistic=1086187.5, pvalue=0.45703431688584473),\n",
       "  MannwhitneyuResult(statistic=1018485.5, pvalue=0.085599410062076775),\n",
       "  MannwhitneyuResult(statistic=965393.0, pvalue=0.0092160684566215071),\n",
       "  MannwhitneyuResult(statistic=922537.0, pvalue=0.00080331622984592939),\n",
       "  MannwhitneyuResult(statistic=886416.0, pvalue=6.4807495244329966e-05),\n",
       "  MannwhitneyuResult(statistic=854816.0, pvalue=5.0386631535628307e-06),\n",
       "  MannwhitneyuResult(statistic=826797.0, pvalue=3.963499044014483e-07),\n",
       "  MannwhitneyuResult(statistic=802104.0, pvalue=3.3904389225492544e-08),\n",
       "  MannwhitneyuResult(statistic=779901.0, pvalue=3.118967834843442e-09),\n",
       "  MannwhitneyuResult(statistic=759573.0, pvalue=3.0329122974773663e-10),\n",
       "  MannwhitneyuResult(statistic=741042.0, pvalue=3.207899955282402e-11),\n",
       "  MannwhitneyuResult(statistic=724083.5, pvalue=3.7069090598453099e-12),\n",
       "  MannwhitneyuResult(statistic=708204.0, pvalue=4.4971030111963397e-13),\n",
       "  MannwhitneyuResult(statistic=693545.0, pvalue=5.9451638230410743e-14),\n",
       "  MannwhitneyuResult(statistic=679931.0, pvalue=8.5024938467208653e-15),\n",
       "  MannwhitneyuResult(statistic=667121.0, pvalue=1.2874392548027925e-15),\n",
       "  MannwhitneyuResult(statistic=654955.5, pvalue=2.0352601737267068e-16),\n",
       "  MannwhitneyuResult(statistic=643532.5, pvalue=3.438811968452649e-17),\n",
       "  MannwhitneyuResult(statistic=632687.0, pvalue=6.09957710249378e-18),\n",
       "  MannwhitneyuResult(statistic=622521.0, pvalue=1.162456224282615e-18),\n",
       "  MannwhitneyuResult(statistic=612905.0, pvalue=2.3456293825628816e-19),\n",
       "  MannwhitneyuResult(statistic=603857.0, pvalue=5.0540553140552407e-20),\n",
       "  MannwhitneyuResult(statistic=595258.5, pvalue=1.1451083595105116e-20),\n",
       "  MannwhitneyuResult(statistic=587109.5, pvalue=2.7390576266559705e-21),\n",
       "  MannwhitneyuResult(statistic=579169.0, pvalue=6.6487038349855967e-22),\n",
       "  MannwhitneyuResult(statistic=571666.0, pvalue=1.7104828060193378e-22),\n",
       "  MannwhitneyuResult(statistic=564496.0, pvalue=4.5901827572638323e-23),\n",
       "  MannwhitneyuResult(statistic=557509.5, pvalue=1.2525371568244183e-23),\n",
       "  MannwhitneyuResult(statistic=550831.0, pvalue=3.5629807031425801e-24),\n",
       "  MannwhitneyuResult(statistic=544452.0, pvalue=1.0570852310138233e-24),\n",
       "  MannwhitneyuResult(statistic=538277.0, pvalue=3.2173688144522968e-25),\n",
       "  MannwhitneyuResult(statistic=532317.0, pvalue=1.0080539630989022e-25),\n",
       "  MannwhitneyuResult(statistic=526625.0, pvalue=3.289896579296811e-26),\n",
       "  MannwhitneyuResult(statistic=521110.0, pvalue=1.099995112765732e-26),\n",
       "  MannwhitneyuResult(statistic=515651.0, pvalue=3.6809458286540355e-27),\n",
       "  MannwhitneyuResult(statistic=510409.0, pvalue=1.2742062142747679e-27),\n",
       "  MannwhitneyuResult(statistic=505204.0, pvalue=4.4026323030627284e-28),\n",
       "  MannwhitneyuResult(statistic=500112.5, pvalue=1.5428894344116059e-28),\n",
       "  MannwhitneyuResult(statistic=495322.5, pvalue=5.7067446000593002e-29),\n",
       "  MannwhitneyuResult(statistic=490699.0, pvalue=2.1687322694873775e-29),\n",
       "  MannwhitneyuResult(statistic=486269.0, pvalue=8.5234016172217222e-30),\n",
       "  MannwhitneyuResult(statistic=481811.5, pvalue=3.3078270524694482e-30),\n",
       "  MannwhitneyuResult(statistic=477476.0, pvalue=1.3088063526021077e-30),\n",
       "  MannwhitneyuResult(statistic=473244.0, pvalue=5.2615256204117286e-31),\n",
       "  MannwhitneyuResult(statistic=469078.0, pvalue=2.132582309029537e-31),\n",
       "  MannwhitneyuResult(statistic=465132.0, pvalue=9.0161175690409228e-32),\n",
       "  MannwhitneyuResult(statistic=461203.0, pvalue=3.8056746207227847e-32),\n",
       "  MannwhitneyuResult(statistic=457440.0, pvalue=1.6577023175271084e-32),\n",
       "  MannwhitneyuResult(statistic=453621.0, pvalue=7.0965280863867415e-33),\n",
       "  MannwhitneyuResult(statistic=450009.0, pvalue=3.1662871980057203e-33),\n",
       "  MannwhitneyuResult(statistic=446537.0, pvalue=1.4514463735647704e-33),\n",
       "  MannwhitneyuResult(statistic=443008.5, pvalue=6.5417263851726684e-34),\n",
       "  MannwhitneyuResult(statistic=439619.0, pvalue=3.0301553982618214e-34),\n",
       "  MannwhitneyuResult(statistic=436283.5, pvalue=1.4154184952031926e-34),\n",
       "  MannwhitneyuResult(statistic=433083.0, pvalue=6.7939182664712464e-35),\n",
       "  MannwhitneyuResult(statistic=429915.5, pvalue=3.2744173506320801e-35),\n",
       "  MannwhitneyuResult(statistic=426787.0, pvalue=1.58700214615527e-35),\n",
       "  MannwhitneyuResult(statistic=423690.5, pvalue=7.7231898767318538e-36),\n",
       "  MannwhitneyuResult(statistic=420674.0, pvalue=3.8169595120850784e-36),\n",
       "  MannwhitneyuResult(statistic=417692.0, pvalue=1.8958370007374471e-36),\n",
       "  MannwhitneyuResult(statistic=414623.0, pvalue=9.1966245409280351e-37),\n",
       "  MannwhitneyuResult(statistic=411834.0, pvalue=4.752226909771309e-37),\n",
       "  MannwhitneyuResult(statistic=408963.0, pvalue=2.4017063719146557e-37),\n",
       "  MannwhitneyuResult(statistic=406092.0, pvalue=1.2103452163964077e-37),\n",
       "  MannwhitneyuResult(statistic=403370.0, pvalue=6.3038372738339808e-38),\n",
       "  MannwhitneyuResult(statistic=400592.0, pvalue=3.2309409738876548e-38),\n",
       "  MannwhitneyuResult(statistic=397883.0, pvalue=1.6793865318360112e-38),\n",
       "  MannwhitneyuResult(statistic=395185.0, pvalue=8.7304084626306362e-39),\n",
       "  MannwhitneyuResult(statistic=392617.0, pvalue=4.6730053297788291e-39),\n",
       "  MannwhitneyuResult(statistic=390033.0, pvalue=2.4858245555990233e-39),\n",
       "  MannwhitneyuResult(statistic=387529.0, pvalue=1.3454824618905677e-39),\n",
       "  MannwhitneyuResult(statistic=384896.0, pvalue=7.0394558427609281e-40),\n",
       "  MannwhitneyuResult(statistic=382411.5, pvalue=3.8116749961536915e-40),\n",
       "  MannwhitneyuResult(statistic=379952.0, pvalue=2.0723513155443517e-40),\n",
       "  MannwhitneyuResult(statistic=377557.0, pvalue=1.142565409790804e-40),\n",
       "  MannwhitneyuResult(statistic=375105.0, pvalue=6.1980483818065432e-41),\n",
       "  MannwhitneyuResult(statistic=372658.5, pvalue=3.359909316621368e-41),\n",
       "  MannwhitneyuResult(statistic=370379.0, pvalue=1.8955972760906063e-41),\n",
       "  MannwhitneyuResult(statistic=367931.0, pvalue=1.0231119807235935e-41),\n",
       "  MannwhitneyuResult(statistic=365553.0, pvalue=5.6091803379721667e-42),\n",
       "  MannwhitneyuResult(statistic=363211.0, pvalue=3.0974164574421945e-42),\n",
       "  MannwhitneyuResult(statistic=360880.5, pvalue=1.7121857595579086e-42),\n",
       "  MannwhitneyuResult(statistic=358542.5, pvalue=9.42879950773547e-43),\n",
       "  MannwhitneyuResult(statistic=356303.0, pvalue=5.3150824731421212e-43),\n",
       "  MannwhitneyuResult(statistic=354095.0, pvalue=3.0152955927994332e-43),\n",
       "  MannwhitneyuResult(statistic=351842.0, pvalue=1.6880290669651679e-43),\n",
       "  MannwhitneyuResult(statistic=349631.0, pvalue=9.5364705786352936e-44),\n",
       "  MannwhitneyuResult(statistic=347311.5, pvalue=5.2292427811773782e-44),\n",
       "  MannwhitneyuResult(statistic=345111.0, pvalue=2.9521122872347153e-44),\n",
       "  MannwhitneyuResult(statistic=342918.0, pvalue=1.6670617080389912e-44),\n",
       "  MannwhitneyuResult(statistic=340642.5, pvalue=9.1975568457430785e-45),\n",
       "  MannwhitneyuResult(statistic=338459.5, pvalue=5.1899539226315961e-45),\n",
       "  MannwhitneyuResult(statistic=336434.0, pvalue=3.0475133567853644e-45),\n",
       "  MannwhitneyuResult(statistic=334508.5, pvalue=1.8347347462440957e-45),\n",
       "  MannwhitneyuResult(statistic=332714.0, pvalue=1.142072922893956e-45),\n",
       "  MannwhitneyuResult(statistic=331172.0, pvalue=7.5927281534638041e-46),\n",
       "  MannwhitneyuResult(statistic=330384.0, pvalue=6.1610922493626632e-46),\n",
       "  MannwhitneyuResult(statistic=333714.0, pvalue=1.487582612225996e-45)],\n",
       " 'tissue2': [MannwhitneyuResult(statistic=750948.5, pvalue=1.7948848760355711e-69),\n",
       "  MannwhitneyuResult(statistic=751608.0, pvalue=2.1027356680148044e-69),\n",
       "  MannwhitneyuResult(statistic=754466.5, pvalue=4.1721227495875559e-69),\n",
       "  MannwhitneyuResult(statistic=757625.0, pvalue=8.8796798546392764e-69),\n",
       "  MannwhitneyuResult(statistic=760858.0, pvalue=1.9201982983517944e-68),\n",
       "  MannwhitneyuResult(statistic=764146.0, pvalue=4.1988742966490032e-68),\n",
       "  MannwhitneyuResult(statistic=767480.0, pvalue=9.2637686848429904e-68),\n",
       "  MannwhitneyuResult(statistic=771034.5, pvalue=2.1487629332501456e-67),\n",
       "  MannwhitneyuResult(statistic=774422.5, pvalue=4.7811198462078668e-67),\n",
       "  MannwhitneyuResult(statistic=777804.0, pvalue=1.0599518011333699e-66),\n",
       "  MannwhitneyuResult(statistic=781120.0, pvalue=2.3091618013368352e-66),\n",
       "  MannwhitneyuResult(statistic=784544.0, pvalue=5.1488572270853335e-66),\n",
       "  MannwhitneyuResult(statistic=787853.0, pvalue=1.1152620704955858e-65),\n",
       "  MannwhitneyuResult(statistic=791169.5, pvalue=2.415029499642623e-65),\n",
       "  MannwhitneyuResult(statistic=794534.0, pvalue=5.2774326126760219e-65),\n",
       "  MannwhitneyuResult(statistic=797903.5, pvalue=1.1521721553422154e-64),\n",
       "  MannwhitneyuResult(statistic=801284.0, pvalue=2.5165399611833982e-64),\n",
       "  MannwhitneyuResult(statistic=804702.0, pvalue=5.53250720776932e-64),\n",
       "  MannwhitneyuResult(statistic=808208.0, pvalue=1.2384391918316807e-63),\n",
       "  MannwhitneyuResult(statistic=811669.0, pvalue=2.7375912376505031e-63),\n",
       "  MannwhitneyuResult(statistic=815217.5, pvalue=6.1599090525096878e-63),\n",
       "  MannwhitneyuResult(statistic=818745.0, pvalue=1.3762415244251315e-62),\n",
       "  MannwhitneyuResult(statistic=822255.5, pvalue=3.0559173463890575e-62),\n",
       "  MannwhitneyuResult(statistic=825759.5, pvalue=6.7602283710540754e-62),\n",
       "  MannwhitneyuResult(statistic=829534.0, pvalue=1.5859832686160931e-61),\n",
       "  MannwhitneyuResult(statistic=833167.5, pvalue=3.5951919082609128e-61),\n",
       "  MannwhitneyuResult(statistic=836912.0, pvalue=8.3348079342832512e-61),\n",
       "  MannwhitneyuResult(statistic=840696.0, pvalue=1.9443697051882655e-60),\n",
       "  MannwhitneyuResult(statistic=844522.5, pvalue=4.5669494251220825e-60),\n",
       "  MannwhitneyuResult(statistic=848411.0, pvalue=1.0846244194870492e-59),\n",
       "  MannwhitneyuResult(statistic=852294.0, pvalue=2.5656131916477302e-59),\n",
       "  MannwhitneyuResult(statistic=856342.0, pvalue=6.2763089817578676e-59),\n",
       "  MannwhitneyuResult(statistic=860472.0, pvalue=1.5585949663602739e-58),\n",
       "  MannwhitneyuResult(statistic=864580.0, pvalue=3.8397334855732301e-58),\n",
       "  MannwhitneyuResult(statistic=868889.0, pvalue=9.8531188952975412e-58),\n",
       "  MannwhitneyuResult(statistic=873110.5, pvalue=2.47224630373801e-57),\n",
       "  MannwhitneyuResult(statistic=877396.5, pvalue=6.2697769995410309e-57),\n",
       "  MannwhitneyuResult(statistic=881807.5, pvalue=1.6280274079468525e-56),\n",
       "  MannwhitneyuResult(statistic=886305.0, pvalue=4.2913279530517962e-56),\n",
       "  MannwhitneyuResult(statistic=890826.0, pvalue=1.1326262275233754e-55),\n",
       "  MannwhitneyuResult(statistic=895407.0, pvalue=3.0165036021135551e-55),\n",
       "  MannwhitneyuResult(statistic=900215.0, pvalue=8.3983131983267844e-55),\n",
       "  MannwhitneyuResult(statistic=905118.0, pvalue=2.3755172921552498e-54),\n",
       "  MannwhitneyuResult(statistic=909942.0, pvalue=6.5791171179962811e-54),\n",
       "  MannwhitneyuResult(statistic=915048.0, pvalue=1.9248949634885389e-53),\n",
       "  MannwhitneyuResult(statistic=920125.0, pvalue=5.5709120464730229e-53),\n",
       "  MannwhitneyuResult(statistic=925297.0, pvalue=1.6366543272595243e-52),\n",
       "  MannwhitneyuResult(statistic=930713.0, pvalue=5.0323373616143975e-52),\n",
       "  MannwhitneyuResult(statistic=936054.0, pvalue=1.515391694637904e-51),\n",
       "  MannwhitneyuResult(statistic=941726.0, pvalue=4.8578814347843663e-51),\n",
       "  MannwhitneyuResult(statistic=947433.5, pvalue=1.5593107522049918e-50),\n",
       "  MannwhitneyuResult(statistic=953251.5, pvalue=5.0878874541250629e-50),\n",
       "  MannwhitneyuResult(statistic=959132.5, pvalue=1.6708866419206376e-49),\n",
       "  MannwhitneyuResult(statistic=965264.0, pvalue=5.7332615186188059e-49),\n",
       "  MannwhitneyuResult(statistic=971687.0, pvalue=2.0705325460827976e-48),\n",
       "  MannwhitneyuResult(statistic=978209.0, pvalue=7.5679059086568965e-48),\n",
       "  MannwhitneyuResult(statistic=984748.0, pvalue=2.7536911334813701e-47),\n",
       "  MannwhitneyuResult(statistic=991598.0, pvalue=1.0564757885612858e-46),\n",
       "  MannwhitneyuResult(statistic=998755.0, pvalue=4.265395449391643e-46),\n",
       "  MannwhitneyuResult(statistic=1006152.0, pvalue=1.7867830205597305e-45),\n",
       "  MannwhitneyuResult(statistic=1013658.5, pvalue=7.5668140844542969e-45),\n",
       "  MannwhitneyuResult(statistic=1021563.0, pvalue=3.4206724213285036e-44),\n",
       "  MannwhitneyuResult(statistic=1029463.0, pvalue=1.5273448119685414e-43),\n",
       "  MannwhitneyuResult(statistic=1037868.0, pvalue=7.4099413031583609e-43),\n",
       "  MannwhitneyuResult(statistic=1046368.0, pvalue=3.6115330124718939e-42),\n",
       "  MannwhitneyuResult(statistic=1055271.0, pvalue=1.870591437823249e-41),\n",
       "  MannwhitneyuResult(statistic=1064643.0, pvalue=1.0400109823637563e-40),\n",
       "  MannwhitneyuResult(statistic=1074294.0, pvalue=5.983129189398517e-40),\n",
       "  MannwhitneyuResult(statistic=1084187.0, pvalue=3.5329284849141575e-39),\n",
       "  MannwhitneyuResult(statistic=1094556.0, pvalue=2.2286409825568535e-38),\n",
       "  MannwhitneyuResult(statistic=1105324.0, pvalue=1.4778101510802232e-37),\n",
       "  MannwhitneyuResult(statistic=1116500.5, pvalue=1.0293249638384374e-36),\n",
       "  MannwhitneyuResult(statistic=1128466.0, pvalue=8.0152304215010435e-36),\n",
       "  MannwhitneyuResult(statistic=1140363.0, pvalue=6.0092740735484053e-35),\n",
       "  MannwhitneyuResult(statistic=1153336.5, pvalue=5.2479646555553657e-34),\n",
       "  MannwhitneyuResult(statistic=1166830.0, pvalue=4.8373149811253289e-33),\n",
       "  MannwhitneyuResult(statistic=1180807.0, pvalue=4.6605105844897751e-32),\n",
       "  MannwhitneyuResult(statistic=1195792.0, pvalue=5.0800714017460877e-31),\n",
       "  MannwhitneyuResult(statistic=1211435.0, pvalue=5.8845990858280786e-30),\n",
       "  MannwhitneyuResult(statistic=1227957.0, pvalue=7.4492826218912957e-29),\n",
       "  MannwhitneyuResult(statistic=1245332.0, pvalue=1.0183737213985627e-27),\n",
       "  MannwhitneyuResult(statistic=1263801.0, pvalue=1.5444944258991748e-26),\n",
       "  MannwhitneyuResult(statistic=1283559.0, pvalue=2.6420541411679588e-25),\n",
       "  MannwhitneyuResult(statistic=1304670.5, pvalue=5.0717331276515116e-24),\n",
       "  MannwhitneyuResult(statistic=1327377.5, pvalue=1.1109151156332757e-22),\n",
       "  MannwhitneyuResult(statistic=1351369.0, pvalue=2.6145360426734856e-21),\n",
       "  MannwhitneyuResult(statistic=1377605.0, pvalue=7.3276630950894922e-20),\n",
       "  MannwhitneyuResult(statistic=1405869.5, pvalue=2.3076511354226705e-18),\n",
       "  MannwhitneyuResult(statistic=1437144.0, pvalue=8.8493858774192507e-17),\n",
       "  MannwhitneyuResult(statistic=1471180.0, pvalue=3.821668857050135e-15),\n",
       "  MannwhitneyuResult(statistic=1509302.5, pvalue=2.0179334033355384e-13),\n",
       "  MannwhitneyuResult(statistic=1551944.5, pvalue=1.246141423890835e-11),\n",
       "  MannwhitneyuResult(statistic=1599367.5, pvalue=8.2898262442005114e-10),\n",
       "  MannwhitneyuResult(statistic=1653842.0, pvalue=6.2312773131614448e-08),\n",
       "  MannwhitneyuResult(statistic=1716294.5, pvalue=4.5749823121944919e-06),\n",
       "  MannwhitneyuResult(statistic=1790244.0, pvalue=0.00030224890602844592),\n",
       "  MannwhitneyuResult(statistic=1879414.0, pvalue=0.013358793348139214),\n",
       "  MannwhitneyuResult(statistic=1991154.0, pvalue=0.2437219122782503),\n",
       "  MannwhitneyuResult(statistic=1945945.0, pvalue=0.095121625797474962),\n",
       "  MannwhitneyuResult(statistic=1736217.0, pvalue=1.5559644557905315e-05),\n",
       "  MannwhitneyuResult(statistic=1367916.5, pvalue=2.1716197217232299e-20)]}"
      ]
     },
     "execution_count": 77,
     "metadata": {},
     "output_type": "execute_result"
    }
   ],
   "source": [
    "wmw_res = {\n",
    "    tissue:  [mannwhitneyu(s_mixed[~ind[tissue]], s_mixed[ind[tissue]]) for s_mixed in mixed] for \n",
    "    tissue in ind\n",
    "}\n",
    "wmw_res"
   ]
  },
  {
   "cell_type": "code",
   "execution_count": 78,
   "metadata": {
    "collapsed": false
   },
   "outputs": [
    {
     "data": {
      "text/plain": [
       "{'tissue1': (0.97135827392593532, 31553.0, 4.1176160829037591e-87),\n",
       " 'tissue2': (0.95962399848589996, 83840.0, 3.6756100890541761e-157)}"
      ]
     },
     "execution_count": 78,
     "metadata": {},
     "output_type": "execute_result"
    }
   ],
   "source": [
    "wmw_exp = {}\n",
    "for tissue in ind:\n",
    "    y = np.repeat(np.percentile(s[tissue], (1- rel_rk[tissue]) * 100), size[tissue])\n",
    "    u, p = mannwhitneyu(s[tissue], y)\n",
    "    wmw_exp[tissue] = (wmw_r(s[tissue], y, u), u, p) \n",
    "wmw_exp"
   ]
  },
  {
   "cell_type": "code",
   "execution_count": 79,
   "metadata": {
    "collapsed": false
   },
   "outputs": [
    {
     "data": {
      "text/plain": [
       "{'tissue1': 21715.05185080973, 'tissue2': 49161.941787031828}"
      ]
     },
     "execution_count": 79,
     "metadata": {},
     "output_type": "execute_result"
    }
   ],
   "source": [
    "u_exp = {\n",
    "    tissue: wmw_u_exp(rel_rk[tissue], size[tissue], s[tissue].size) for tissue in ind\n",
    "}\n",
    "u_exp"
   ]
  },
  {
   "cell_type": "markdown",
   "metadata": {},
   "source": [
    "## BioQC score, corrected and uncorrected"
   ]
  },
  {
   "cell_type": "code",
   "execution_count": 80,
   "metadata": {
    "collapsed": true
   },
   "outputs": [],
   "source": [
    "wmw_score_corr = {\n",
    "    tissue: [-np.log10(p) / -np.log10(wmw_exp[tissue][2]) for u, p in res] for tissue, res in wmw_res.items()\n",
    "}\n",
    "wmw_score = {\n",
    "    tissue: [-np.log10(p) for u, p in res] for tissue, res in wmw_res.items()\n",
    "}"
   ]
  },
  {
   "cell_type": "code",
   "execution_count": 81,
   "metadata": {
    "collapsed": false
   },
   "outputs": [
    {
     "data": {
      "text/plain": [
       "<matplotlib.axes._subplots.AxesSubplot at 0x7fff708fbb38>"
      ]
     },
     "execution_count": 81,
     "metadata": {},
     "output_type": "execute_result"
    },
    {
     "data": {
      "image/png": "[encoded data removed]",
      "text/plain": [
       "<matplotlib.figure.Figure at 0x7fff7307a978>"
      ]
     },
     "metadata": {},
     "output_type": "display_data"
    }
   ],
   "source": [
    "fix, (ax1, ax2) = subplots(1, 2, figsize=(14, 4))\n",
    "pd.DataFrame(wmw_score).plot(ax=ax1)\n",
    "pd.DataFrame(wmw_score_corr).plot(ax=ax2)"
   ]
  },
  {
   "cell_type": "markdown",
   "metadata": {},
   "source": [
    "## $r$ effect size, corrected and uncorrected"
   ]
  },
  {
   "cell_type": "code",
   "execution_count": 82,
   "metadata": {
    "collapsed": false
   },
   "outputs": [],
   "source": [
    "r = {\n",
    "    tissue: [wmw_r(s_mixed[~ind[tissue]], s_mixed[ind[tissue]], u) for u, p in res]\n",
    "    for s_mixed, (tissue, res) in zip(mixed, wmw_res.items())\n",
    "}\n",
    "r_corr = {\n",
    "    tissue: [wmw_r(s_mixed[~ind[tissue]], s_mixed[ind[tissue]], u) / wmw_exp[tissue][0] for u, p in res]\n",
    "    for s_mixed, (tissue, res) in zip(mixed, wmw_res.items())\n",
    "}\n",
    "r_corr_u = {\n",
    "    tissue: [wmw_r_corr(s_mixed[~ind[tissue]], s_mixed[ind[tissue]], u, u_exp[tissue]) for u, p in res]\n",
    "    for s_mixed, (tissue, res) in zip(mixed, wmw_res.items())\n",
    "}"
   ]
  },
  {
   "cell_type": "code",
   "execution_count": 83,
   "metadata": {
    "collapsed": false
   },
   "outputs": [
    {
     "data": {
      "text/plain": [
       "<matplotlib.axes._subplots.AxesSubplot at 0x7fff70866240>"
      ]
     },
     "execution_count": 83,
     "metadata": {},
     "output_type": "execute_result"
    },
    {
     "data": {
      "image/png": "[encoded data removed]",
      "text/plain": [
       "<matplotlib.figure.Figure at 0x7fff708cd710>"
      ]
     },
     "metadata": {},
     "output_type": "display_data"
    }
   ],
   "source": [
    "fix, (ax1, ax2) = subplots(1, 2, figsize=(14, 4))\n",
    "pd.DataFrame(r).plot(ax=ax1)\n",
    "pd.DataFrame(r_corr).plot(ax=ax2)"
   ]
  },
  {
   "cell_type": "code",
   "execution_count": 84,
   "metadata": {
    "collapsed": false
   },
   "outputs": [
    {
     "data": {
      "text/plain": [
       "<matplotlib.axes._subplots.AxesSubplot at 0x7fff707d1898>"
      ]
     },
     "execution_count": 84,
     "metadata": {},
     "output_type": "execute_result"
    },
    {
     "data": {
      "image/png": "[encoded data removed]",
      "text/plain": [
       "<matplotlib.figure.Figure at 0x7fff708d72b0>"
      ]
     },
     "metadata": {},
     "output_type": "display_data"
    }
   ],
   "source": [
    "pd.DataFrame(r_corr_u).applymap(lambda x: x).plot()"
   ]
  },
  {
   "cell_type": "code",
   "execution_count": null,
   "metadata": {
    "collapsed": true
   },
   "outputs": [],
   "source": []
  }
 ],
 "metadata": {
  "kernelspec": {
   "display_name": "Python [Root]",
   "language": "python",
   "name": "Python [Root]"
  },
  "language_info": {
   "codemirror_mode": {
    "name": "ipython",
    "version": 3
   },
   "file_extension": ".py",
   "mimetype": "text/x-python",
   "name": "python",
   "nbconvert_exporter": "python",
   "pygments_lexer": "ipython3",
   "version": "3.5.2"
  }
 },
 "nbformat": 4,
 "nbformat_minor": 0
}
