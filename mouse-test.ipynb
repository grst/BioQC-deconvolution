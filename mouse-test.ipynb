{
 "cells": [
  {
   "cell_type": "markdown",
   "metadata": {},
   "source": [
    "We now need to evaluate the deconvolution on data that \n",
    "was neither used for signature generation nor for the computation of the relative rank. \n",
    "\n",
    "SQL query to find other mouse studies with multiple tissues: \n",
    "\n",
    "```sql\n",
    "with x as (\n",
    "select bgg.gse\n",
    "      , count(distinct bss.tissue) as cnt\n",
    "from BIOQC_SELECTED_SAMPLES bss\n",
    "join bioqc_gse_gsm bgg\n",
    "  on bgg.gsm = bss.gsm\n",
    "where bss.ORGANISM = 'Mus musculus'\n",
    "and GPL = 'GPL1261'\n",
    "group by gse)\n",
    "select /*+ parallel(16) */  * from x\n",
    "join bioqc_gse bge\n",
    "  on x.gse = bge.gse\n",
    "order by cnt desc\n",
    "```\n",
    "\n",
    "One such study is `GSE24207`"
   ]
  },
  {
   "cell_type": "code",
   "execution_count": null,
   "metadata": {
    "collapsed": true
   },
   "outputs": [],
   "source": []
  }
 ],
 "metadata": {
  "anaconda-cloud": {},
  "kernelspec": {
   "display_name": "Python [Root]",
   "language": "python",
   "name": "Python [Root]"
  },
  "language_info": {
   "codemirror_mode": {
    "name": "ipython",
    "version": 3
   },
   "file_extension": ".py",
   "mimetype": "text/x-python",
   "name": "python",
   "nbconvert_exporter": "python",
   "pygments_lexer": "ipython3",
   "version": "3.5.2"
  }
 },
 "nbformat": 4,
 "nbformat_minor": 0
}
