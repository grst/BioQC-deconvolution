{
 "cells": [
  {
   "cell_type": "code",
   "execution_count": 152,
   "metadata": {
    "collapsed": false
   },
   "outputs": [
    {
     "name": "stdout",
     "output_type": "stream",
     "text": [
      "The autoreload extension is already loaded. To reload it, use:\n",
      "  %reload_ext autoreload\n"
     ]
    }
   ],
   "source": [
    "%load_ext autoreload\n",
    "%autoreload 1\n",
    "%aimport pygenesig.pybioqc\n",
    "%aimport pygenesig.tools\n",
    "%aimport pygenesig.file_formats\n",
    "%matplotlib inline\n",
    "\n",
    "\n",
    "from pygenesig.pybioqc import * \n",
    "from pygenesig.bioqc import * \n",
    "from pygenesig.tools import * \n",
    "from pygenesig.file_formats import * \n",
    "from scipy.stats import mannwhitneyu\n",
    "import pandas as pd\n",
    "from pylab import * \n",
    "import seaborn as sns"
   ]
  },
  {
   "cell_type": "code",
   "execution_count": 153,
   "metadata": {
    "collapsed": false
   },
   "outputs": [],
   "source": [
    "exprs = read_expr(\"../pygenesig-example/data_processed/v6/exprs.npy\")\n",
    "target = read_target(\"../pygenesig-example/data_processed/v6/target.csv\")\n",
    "rosetta = read_rosetta(\"../pygenesig-example/data_processed/v6/rosetta.csv\", inverse=True)"
   ]
  },
  {
   "cell_type": "code",
   "execution_count": 207,
   "metadata": {
    "collapsed": false
   },
   "outputs": [],
   "source": [
    "signatures = load_gmt(\"../pygenesig-example/results/gtex_v6_gini_0.8_3/signatures.gmt\")\n",
    "signatures_ind = translate_signatures(signatures, rosetta, ignore_missing=True)\n",
    "signatures_ind = {\n",
    "    tissue: np.array(inds) for tissue, inds in signatures_ind.items()\n",
    "}"
   ]
  },
  {
   "cell_type": "code",
   "execution_count": 208,
   "metadata": {
    "collapsed": false
   },
   "outputs": [
    {
     "data": {
      "text/plain": [
       "array(['Adipose_Subcutaneous', 'Adipose_Subcutaneous',\n",
       "       'Adipose_Subcutaneous', ..., 'Whole_Blood', 'Whole_Blood',\n",
       "       'Whole_Blood'], \n",
       "      dtype='<U37')"
      ]
     },
     "execution_count": 208,
     "metadata": {},
     "output_type": "execute_result"
    }
   ],
   "source": [
    "target"
   ]
  },
  {
   "cell_type": "code",
   "execution_count": 209,
   "metadata": {
    "collapsed": false
   },
   "outputs": [
    {
     "data": {
      "text/plain": [
       "dict_keys(['Brain_Putamen_basal_ganglia', 'Brain_Nucleus_accumbens_basal_ganglia', 'Brain_Cerebellar_Hemisphere', 'Prostate', 'Brain_Amygdala', 'Esophagus_Muscularis', 'Pancreas', 'Brain_Cerebellum', 'Brain_Cortex', 'Colon_Transverse', 'Brain_Hypothalamus', 'Brain_Hippocampus', 'Minor_Salivary_Gland', 'Thyroid', 'Spleen', 'Heart_Atrial_Appendage', 'Breast_Mammary_Tissue', 'Esophagus_Mucosa', 'Testis', 'Adipose_Visceral_Omentum', 'Skin_Sun_Exposed_Lower_leg', 'Nerve_Tibial', 'Liver', 'Stomach', 'Cells_EBV-transformed_lymphocytes', 'Cells_Transformed_fibroblasts', 'Ovary', 'Artery_Aorta', 'Kidney_Cortex', 'Bladder', 'Artery_Tibial', 'Muscle_Skeletal', 'Adipose_Subcutaneous', 'Whole_Blood', 'Adrenal_Gland', 'Artery_Coronary', 'Small_Intestine_Terminal_Ileum', 'Vagina', 'Heart_Left_Ventricle', 'Lung', 'Brain_Substantia_nigra', 'Colon_Sigmoid', 'Brain_Caudate_basal_ganglia', 'Esophagus_Gastroesophageal_Junction', 'Skin_Not_Sun_Exposed_Suprapubic', 'Pituitary', 'Brain_Anterior_cingulate_cortex_BA24', 'Brain_Spinal_cord_cervical_c-1', 'Brain_Frontal_Cortex_BA9', 'Uterus'])"
      ]
     },
     "execution_count": 209,
     "metadata": {},
     "output_type": "execute_result"
    }
   ],
   "source": [
    "signatures.keys()"
   ]
  },
  {
   "cell_type": "code",
   "execution_count": 259,
   "metadata": {
    "collapsed": true
   },
   "outputs": [],
   "source": [
    "target_name = {\n",
    "    'tissue1': 'Testis',\n",
    "    'tissue2': 'Liver'\n",
    "}"
   ]
  },
  {
   "cell_type": "code",
   "execution_count": 260,
   "metadata": {
    "collapsed": true
   },
   "outputs": [],
   "source": [
    "sig_name = {\n",
    "    'tissue1': 'Testis',\n",
    "    'tissue2': 'Liver'\n",
    "}"
   ]
  },
  {
   "cell_type": "code",
   "execution_count": 261,
   "metadata": {
    "collapsed": false
   },
   "outputs": [
    {
     "data": {
      "text/plain": [
       "(array([7488, 7489, 7490, 7491, 7492, 7493, 7494, 7495, 7496, 7497, 7498,\n",
       "        7499, 7500, 7501, 7502, 7503, 7504, 7505, 7506, 7507, 7508, 7509,\n",
       "        7510, 7511, 7512, 7513, 7514, 7515, 7516, 7517, 7518, 7519, 7520,\n",
       "        7521, 7522, 7523, 7524, 7525, 7526, 7527, 7528, 7529, 7530, 7531,\n",
       "        7532, 7533, 7534, 7535, 7536, 7537, 7538, 7539, 7540, 7541, 7542,\n",
       "        7543, 7544, 7545, 7546, 7547, 7548, 7549, 7550, 7551, 7552, 7553,\n",
       "        7554, 7555, 7556, 7557, 7558, 7559, 7560, 7561, 7562, 7563, 7564,\n",
       "        7565, 7566, 7567, 7568, 7569, 7570, 7571, 7572, 7573, 7574, 7575,\n",
       "        7576, 7577, 7578, 7579, 7580, 7581, 7582, 7583, 7584, 7585, 7586,\n",
       "        7587, 7588, 7589, 7590, 7591, 7592, 7593, 7594, 7595, 7596, 7597,\n",
       "        7598, 7599, 7600, 7601, 7602, 7603, 7604, 7605, 7606, 7607, 7608,\n",
       "        7609, 7610, 7611, 7612, 7613, 7614, 7615, 7616, 7617, 7618, 7619,\n",
       "        7620, 7621, 7622, 7623, 7624, 7625, 7626, 7627, 7628, 7629, 7630,\n",
       "        7631, 7632, 7633, 7634, 7635, 7636, 7637, 7638, 7639, 7640, 7641,\n",
       "        7642, 7643, 7644, 7645, 7646, 7647, 7648, 7649, 7650, 7651, 7652,\n",
       "        7653, 7654, 7655, 7656, 7657, 7658, 7659]),)"
      ]
     },
     "execution_count": 261,
     "metadata": {},
     "output_type": "execute_result"
    }
   ],
   "source": [
    "np.where(target == target_name['tissue1'])"
   ]
  },
  {
   "cell_type": "code",
   "execution_count": 262,
   "metadata": {
    "collapsed": false
   },
   "outputs": [
    {
     "data": {
      "text/plain": [
       "(array([4789, 4790, 4791, 4792, 4793, 4794, 4795, 4796, 4797, 4798, 4799,\n",
       "        4800, 4801, 4802, 4803, 4804, 4805, 4806, 4807, 4808, 4809, 4810,\n",
       "        4811, 4812, 4813, 4814, 4815, 4816, 4817, 4818, 4819, 4820, 4821,\n",
       "        4822, 4823, 4824, 4825, 4826, 4827, 4828, 4829, 4830, 4831, 4832,\n",
       "        4833, 4834, 4835, 4836, 4837, 4838, 4839, 4840, 4841, 4842, 4843,\n",
       "        4844, 4845, 4846, 4847, 4848, 4849, 4850, 4851, 4852, 4853, 4854,\n",
       "        4855, 4856, 4857, 4858, 4859, 4860, 4861, 4862, 4863, 4864, 4865,\n",
       "        4866, 4867, 4868, 4869, 4870, 4871, 4872, 4873, 4874, 4875, 4876,\n",
       "        4877, 4878, 4879, 4880, 4881, 4882, 4883, 4884, 4885, 4886, 4887,\n",
       "        4888, 4889, 4890, 4891, 4892, 4893, 4894, 4895, 4896, 4897, 4898,\n",
       "        4899, 4900, 4901, 4902, 4903, 4904, 4905, 4906, 4907]),)"
      ]
     },
     "execution_count": 262,
     "metadata": {},
     "output_type": "execute_result"
    }
   ],
   "source": [
    "np.where(target == target_name['tissue2'])"
   ]
  },
  {
   "cell_type": "code",
   "execution_count": 263,
   "metadata": {
    "collapsed": false
   },
   "outputs": [
    {
     "data": {
      "text/plain": [
       "{'tissue1': 7488, 'tissue2': 4789}"
      ]
     },
     "execution_count": 263,
     "metadata": {},
     "output_type": "execute_result"
    }
   ],
   "source": [
    "s_ind = {\n",
    "    'tissue1': np.flatnonzero(target == target_name['tissue1'])[0],\n",
    "    'tissue2': np.flatnonzero(target == target_name['tissue2'])[0]\n",
    "}\n",
    "s_ind"
   ]
  },
  {
   "cell_type": "code",
   "execution_count": 264,
   "metadata": {
    "collapsed": false
   },
   "outputs": [],
   "source": [
    "s = {\n",
    "    tissue: exprs[:, i] for tissue, i in s_ind.items()\n",
    "}"
   ]
  },
  {
   "cell_type": "code",
   "execution_count": 265,
   "metadata": {
    "collapsed": false
   },
   "outputs": [],
   "source": [
    "ind = {\n",
    "    tissue: np.array([True if i in signatures_ind[name] else False for i in range(exprs.shape[0])])\n",
    "    for tissue, name in sig_name.items()\n",
    "}"
   ]
  },
  {
   "cell_type": "code",
   "execution_count": 266,
   "metadata": {
    "collapsed": false
   },
   "outputs": [
    {
     "data": {
      "text/plain": [
       "{'tissue1': 0.10731257425123492, 'tissue2': 0.017460764084286876}"
      ]
     },
     "execution_count": 266,
     "metadata": {},
     "output_type": "execute_result"
    }
   ],
   "source": [
    "rel_rk = {\n",
    "    tissue: pd.DataFrame(exprs[:, target == target_name[tissue]]).rank(\n",
    "        axis=0, ascending=False).iloc[ind[tissue], :].median(axis=0).median() / exprs.shape[0] for tissue in s\n",
    "}\n",
    "rel_rk"
   ]
  },
  {
   "cell_type": "code",
   "execution_count": 267,
   "metadata": {
    "collapsed": false
   },
   "outputs": [
    {
     "data": {
      "text/plain": [
       "{'tissue1': 859, 'tissue2': 286}"
      ]
     },
     "execution_count": 267,
     "metadata": {},
     "output_type": "execute_result"
    }
   ],
   "source": [
    "size = {\n",
    "    tissue: sum(t_ind) for tissue, t_ind in ind.items()\n",
    "}\n",
    "size"
   ]
  },
  {
   "cell_type": "code",
   "execution_count": 268,
   "metadata": {
    "collapsed": false
   },
   "outputs": [
    {
     "data": {
      "text/plain": [
       "0.010591350397175641"
      ]
     },
     "execution_count": 268,
     "metadata": {},
     "output_type": "execute_result"
    }
   ],
   "source": [
    "overlap = jaccard_ind(*(signatures_ind[sig_name[tissue]] for tissue in s))\n",
    "overlap"
   ]
  },
  {
   "cell_type": "code",
   "execution_count": 269,
   "metadata": {
    "collapsed": true
   },
   "outputs": [],
   "source": [
    "def mix(x, y, prop_x):\n",
    "    return x * prop_x + y * (1 - prop_x)"
   ]
  },
  {
   "cell_type": "code",
   "execution_count": 270,
   "metadata": {
    "collapsed": true
   },
   "outputs": [],
   "source": [
    "def wmw_r_corr(x, y, u, u_exp):\n",
    "    return 1 - (2 * (u - u_exp)) / (x.size * y.size)"
   ]
  },
  {
   "cell_type": "code",
   "execution_count": 271,
   "metadata": {
    "collapsed": false
   },
   "outputs": [],
   "source": [
    "mixed = [mix(s['tissue1'], s['tissue2'], f) for f in np.arange(0, 1.01, 0.01)]"
   ]
  },
  {
   "cell_type": "code",
   "execution_count": 272,
   "metadata": {
    "collapsed": false
   },
   "outputs": [
    {
     "data": {
      "text/plain": [
       "{'tissue1': [MannwhitneyuResult(statistic=9755750.5, pvalue=4.374766168135712e-45),\n",
       "  MannwhitneyuResult(statistic=11110445.5, pvalue=7.2358540050795673e-18),\n",
       "  MannwhitneyuResult(statistic=10086406.5, pvalue=1.3173215545775286e-35),\n",
       "  MannwhitneyuResult(statistic=9429959.5, pvalue=2.2590042198538706e-50),\n",
       "  MannwhitneyuResult(statistic=8941036.5, pvalue=4.2589274950723579e-63),\n",
       "  MannwhitneyuResult(statistic=8551702.5, pvalue=2.7604165874356763e-74),\n",
       "  MannwhitneyuResult(statistic=8226583.5, pvalue=2.4016539464407608e-84),\n",
       "  MannwhitneyuResult(statistic=7946356.5, pvalue=1.5311122905420965e-93),\n",
       "  MannwhitneyuResult(statistic=7701056.5, pvalue=5.4596883594922443e-102),\n",
       "  MannwhitneyuResult(statistic=7483266.5, pvalue=8.412895669448568e-110),\n",
       "  MannwhitneyuResult(statistic=7287112.5, pvalue=4.3426894223027117e-117),\n",
       "  MannwhitneyuResult(statistic=7108993.5, pvalue=6.5226818302298409e-124),\n",
       "  MannwhitneyuResult(statistic=6945693.5, pvalue=2.4341500666580825e-130),\n",
       "  MannwhitneyuResult(statistic=6795398.5, pvalue=2.1106490312115084e-136),\n",
       "  MannwhitneyuResult(statistic=6656369.5, pvalue=3.912557917630094e-142),\n",
       "  MannwhitneyuResult(statistic=6527450.5, pvalue=1.4807055047366806e-147),\n",
       "  MannwhitneyuResult(statistic=6406221.5, pvalue=9.5078990807495183e-153),\n",
       "  MannwhitneyuResult(statistic=6293057.5, pvalue=1.1196272332901835e-157),\n",
       "  MannwhitneyuResult(statistic=6186318.5, pvalue=2.1246722374169448e-162),\n",
       "  MannwhitneyuResult(statistic=6085386.5, pvalue=6.2739469708971045e-167),\n",
       "  MannwhitneyuResult(statistic=5990568.5, pvalue=3.053182876921424e-171),\n",
       "  MannwhitneyuResult(statistic=5899777.5, pvalue=2.0090466065335859e-175),\n",
       "  MannwhitneyuResult(statistic=5814102.5, pvalue=2.0421338956672637e-179),\n",
       "  MannwhitneyuResult(statistic=5732165.5, pvalue=2.8111993458902528e-183),\n",
       "  MannwhitneyuResult(statistic=5654217.5, pvalue=5.4589716497853633e-187),\n",
       "  MannwhitneyuResult(statistic=5579453.5, pvalue=1.3855313036756065e-190),\n",
       "  MannwhitneyuResult(statistic=5507899.5, pvalue=4.656882219448967e-194),\n",
       "  MannwhitneyuResult(statistic=5439355.5, pvalue=2.0463217611786551e-197),\n",
       "  MannwhitneyuResult(statistic=5373410.5, pvalue=1.1316145618209139e-200),\n",
       "  MannwhitneyuResult(statistic=5310180.5, pvalue=8.0398856531189908e-204),\n",
       "  MannwhitneyuResult(statistic=5249604.5, pvalue=7.3407942185497731e-207),\n",
       "  MannwhitneyuResult(statistic=5190832.5, pvalue=7.8531967092712345e-210),\n",
       "  MannwhitneyuResult(statistic=5134136.5, pvalue=1.0209920557925288e-212),\n",
       "  MannwhitneyuResult(statistic=5079402.5, pvalue=1.599537863243063e-215),\n",
       "  MannwhitneyuResult(statistic=5026965.5, pvalue=3.1571189993497484e-218),\n",
       "  MannwhitneyuResult(statistic=4975766.5, pvalue=6.9505771327456116e-221),\n",
       "  MannwhitneyuResult(statistic=4925697.5, pvalue=1.6892942951859149e-223),\n",
       "  MannwhitneyuResult(statistic=4877415.5, pvalue=4.9203850848589635e-226),\n",
       "  MannwhitneyuResult(statistic=4830583.5, pvalue=1.6544659880632246e-228),\n",
       "  MannwhitneyuResult(statistic=4785073.5, pvalue=6.3405639544495352e-231),\n",
       "  MannwhitneyuResult(statistic=4740942.5, pvalue=2.7962543614254622e-233),\n",
       "  MannwhitneyuResult(statistic=4698105.5, pvalue=1.4078720019458931e-235),\n",
       "  MannwhitneyuResult(statistic=4656761.5, pvalue=8.315141197322771e-238),\n",
       "  MannwhitneyuResult(statistic=4616181.5, pvalue=5.2731484912543794e-240),\n",
       "  MannwhitneyuResult(statistic=4576499.5, pvalue=3.6563452580883571e-242),\n",
       "  MannwhitneyuResult(statistic=4537532.5, pvalue=2.7129372191728011e-244),\n",
       "  MannwhitneyuResult(statistic=4499665.5, pvalue=2.2643471952623473e-246),\n",
       "  MannwhitneyuResult(statistic=4462823.5, pvalue=2.1095410622128097e-248),\n",
       "  MannwhitneyuResult(statistic=4426520.5, pvalue=2.0650157949572666e-250),\n",
       "  MannwhitneyuResult(statistic=4391179.5, pvalue=2.2442178456836528e-252),\n",
       "  MannwhitneyuResult(statistic=4356716.5, pvalue=2.6825597306360525e-254),\n",
       "  MannwhitneyuResult(statistic=4322598.5, pvalue=3.2963746343420574e-256),\n",
       "  MannwhitneyuResult(statistic=4289800.5, pvalue=4.7276601220053265e-258),\n",
       "  MannwhitneyuResult(statistic=4257286.5, pvalue=6.9285825463513294e-260),\n",
       "  MannwhitneyuResult(statistic=4225146.5, pvalue=1.0502823212351605e-261),\n",
       "  MannwhitneyuResult(statistic=4193970.5, pvalue=1.7800247510747399e-263),\n",
       "  MannwhitneyuResult(statistic=4163499.5, pvalue=3.2642016704228414e-265),\n",
       "  MannwhitneyuResult(statistic=4133126.5, pvalue=5.9840130535401096e-267),\n",
       "  MannwhitneyuResult(statistic=4103308.5, pvalue=1.1651666222383511e-268),\n",
       "  MannwhitneyuResult(statistic=4074258.5, pvalue=2.4805522318316763e-270),\n",
       "  MannwhitneyuResult(statistic=4045446.5, pvalue=5.3857335397899506e-272),\n",
       "  MannwhitneyuResult(statistic=4017272.5, pvalue=1.2583533208738035e-273),\n",
       "  MannwhitneyuResult(statistic=3989378.5, pvalue=3.0180918185246064e-275),\n",
       "  MannwhitneyuResult(statistic=3962120.5, pvalue=7.7973491245519658e-277),\n",
       "  MannwhitneyuResult(statistic=3935039.5, pvalue=2.0413443580022076e-278),\n",
       "  MannwhitneyuResult(statistic=3908238.5, pvalue=5.4925270145135955e-280),\n",
       "  MannwhitneyuResult(statistic=3882141.5, pvalue=1.6091574460882852e-281),\n",
       "  MannwhitneyuResult(statistic=3856293.5, pvalue=4.8294400123646053e-283),\n",
       "  MannwhitneyuResult(statistic=3830764.5, pvalue=1.4994321357778801e-284),\n",
       "  MannwhitneyuResult(statistic=3805050.5, pvalue=4.497279630316555e-286),\n",
       "  MannwhitneyuResult(statistic=3780031.5, pvalue=1.4696253438521396e-287),\n",
       "  MannwhitneyuResult(statistic=3755402.5, pvalue=5.021550762377861e-289),\n",
       "  MannwhitneyuResult(statistic=3730993.5, pvalue=1.7533228509522238e-290),\n",
       "  MannwhitneyuResult(statistic=3706947.5, pvalue=6.3818459916296005e-292),\n",
       "  MannwhitneyuResult(statistic=3682853.5, pvalue=2.288587820438134e-293),\n",
       "  MannwhitneyuResult(statistic=3659382.5, pvalue=8.8737230241649157e-295),\n",
       "  MannwhitneyuResult(statistic=3636016.5, pvalue=3.4639400696754789e-296),\n",
       "  MannwhitneyuResult(statistic=3612535.5, pvalue=1.3203740623079337e-297),\n",
       "  MannwhitneyuResult(statistic=3589356.5, pvalue=5.2086367388621329e-299),\n",
       "  MannwhitneyuResult(statistic=3566273.5, pvalue=2.0666167459618921e-300),\n",
       "  MannwhitneyuResult(statistic=3543434.5, pvalue=8.420987504985267e-302),\n",
       "  MannwhitneyuResult(statistic=3520727.5, pvalue=3.4697427668134218e-303),\n",
       "  MannwhitneyuResult(statistic=3498225.5, pvalue=1.4607856761268325e-304),\n",
       "  MannwhitneyuResult(statistic=3475962.5, pvalue=6.315417914205424e-306),\n",
       "  MannwhitneyuResult(statistic=3453648.5, pvalue=2.6916159438032698e-307),\n",
       "  MannwhitneyuResult(statistic=3431447.5, pvalue=1.1574551628395813e-308),\n",
       "  MannwhitneyuResult(statistic=3409263.5, pvalue=4.9544245730548895e-310),\n",
       "  MannwhitneyuResult(statistic=3387107.5, pvalue=0.0),\n",
       "  MannwhitneyuResult(statistic=3365065.5, pvalue=0.0),\n",
       "  MannwhitneyuResult(statistic=3342832.5, pvalue=0.0),\n",
       "  MannwhitneyuResult(statistic=3320711.5, pvalue=0.0),\n",
       "  MannwhitneyuResult(statistic=3298491.5, pvalue=0.0),\n",
       "  MannwhitneyuResult(statistic=3276317.5, pvalue=0.0),\n",
       "  MannwhitneyuResult(statistic=3253894.5, pvalue=0.0),\n",
       "  MannwhitneyuResult(statistic=3231344.5, pvalue=0.0),\n",
       "  MannwhitneyuResult(statistic=3208768.5, pvalue=0.0),\n",
       "  MannwhitneyuResult(statistic=3186314.5, pvalue=0.0),\n",
       "  MannwhitneyuResult(statistic=3164757.5, pvalue=0.0),\n",
       "  MannwhitneyuResult(statistic=3144586.5, pvalue=0.0),\n",
       "  MannwhitneyuResult(statistic=3126591.5, pvalue=0.0),\n",
       "  MannwhitneyuResult(statistic=3109188.5, pvalue=0.0)],\n",
       " 'tissue2': [MannwhitneyuResult(statistic=271872.5, pvalue=3.5455579394625298e-178),\n",
       "  MannwhitneyuResult(statistic=278248.0, pvalue=5.5295451328658089e-168),\n",
       "  MannwhitneyuResult(statistic=283980.0, pvalue=1.5440502336068663e-167),\n",
       "  MannwhitneyuResult(statistic=289870.0, pvalue=4.4289605102254571e-167),\n",
       "  MannwhitneyuResult(statistic=295953.0, pvalue=1.3130258436122169e-166),\n",
       "  MannwhitneyuResult(statistic=302124.0, pvalue=3.9480486788087909e-166),\n",
       "  MannwhitneyuResult(statistic=308532.0, pvalue=1.2362838045408643e-165),\n",
       "  MannwhitneyuResult(statistic=315235.0, pvalue=4.072618325272762e-165),\n",
       "  MannwhitneyuResult(statistic=322028.0, pvalue=1.3606439227519057e-164),\n",
       "  MannwhitneyuResult(statistic=329103.0, pvalue=4.7694419639871149e-164),\n",
       "  MannwhitneyuResult(statistic=336278.0, pvalue=1.6980753083677832e-163),\n",
       "  MannwhitneyuResult(statistic=343527.0, pvalue=6.1119537976594423e-163),\n",
       "  MannwhitneyuResult(statistic=350943.0, pvalue=2.2606059991719017e-162),\n",
       "  MannwhitneyuResult(statistic=358626.0, pvalue=8.7430428890368799e-162),\n",
       "  MannwhitneyuResult(statistic=366370.0, pvalue=3.409370966156381e-161),\n",
       "  MannwhitneyuResult(statistic=374367.0, pvalue=1.3862638485991455e-160),\n",
       "  MannwhitneyuResult(statistic=382306.0, pvalue=5.5647411420843462e-160),\n",
       "  MannwhitneyuResult(statistic=390402.0, pvalue=2.2897925014072392e-159),\n",
       "  MannwhitneyuResult(statistic=398803.0, pvalue=9.9089378867624973e-159),\n",
       "  MannwhitneyuResult(statistic=407500.0, pvalue=4.5010947002585327e-158),\n",
       "  MannwhitneyuResult(statistic=416062.0, pvalue=1.9909391725650191e-157),\n",
       "  MannwhitneyuResult(statistic=424780.0, pvalue=9.0196289038251735e-157),\n",
       "  MannwhitneyuResult(statistic=433672.0, pvalue=4.1974554568975758e-156),\n",
       "  MannwhitneyuResult(statistic=442843.0, pvalue=2.0427968623036557e-155),\n",
       "  MannwhitneyuResult(statistic=452027.0, pvalue=9.9288817160204373e-155),\n",
       "  MannwhitneyuResult(statistic=461623.0, pvalue=5.1610238736807314e-154),\n",
       "  MannwhitneyuResult(statistic=471335.0, pvalue=2.7259239040045044e-153),\n",
       "  MannwhitneyuResult(statistic=480967.0, pvalue=1.4146137794625979e-152),\n",
       "  MannwhitneyuResult(statistic=490998.0, pvalue=7.8268321801372537e-152),\n",
       "  MannwhitneyuResult(statistic=501153.0, pvalue=4.4040063222225735e-151),\n",
       "  MannwhitneyuResult(statistic=511441.0, pvalue=2.5235801662085119e-150),\n",
       "  MannwhitneyuResult(statistic=521898.0, pvalue=1.4813627225701629e-149),\n",
       "  MannwhitneyuResult(statistic=532574.0, pvalue=8.9814177763986325e-149),\n",
       "  MannwhitneyuResult(statistic=543467.0, pvalue=5.6207408064698008e-148),\n",
       "  MannwhitneyuResult(statistic=554488.0, pvalue=3.5760002130487643e-147),\n",
       "  MannwhitneyuResult(statistic=565758.0, pvalue=2.3597473605623726e-146),\n",
       "  MannwhitneyuResult(statistic=577310.0, pvalue=1.6234280627648706e-145),\n",
       "  MannwhitneyuResult(statistic=588974.0, pvalue=1.1314894594996124e-144),\n",
       "  MannwhitneyuResult(statistic=600850.0, pvalue=8.1216341448349782e-144),\n",
       "  MannwhitneyuResult(statistic=612913.0, pvalue=5.9769587723798076e-143),\n",
       "  MannwhitneyuResult(statistic=625161.0, pvalue=4.5070722642847164e-142),\n",
       "  MannwhitneyuResult(statistic=637670.0, pvalue=3.5251763955649714e-141),\n",
       "  MannwhitneyuResult(statistic=650634.0, pvalue=2.9508471723660759e-140),\n",
       "  MannwhitneyuResult(statistic=663702.0, pvalue=2.4946621151826487e-139),\n",
       "  MannwhitneyuResult(statistic=677028.0, pvalue=2.1835893100405295e-138),\n",
       "  MannwhitneyuResult(statistic=690553.0, pvalue=1.9592355887797377e-137),\n",
       "  MannwhitneyuResult(statistic=704355.0, pvalue=1.8242228910309782e-136),\n",
       "  MannwhitneyuResult(statistic=718763.0, pvalue=1.8574045393364813e-135),\n",
       "  MannwhitneyuResult(statistic=733456.0, pvalue=1.9623211565304311e-134),\n",
       "  MannwhitneyuResult(statistic=748205.0, pvalue=2.0728826328080545e-133),\n",
       "  MannwhitneyuResult(statistic=763170.0, pvalue=2.2455187177251573e-132),\n",
       "  MannwhitneyuResult(statistic=778653.0, pvalue=2.6156217938617049e-131),\n",
       "  MannwhitneyuResult(statistic=794636.0, pvalue=3.2634639183755417e-130),\n",
       "  MannwhitneyuResult(statistic=810829.0, pvalue=4.1632421460409365e-129),\n",
       "  MannwhitneyuResult(statistic=827475.0, pvalue=5.6380872053224849e-128),\n",
       "  MannwhitneyuResult(statistic=844310.0, pvalue=7.7721283530900598e-127),\n",
       "  MannwhitneyuResult(statistic=861793.0, pvalue=1.1703957276753731e-125),\n",
       "  MannwhitneyuResult(statistic=879682.0, pvalue=1.8522740061295672e-124),\n",
       "  MannwhitneyuResult(statistic=897951.0, pvalue=3.0657012869354288e-123),\n",
       "  MannwhitneyuResult(statistic=916746.0, pvalue=5.4211696060870153e-122),\n",
       "  MannwhitneyuResult(statistic=935986.0, pvalue=1.0104611292573784e-120),\n",
       "  MannwhitneyuResult(statistic=956146.0, pvalue=2.1303442757657223e-119),\n",
       "  MannwhitneyuResult(statistic=976631.0, pvalue=4.6358499078501847e-118),\n",
       "  MannwhitneyuResult(statistic=997642.0, pvalue=1.0720260753624163e-116),\n",
       "  MannwhitneyuResult(statistic=1019413.0, pvalue=2.7235016630697029e-115),\n",
       "  MannwhitneyuResult(statistic=1041709.0, pvalue=7.3277192753626609e-114),\n",
       "  MannwhitneyuResult(statistic=1064713.0, pvalue=2.1414636308143794e-112),\n",
       "  MannwhitneyuResult(statistic=1088482.0, pvalue=6.8400234735172017e-111),\n",
       "  MannwhitneyuResult(statistic=1112891.0, pvalue=2.3398416264070723e-109),\n",
       "  MannwhitneyuResult(statistic=1138503.0, pvalue=9.27347670232851e-108),\n",
       "  MannwhitneyuResult(statistic=1164956.0, pvalue=4.0291554621109297e-106),\n",
       "  MannwhitneyuResult(statistic=1192330.0, pvalue=1.9354345065494027e-104),\n",
       "  MannwhitneyuResult(statistic=1220817.0, pvalue=1.052456661933079e-102),\n",
       "  MannwhitneyuResult(statistic=1250531.0, pvalue=6.5555761094282432e-101),\n",
       "  MannwhitneyuResult(statistic=1281682.0, pvalue=4.791930634584618e-99),\n",
       "  MannwhitneyuResult(statistic=1313795.0, pvalue=3.8322074243356085e-97),\n",
       "  MannwhitneyuResult(statistic=1346838.0, pvalue=3.3255978332037127e-95),\n",
       "  MannwhitneyuResult(statistic=1381827.0, pvalue=3.5706740451800511e-93),\n",
       "  MannwhitneyuResult(statistic=1418487.0, pvalue=4.5360490767661024e-91),\n",
       "  MannwhitneyuResult(statistic=1457361.0, pvalue=7.2594327137744634e-89),\n",
       "  MannwhitneyuResult(statistic=1497981.0, pvalue=1.3636336645488389e-86),\n",
       "  MannwhitneyuResult(statistic=1541113.0, pvalue=3.2823471093910664e-84),\n",
       "  MannwhitneyuResult(statistic=1586821.0, pvalue=1.0066909892033582e-81),\n",
       "  MannwhitneyuResult(statistic=1635093.0, pvalue=3.8704424118431342e-79),\n",
       "  MannwhitneyuResult(statistic=1686491.0, pvalue=1.9648890011121379e-76),\n",
       "  MannwhitneyuResult(statistic=1741570.0, pvalue=1.3780050020397269e-73),\n",
       "  MannwhitneyuResult(statistic=1800262.0, pvalue=1.2912672552922967e-70),\n",
       "  MannwhitneyuResult(statistic=1864115.0, pvalue=1.8742443913796383e-67),\n",
       "  MannwhitneyuResult(statistic=1933320.0, pvalue=4.1284748839828472e-64),\n",
       "  MannwhitneyuResult(statistic=2008126.0, pvalue=1.3527477614830904e-60),\n",
       "  MannwhitneyuResult(statistic=2090492.0, pvalue=7.6570999119548965e-57),\n",
       "  MannwhitneyuResult(statistic=2180517.0, pvalue=6.9924374719625493e-53),\n",
       "  MannwhitneyuResult(statistic=2281670.0, pvalue=1.3146347453795171e-48),\n",
       "  MannwhitneyuResult(statistic=2395409.0, pvalue=5.0407437373128855e-44),\n",
       "  MannwhitneyuResult(statistic=2524500.0, pvalue=4.1677440412651967e-39),\n",
       "  MannwhitneyuResult(statistic=2675181.0, pvalue=9.4787268776320581e-34),\n",
       "  MannwhitneyuResult(statistic=2854090.0, pvalue=6.3380603820780527e-28),\n",
       "  MannwhitneyuResult(statistic=3074812.0, pvalue=1.5460859969970604e-21),\n",
       "  MannwhitneyuResult(statistic=3364442.0, pvalue=1.7170666687815031e-14),\n",
       "  MannwhitneyuResult(statistic=3797098.0, pvalue=9.0180694805364143e-07),\n",
       "  MannwhitneyuResult(statistic=4002875.5, pvalue=0.00028461459813484068)]}"
      ]
     },
     "execution_count": 272,
     "metadata": {},
     "output_type": "execute_result"
    }
   ],
   "source": [
    "wmw_res = {\n",
    "    tissue:  [mannwhitneyu(s_mixed[~ind[tissue]], s_mixed[ind[tissue]]) for s_mixed in mixed] for \n",
    "    tissue in ind\n",
    "}\n",
    "wmw_res"
   ]
  },
  {
   "cell_type": "code",
   "execution_count": 273,
   "metadata": {
    "collapsed": false
   },
   "outputs": [
    {
     "data": {
      "text/plain": [
       "{'tissue1': (0.78534358781967106, 2948947.0, 0.0),\n",
       " 'tissue2': (0.96504720815356715, 159874.0, 2.6432426401328698e-187)}"
      ]
     },
     "execution_count": 273,
     "metadata": {},
     "output_type": "execute_result"
    }
   ],
   "source": [
    "wmw_exp = {}\n",
    "for tissue in ind:\n",
    "    y = np.repeat(np.percentile(s[tissue], (1- rel_rk[tissue]) * 100), size[tissue])\n",
    "    u, p = mannwhitneyu(s[tissue], y)\n",
    "    wmw_exp[tissue] = (wmw_r(s[tissue], y, u), u, p) \n",
    "wmw_exp"
   ]
  },
  {
   "cell_type": "code",
   "execution_count": 274,
   "metadata": {
    "collapsed": false
   },
   "outputs": [
    {
     "data": {
      "text/plain": [
       "{'tissue1': 2579147.5, 'tissue2': 118690.0}"
      ]
     },
     "execution_count": 274,
     "metadata": {},
     "output_type": "execute_result"
    }
   ],
   "source": [
    "u_exp = {\n",
    "    tissue: wmw_u_exp(rel_rk[tissue], size[tissue], s[tissue].size) for tissue in ind\n",
    "}\n",
    "u_exp"
   ]
  },
  {
   "cell_type": "markdown",
   "metadata": {},
   "source": [
    "## BioQC score, corrected and uncorrected"
   ]
  },
  {
   "cell_type": "code",
   "execution_count": 275,
   "metadata": {
    "collapsed": false
   },
   "outputs": [
    {
     "name": "stderr",
     "output_type": "stream",
     "text": [
      "/pstore/apps/Anaconda3/4.1.1/lib/python3.5/site-packages/ipykernel/__main__.py:2: RuntimeWarning: divide by zero encountered in log10\n",
      "  from ipykernel import kernelapp as app\n",
      "/pstore/apps/Anaconda3/4.1.1/lib/python3.5/site-packages/ipykernel/__main__.py:2: RuntimeWarning: invalid value encountered in double_scalars\n",
      "  from ipykernel import kernelapp as app\n",
      "/pstore/apps/Anaconda3/4.1.1/lib/python3.5/site-packages/ipykernel/__main__.py:5: RuntimeWarning: divide by zero encountered in log10\n"
     ]
    }
   ],
   "source": [
    "wmw_score_corr = {\n",
    "    tissue: [-np.log10(p) / -np.log10(wmw_exp[tissue][2]) for u, p in res] for tissue, res in wmw_res.items()\n",
    "}\n",
    "wmw_score = {\n",
    "    tissue: [-np.log10(p) for u, p in res] for tissue, res in wmw_res.items()\n",
    "}"
   ]
  },
  {
   "cell_type": "code",
   "execution_count": 276,
   "metadata": {
    "collapsed": false
   },
   "outputs": [
    {
     "data": {
      "text/plain": [
       "<matplotlib.axes._subplots.AxesSubplot at 0x7fff44cbcf98>"
      ]
     },
     "execution_count": 276,
     "metadata": {},
     "output_type": "execute_result"
    },
    {
     "data": {
      "image/png": "[encoded data removed]",
      "text/plain": [
       "<matplotlib.figure.Figure at 0x7fff6f16d780>"
      ]
     },
     "metadata": {},
     "output_type": "display_data"
    }
   ],
   "source": [
    "fix, (ax1, ax2) = subplots(1, 2, figsize=(14, 4))\n",
    "pd.DataFrame(wmw_score).plot(ax=ax1)\n",
    "pd.DataFrame(wmw_score_corr).plot(ax=ax2)"
   ]
  },
  {
   "cell_type": "markdown",
   "metadata": {},
   "source": [
    "## $r$ effect size, corrected and uncorrected"
   ]
  },
  {
   "cell_type": "code",
   "execution_count": 277,
   "metadata": {
    "collapsed": false
   },
   "outputs": [],
   "source": [
    "r = {\n",
    "    tissue: [wmw_r(s_mixed[~ind[tissue]], s_mixed[ind[tissue]], u) for u, p in res]\n",
    "    for s_mixed, (tissue, res) in zip(mixed, wmw_res.items())\n",
    "}\n",
    "r_corr = {\n",
    "    tissue: [wmw_r(s_mixed[~ind[tissue]], s_mixed[ind[tissue]], u) / wmw_exp[tissue][0] for u, p in res]\n",
    "    for s_mixed, (tissue, res) in zip(mixed, wmw_res.items())\n",
    "}\n",
    "r_corr_u = {\n",
    "    tissue: [wmw_r_corr(s_mixed[~ind[tissue]], s_mixed[ind[tissue]], u, u_exp[tissue]) for u, p in res]\n",
    "    for s_mixed, (tissue, res) in zip(mixed, wmw_res.items())\n",
    "}"
   ]
  },
  {
   "cell_type": "code",
   "execution_count": 278,
   "metadata": {
    "collapsed": false
   },
   "outputs": [
    {
     "data": {
      "text/plain": [
       "<matplotlib.axes._subplots.AxesSubplot at 0x7fff44ba35f8>"
      ]
     },
     "execution_count": 278,
     "metadata": {},
     "output_type": "execute_result"
    },
    {
     "data": {
      "image/png": "[encoded data removed]",
      "text/plain": [
       "<matplotlib.figure.Figure at 0x7fff44cef320>"
      ]
     },
     "metadata": {},
     "output_type": "display_data"
    }
   ],
   "source": [
    "fix, (ax1, ax2) = subplots(1, 2, figsize=(14, 4))\n",
    "pd.DataFrame(r).plot(ax=ax1)\n",
    "pd.DataFrame(r_corr).plot(ax=ax2)"
   ]
  },
  {
   "cell_type": "code",
   "execution_count": 279,
   "metadata": {
    "collapsed": false
   },
   "outputs": [
    {
     "data": {
      "text/plain": [
       "<matplotlib.axes._subplots.AxesSubplot at 0x7fff44b81160>"
      ]
     },
     "execution_count": 279,
     "metadata": {},
     "output_type": "execute_result"
    },
    {
     "data": {
      "image/png": "[encoded data removed]",
      "text/plain": [
       "<matplotlib.figure.Figure at 0x7fff44c33e10>"
      ]
     },
     "metadata": {},
     "output_type": "display_data"
    }
   ],
   "source": [
    "pd.DataFrame(r_corr_u).plot()"
   ]
  },
  {
   "cell_type": "code",
   "execution_count": 127,
   "metadata": {
    "collapsed": false
   },
   "outputs": [],
   "source": [
    "d = stats.gaussian_kde([x for x in mixed[-1] if 0 <= x <= 70])"
   ]
  },
  {
   "cell_type": "code",
   "execution_count": 128,
   "metadata": {
    "collapsed": true
   },
   "outputs": [],
   "source": [
    "xs = np.linspace(0, 20, 500)"
   ]
  },
  {
   "cell_type": "code",
   "execution_count": 129,
   "metadata": {
    "collapsed": false
   },
   "outputs": [
    {
     "data": {
      "text/plain": [
       "[<matplotlib.lines.Line2D at 0x7ffebb677198>]"
      ]
     },
     "execution_count": 129,
     "metadata": {},
     "output_type": "execute_result"
    },
    {
     "data": {
      "image/png": "[encoded data removed]",
      "text/plain": [
       "<matplotlib.figure.Figure at 0x7ffebb9ada20>"
      ]
     },
     "metadata": {},
     "output_type": "display_data"
    }
   ],
   "source": [
    "plot(xs, d(xs))"
   ]
  },
  {
   "cell_type": "code",
   "execution_count": 130,
   "metadata": {
    "collapsed": true
   },
   "outputs": [],
   "source": [
    "densities = {\n",
    "    tissue: [d(np.median(mixed_s[ind[tissue]]))[0] for mixed_s in mixed] for tissue in s\n",
    "}"
   ]
  },
  {
   "cell_type": "code",
   "execution_count": 131,
   "metadata": {
    "collapsed": true
   },
   "outputs": [],
   "source": [
    "r_density = {\n",
    "    tissue: [r / d for r, d in zip(r_corr_u[tissue], densities[tissue])] for tissue in s\n",
    "}"
   ]
  },
  {
   "cell_type": "code",
   "execution_count": 132,
   "metadata": {
    "collapsed": false
   },
   "outputs": [
    {
     "data": {
      "text/plain": [
       "<matplotlib.axes._subplots.AxesSubplot at 0x7ffebb84e550>"
      ]
     },
     "execution_count": 132,
     "metadata": {},
     "output_type": "execute_result"
    },
    {
     "data": {
      "image/png": "[encoded data removed]",
      "text/plain": [
       "<matplotlib.figure.Figure at 0x7ffebb8ae320>"
      ]
     },
     "metadata": {},
     "output_type": "display_data"
    }
   ],
   "source": [
    "pd.DataFrame(r_density).plot()"
   ]
  },
  {
   "cell_type": "code",
   "execution_count": null,
   "metadata": {
    "collapsed": true
   },
   "outputs": [],
   "source": []
  }
 ],
 "metadata": {
  "anaconda-cloud": {},
  "kernelspec": {
   "display_name": "Python [Root]",
   "language": "python",
   "name": "Python [Root]"
  },
  "language_info": {
   "codemirror_mode": {
    "name": "ipython",
    "version": 3
   },
   "file_extension": ".py",
   "mimetype": "text/x-python",
   "name": "python",
   "nbconvert_exporter": "python",
   "pygments_lexer": "ipython3",
   "version": "3.5.2"
  }
 },
 "nbformat": 4,
 "nbformat_minor": 0
}
