{
 "cells": [
  {
   "cell_type": "code",
   "execution_count": 2,
   "metadata": {
    "collapsed": false
   },
   "outputs": [
    {
     "name": "stdout",
     "output_type": "stream",
     "text": [
      "The autoreload extension is already loaded. To reload it, use:\n",
      "  %reload_ext autoreload\n"
     ]
    }
   ],
   "source": [
    "%load_ext autoreload\n",
    "%autoreload 1\n",
    "%aimport pygenesig.pybioqc\n",
    "%aimport pygenesig.tools\n",
    "%aimport pygenesig.file_formats\n",
    "%matplotlib inline\n",
    "\n",
    "\n",
    "from pygenesig.pybioqc import * \n",
    "from pygenesig.bioqc import * \n",
    "from pygenesig.tools import * \n",
    "from pygenesig.file_formats import * \n",
    "from scipy.stats import mannwhitneyu\n",
    "import pandas as pd\n",
    "from pylab import * \n",
    "import seaborn as sns"
   ]
  },
  {
   "cell_type": "code",
   "execution_count": 3,
   "metadata": {
    "collapsed": false
   },
   "outputs": [],
   "source": [
    "exprs = read_expr(\"../pygenesig-example/data_processed/v6/exprs.npy\")\n",
    "target = read_target(\"../pygenesig-example/data_processed/v6/target.csv\")\n",
    "rosetta = read_rosetta(\"../pygenesig-example/data_processed/v6/rosetta.csv\", inverse=True)"
   ]
  },
  {
   "cell_type": "code",
   "execution_count": 70,
   "metadata": {
    "collapsed": false
   },
   "outputs": [],
   "source": [
    "signatures = load_gmt(\"../pygenesig-example/results/gtex_v6_solid_gini_0.8_1/signatures.gmt\")\n",
    "signatures_ind = translate_signatures(signatures, rosetta, ignore_missing=True)\n",
    "signatures_ind = {\n",
    "    tissue: np.array(inds) for tissue, inds in signatures_ind.items()\n",
    "}"
   ]
  },
  {
   "cell_type": "code",
   "execution_count": 71,
   "metadata": {
    "collapsed": false
   },
   "outputs": [
    {
     "data": {
      "text/plain": [
       "array(['Adipose_Subcutaneous', 'Adipose_Subcutaneous',\n",
       "       'Adipose_Subcutaneous', ..., 'Whole_Blood', 'Whole_Blood',\n",
       "       'Whole_Blood'], \n",
       "      dtype='<U37')"
      ]
     },
     "execution_count": 71,
     "metadata": {},
     "output_type": "execute_result"
    }
   ],
   "source": [
    "target"
   ]
  },
  {
   "cell_type": "code",
   "execution_count": 310,
   "metadata": {
    "collapsed": true
   },
   "outputs": [],
   "source": [
    "target_name = {\n",
    "    'tissue1': 'Liver',\n",
    "    'tissue2': 'Uterus'\n",
    "}"
   ]
  },
  {
   "cell_type": "code",
   "execution_count": 311,
   "metadata": {
    "collapsed": true
   },
   "outputs": [],
   "source": [
    "sig_name = {\n",
    "    'tissue1': 'Liver',\n",
    "    'tissue2': 'Uterus'\n",
    "}"
   ]
  },
  {
   "cell_type": "code",
   "execution_count": 312,
   "metadata": {
    "collapsed": false
   },
   "outputs": [
    {
     "data": {
      "text/plain": [
       "(array([4789, 4790, 4791, 4792, 4793, 4794, 4795, 4796, 4797, 4798, 4799,\n",
       "        4800, 4801, 4802, 4803, 4804, 4805, 4806, 4807, 4808, 4809, 4810,\n",
       "        4811, 4812, 4813, 4814, 4815, 4816, 4817, 4818, 4819, 4820, 4821,\n",
       "        4822, 4823, 4824, 4825, 4826, 4827, 4828, 4829, 4830, 4831, 4832,\n",
       "        4833, 4834, 4835, 4836, 4837, 4838, 4839, 4840, 4841, 4842, 4843,\n",
       "        4844, 4845, 4846, 4847, 4848, 4849, 4850, 4851, 4852, 4853, 4854,\n",
       "        4855, 4856, 4857, 4858, 4859, 4860, 4861, 4862, 4863, 4864, 4865,\n",
       "        4866, 4867, 4868, 4869, 4870, 4871, 4872, 4873, 4874, 4875, 4876,\n",
       "        4877, 4878, 4879, 4880, 4881, 4882, 4883, 4884, 4885, 4886, 4887,\n",
       "        4888, 4889, 4890, 4891, 4892, 4893, 4894, 4895, 4896, 4897, 4898,\n",
       "        4899, 4900, 4901, 4902, 4903, 4904, 4905, 4906, 4907]),)"
      ]
     },
     "execution_count": 312,
     "metadata": {},
     "output_type": "execute_result"
    }
   ],
   "source": [
    "np.where(target == target_name['tissue1'])"
   ]
  },
  {
   "cell_type": "code",
   "execution_count": 313,
   "metadata": {
    "collapsed": false
   },
   "outputs": [
    {
     "data": {
      "text/plain": [
       "(array([7983, 7984, 7985, 7986, 7987, 7988, 7989, 7990, 7991, 7992, 7993,\n",
       "        7994, 7995, 7996, 7997, 7998, 7999, 8000, 8001, 8002, 8003, 8004,\n",
       "        8005, 8006, 8007, 8008, 8009, 8010, 8011, 8012, 8013, 8014, 8015,\n",
       "        8016, 8017, 8018, 8019, 8020, 8021, 8022, 8023, 8024, 8025, 8026,\n",
       "        8027, 8028, 8029, 8030, 8031, 8032, 8033, 8034, 8035, 8036, 8037,\n",
       "        8038, 8039, 8040, 8041, 8042, 8043, 8044, 8045, 8046, 8047, 8048,\n",
       "        8049, 8050, 8051, 8052, 8053, 8054, 8055, 8056, 8057, 8058, 8059,\n",
       "        8060, 8061, 8062, 8063, 8064, 8065]),)"
      ]
     },
     "execution_count": 313,
     "metadata": {},
     "output_type": "execute_result"
    }
   ],
   "source": [
    "np.where(target == target_name['tissue2'])"
   ]
  },
  {
   "cell_type": "code",
   "execution_count": 314,
   "metadata": {
    "collapsed": false
   },
   "outputs": [
    {
     "data": {
      "text/plain": [
       "{'tissue1': 4789, 'tissue2': 7983}"
      ]
     },
     "execution_count": 314,
     "metadata": {},
     "output_type": "execute_result"
    }
   ],
   "source": [
    "s_ind = {\n",
    "    'tissue1': np.flatnonzero(target == target_name['tissue1'])[0],\n",
    "    'tissue2': np.flatnonzero(target == target_name['tissue2'])[0]\n",
    "}\n",
    "s_ind"
   ]
  },
  {
   "cell_type": "code",
   "execution_count": 315,
   "metadata": {
    "collapsed": false
   },
   "outputs": [],
   "source": [
    "s = {\n",
    "    tissue: exprs[:, i] for tissue, i in s_ind.items()\n",
    "}"
   ]
  },
  {
   "cell_type": "code",
   "execution_count": 316,
   "metadata": {
    "collapsed": false
   },
   "outputs": [],
   "source": [
    "ind = {\n",
    "    tissue: np.array([True if i in signatures_ind[name] else False for i in range(exprs.shape[0])])\n",
    "    for tissue, name in sig_name.items()\n",
    "}"
   ]
  },
  {
   "cell_type": "code",
   "execution_count": 332,
   "metadata": {
    "collapsed": false
   },
   "outputs": [
    {
     "data": {
      "text/plain": [
       "{'tissue1': 0.02013380854123679, 'tissue2': 0.09816794847745888}"
      ]
     },
     "execution_count": 332,
     "metadata": {},
     "output_type": "execute_result"
    }
   ],
   "source": [
    "rel_rk = {\n",
    "    tissue: pd.DataFrame(exprs[:, target == target_name[tissue]]).rank(\n",
    "        axis=0, ascending=False).iloc[ind[tissue], :].median(axis=0).median() / exprs.shape[0] for tissue in s\n",
    "}\n",
    "rel_rk"
   ]
  },
  {
   "cell_type": "code",
   "execution_count": 333,
   "metadata": {
    "collapsed": false
   },
   "outputs": [
    {
     "data": {
      "text/plain": [
       "{'tissue1': 322, 'tissue2': 45}"
      ]
     },
     "execution_count": 333,
     "metadata": {},
     "output_type": "execute_result"
    }
   ],
   "source": [
    "size = {\n",
    "    tissue: sum(t_ind) for tissue, t_ind in ind.items()\n",
    "}\n",
    "size"
   ]
  },
  {
   "cell_type": "code",
   "execution_count": 334,
   "metadata": {
    "collapsed": false
   },
   "outputs": [
    {
     "data": {
      "text/plain": [
       "0.0054794520547945206"
      ]
     },
     "execution_count": 334,
     "metadata": {},
     "output_type": "execute_result"
    }
   ],
   "source": [
    "overlap = jaccard_ind(*(signatures_ind[sig_name[tissue]] for tissue in s))\n",
    "overlap"
   ]
  },
  {
   "cell_type": "code",
   "execution_count": 335,
   "metadata": {
    "collapsed": true
   },
   "outputs": [],
   "source": [
    "def mix(x, y, prop_x):\n",
    "    return x * prop_x + y * (1 - prop_x)"
   ]
  },
  {
   "cell_type": "code",
   "execution_count": 336,
   "metadata": {
    "collapsed": true
   },
   "outputs": [],
   "source": [
    "def wmw_r_corr(x, y, u, u_exp):\n",
    "    return 1 - (2 * (u - u_exp)) / (x.size * y.size)"
   ]
  },
  {
   "cell_type": "code",
   "execution_count": 337,
   "metadata": {
    "collapsed": false
   },
   "outputs": [],
   "source": [
    "mixed = [mix(s['tissue1'], s['tissue2'], f) for f in np.arange(0, 1.01, 0.01)]"
   ]
  },
  {
   "cell_type": "code",
   "execution_count": 338,
   "metadata": {
    "collapsed": false
   },
   "outputs": [
    {
     "data": {
      "text/plain": [
       "{'tissue1': [MannwhitneyuResult(statistic=4562563.5, pvalue=0.00058216796671935916),\n",
       "  MannwhitneyuResult(statistic=3876008.0, pvalue=6.2265686131398418e-14),\n",
       "  MannwhitneyuResult(statistic=3447765.0, pvalue=6.9197744021224482e-24),\n",
       "  MannwhitneyuResult(statistic=3162732.0, pvalue=4.044727658176028e-32),\n",
       "  MannwhitneyuResult(statistic=2945691.0, pvalue=2.9731939372038026e-39),\n",
       "  MannwhitneyuResult(statistic=2769686.0, pvalue=1.3765140554014919e-45),\n",
       "  MannwhitneyuResult(statistic=2622380.0, pvalue=2.8745255890793199e-51),\n",
       "  MannwhitneyuResult(statistic=2495753.0, pvalue=1.9943654605369876e-56),\n",
       "  MannwhitneyuResult(statistic=2384514.0, pvalue=3.6088410881686334e-61),\n",
       "  MannwhitneyuResult(statistic=2285224.0, pvalue=1.4385994225750412e-65),\n",
       "  MannwhitneyuResult(statistic=2196047.0, pvalue=1.1824295447127e-69),\n",
       "  MannwhitneyuResult(statistic=2115466.0, pvalue=1.8725826482095101e-73),\n",
       "  MannwhitneyuResult(statistic=2041480.0, pvalue=4.9208673072666068e-77),\n",
       "  MannwhitneyuResult(statistic=1973439.0, pvalue=2.1006209481614544e-80),\n",
       "  MannwhitneyuResult(statistic=1910471.0, pvalue=1.3745493141108918e-83),\n",
       "  MannwhitneyuResult(statistic=1852337.0, pvalue=1.3877732644860989e-86),\n",
       "  MannwhitneyuResult(statistic=1797823.0, pvalue=1.9234778178346895e-89),\n",
       "  MannwhitneyuResult(statistic=1746815.0, pvalue=3.6879062116415249e-92),\n",
       "  MannwhitneyuResult(statistic=1698841.0, pvalue=9.4026517765907132e-95),\n",
       "  MannwhitneyuResult(statistic=1653207.0, pvalue=2.9660099062402183e-97),\n",
       "  MannwhitneyuResult(statistic=1610664.0, pvalue=1.2900288487208163e-99),\n",
       "  MannwhitneyuResult(statistic=1570009.0, pvalue=6.7121874580523047e-102),\n",
       "  MannwhitneyuResult(statistic=1531143.0, pvalue=4.1589369654832256e-104),\n",
       "  MannwhitneyuResult(statistic=1494193.0, pvalue=3.1449094138623788e-106),\n",
       "  MannwhitneyuResult(statistic=1458780.0, pvalue=2.7799929310182402e-108),\n",
       "  MannwhitneyuResult(statistic=1425381.0, pvalue=3.0827869554680717e-110),\n",
       "  MannwhitneyuResult(statistic=1393279.0, pvalue=3.9174159887101002e-112),\n",
       "  MannwhitneyuResult(statistic=1362319.0, pvalue=5.6096198014597561e-114),\n",
       "  MannwhitneyuResult(statistic=1332921.0, pvalue=9.6328396935157627e-116),\n",
       "  MannwhitneyuResult(statistic=1304472.0, pvalue=1.829924621262861e-117),\n",
       "  MannwhitneyuResult(statistic=1277006.0, pvalue=3.8756210927121023e-119),\n",
       "  MannwhitneyuResult(statistic=1250332.0, pvalue=8.9331727307217778e-121),\n",
       "  MannwhitneyuResult(statistic=1224562.0, pvalue=2.2823485410603099e-122),\n",
       "  MannwhitneyuResult(statistic=1199544.0, pvalue=6.3401423985594054e-124),\n",
       "  MannwhitneyuResult(statistic=1175605.0, pvalue=2.0118215291494207e-125),\n",
       "  MannwhitneyuResult(statistic=1152130.0, pvalue=6.6872464837987255e-127),\n",
       "  MannwhitneyuResult(statistic=1129663.0, pvalue=2.5243607524820122e-128),\n",
       "  MannwhitneyuResult(statistic=1107794.0, pvalue=1.0214100796742939e-129),\n",
       "  MannwhitneyuResult(statistic=1086291.0, pvalue=4.2866921887436573e-131),\n",
       "  MannwhitneyuResult(statistic=1065689.0, pvalue=2.0222104249559958e-132),\n",
       "  MannwhitneyuResult(statistic=1045486.0, pvalue=9.9687565111763514e-134),\n",
       "  MannwhitneyuResult(statistic=1025927.0, pvalue=5.3323722510092081e-135),\n",
       "  MannwhitneyuResult(statistic=1006840.0, pvalue=3.0199875855876887e-136),\n",
       "  MannwhitneyuResult(statistic=988000.0, pvalue=1.7519669347908756e-137),\n",
       "  MannwhitneyuResult(statistic=970110.0, pvalue=1.1591879636973022e-138),\n",
       "  MannwhitneyuResult(statistic=952343.0, pvalue=7.7239003890277983e-140),\n",
       "  MannwhitneyuResult(statistic=934645.0, pvalue=5.1413921661860577e-141),\n",
       "  MannwhitneyuResult(statistic=917663.0, pvalue=3.7777572823829105e-142),\n",
       "  MannwhitneyuResult(statistic=901274.0, pvalue=3.0103531727871464e-143),\n",
       "  MannwhitneyuResult(statistic=885362.0, pvalue=2.5578533418193318e-144),\n",
       "  MannwhitneyuResult(statistic=869573.0, pvalue=2.194914387358977e-145),\n",
       "  MannwhitneyuResult(statistic=854071.0, pvalue=1.9519779828673404e-146),\n",
       "  MannwhitneyuResult(statistic=839045.0, pvalue=1.854140296722578e-147),\n",
       "  MannwhitneyuResult(statistic=824132.0, pvalue=1.7780193231324475e-148),\n",
       "  MannwhitneyuResult(statistic=809603.0, pvalue=1.7969490278437045e-149),\n",
       "  MannwhitneyuResult(statistic=795339.0, pvalue=1.8793767982290511e-150),\n",
       "  MannwhitneyuResult(statistic=781365.0, pvalue=2.043048367712609e-151),\n",
       "  MannwhitneyuResult(statistic=767755.0, pvalue=2.336963629602509e-152),\n",
       "  MannwhitneyuResult(statistic=754353.0, pvalue=2.7449075301702042e-153),\n",
       "  MannwhitneyuResult(statistic=741067.0, pvalue=3.2630604166854825e-154),\n",
       "  MannwhitneyuResult(statistic=728186.0, pvalue=4.1136494977794064e-155),\n",
       "  MannwhitneyuResult(statistic=715507.0, pvalue=5.3253498786786937e-156),\n",
       "  MannwhitneyuResult(statistic=703070.0, pvalue=7.1272728571015262e-157),\n",
       "  MannwhitneyuResult(statistic=691003.0, pvalue=1.0072185638410997e-157),\n",
       "  MannwhitneyuResult(statistic=679047.0, pvalue=1.441615329124145e-158),\n",
       "  MannwhitneyuResult(statistic=667238.0, pvalue=2.1024045346807857e-159),\n",
       "  MannwhitneyuResult(statistic=655591.0, pvalue=3.1323750994398042e-160),\n",
       "  MannwhitneyuResult(statistic=644013.0, pvalue=4.6966061013979272e-161),\n",
       "  MannwhitneyuResult(statistic=632948.0, pvalue=7.624463817221583e-162),\n",
       "  MannwhitneyuResult(statistic=621826.0, pvalue=1.2206695897917683e-162),\n",
       "  MannwhitneyuResult(statistic=610967.0, pvalue=2.031870682839952e-163),\n",
       "  MannwhitneyuResult(statistic=600172.0, pvalue=3.4034414412787389e-164),\n",
       "  MannwhitneyuResult(statistic=589908.0, pvalue=6.1999144992060092e-165),\n",
       "  MannwhitneyuResult(statistic=579396.0, pvalue=1.0795475694290694e-165),\n",
       "  MannwhitneyuResult(statistic=569222.0, pvalue=1.9807417034478678e-166),\n",
       "  MannwhitneyuResult(statistic=559204.0, pvalue=3.716134207093522e-167),\n",
       "  MannwhitneyuResult(statistic=549080.0, pvalue=6.8239874487796677e-168),\n",
       "  MannwhitneyuResult(statistic=539265.0, pvalue=1.3148884868644323e-168),\n",
       "  MannwhitneyuResult(statistic=529623.0, pvalue=2.5992491472486705e-169),\n",
       "  MannwhitneyuResult(statistic=520151.0, pvalue=5.2695714507586541e-170),\n",
       "  MannwhitneyuResult(statistic=510675.0, pvalue=1.0640872775703188e-170),\n",
       "  MannwhitneyuResult(statistic=501420.0, pvalue=2.2233099887154284e-171),\n",
       "  MannwhitneyuResult(statistic=492405.0, pvalue=4.8232704976105587e-172),\n",
       "  MannwhitneyuResult(statistic=483445.0, pvalue=1.0530451057157026e-172),\n",
       "  MannwhitneyuResult(statistic=474731.0, pvalue=2.3903882822704825e-173),\n",
       "  MannwhitneyuResult(statistic=466037.0, pvalue=5.4295051923413159e-174),\n",
       "  MannwhitneyuResult(statistic=457598.0, pvalue=1.2846316368775811e-174),\n",
       "  MannwhitneyuResult(statistic=449303.0, pvalue=3.1072115099830653e-175),\n",
       "  MannwhitneyuResult(statistic=441036.0, pvalue=7.5327078715123367e-176),\n",
       "  MannwhitneyuResult(statistic=432936.0, pvalue=1.8745864638660032e-176),\n",
       "  MannwhitneyuResult(statistic=424827.0, pvalue=4.6466481093331275e-177),\n",
       "  MannwhitneyuResult(statistic=416889.0, pvalue=1.1834005863021763e-177),\n",
       "  MannwhitneyuResult(statistic=409184.0, pvalue=3.1303835480856622e-178),\n",
       "  MannwhitneyuResult(statistic=401595.0, pvalue=8.4300854076360417e-179),\n",
       "  MannwhitneyuResult(statistic=394126.0, pvalue=2.313013800702051e-179),\n",
       "  MannwhitneyuResult(statistic=386779.0, pvalue=6.4688929101694402e-180),\n",
       "  MannwhitneyuResult(statistic=379819.0, pvalue=1.9312319361309219e-180),\n",
       "  MannwhitneyuResult(statistic=372808.0, pvalue=5.7044041786717674e-181),\n",
       "  MannwhitneyuResult(statistic=366206.0, pvalue=1.806198865699083e-181),\n",
       "  MannwhitneyuResult(statistic=359871.0, pvalue=5.9822629537502931e-182),\n",
       "  MannwhitneyuResult(statistic=353904.5, pvalue=2.025546711836242e-182)],\n",
       " 'tissue2': [MannwhitneyuResult(statistic=145471.0, pvalue=1.0135248744900976e-20),\n",
       "  MannwhitneyuResult(statistic=145871.0, pvalue=1.0815967260462807e-20),\n",
       "  MannwhitneyuResult(statistic=146456.0, pvalue=1.181580072891213e-20),\n",
       "  MannwhitneyuResult(statistic=147084.0, pvalue=1.2990942271885851e-20),\n",
       "  MannwhitneyuResult(statistic=147808.0, pvalue=1.4489651092241038e-20),\n",
       "  MannwhitneyuResult(statistic=148457.0, pvalue=1.5977662557445922e-20),\n",
       "  MannwhitneyuResult(statistic=149244.0, pvalue=1.7985921550583024e-20),\n",
       "  MannwhitneyuResult(statistic=150056.0, pvalue=2.0319488475159931e-20),\n",
       "  MannwhitneyuResult(statistic=150801.0, pvalue=2.2722511078577264e-20),\n",
       "  MannwhitneyuResult(statistic=151538.0, pvalue=2.5375662390669619e-20),\n",
       "  MannwhitneyuResult(statistic=152348.0, pvalue=2.8645656244113602e-20),\n",
       "  MannwhitneyuResult(statistic=153145.0, pvalue=3.2268852586782752e-20),\n",
       "  MannwhitneyuResult(statistic=154004.0, pvalue=3.6681940948938821e-20),\n",
       "  MannwhitneyuResult(statistic=154773.0, pvalue=4.1135648486951081e-20),\n",
       "  MannwhitneyuResult(statistic=155660.0, pvalue=4.6939501959523216e-20),\n",
       "  MannwhitneyuResult(statistic=156493.0, pvalue=5.312374778466981e-20),\n",
       "  MannwhitneyuResult(statistic=157336.0, pvalue=6.0201183063884308e-20),\n",
       "  MannwhitneyuResult(statistic=158189.0, pvalue=6.8310050335823573e-20),\n",
       "  MannwhitneyuResult(statistic=159066.0, pvalue=7.7771999548141448e-20),\n",
       "  MannwhitneyuResult(statistic=159905.0, pvalue=8.8031911087819281e-20),\n",
       "  MannwhitneyuResult(statistic=160795.0, pvalue=1.0037882937048717e-19),\n",
       "  MannwhitneyuResult(statistic=161697.0, pvalue=1.1463629214746466e-19),\n",
       "  MannwhitneyuResult(statistic=162550.0, pvalue=1.2995257030472518e-19),\n",
       "  MannwhitneyuResult(statistic=163440.0, pvalue=1.4808910400833644e-19),\n",
       "  MannwhitneyuResult(statistic=164307.0, pvalue=1.6815497949509202e-19),\n",
       "  MannwhitneyuResult(statistic=165186.0, pvalue=1.9123800991451997e-19),\n",
       "  MannwhitneyuResult(statistic=166150.0, pvalue=2.2016147102070619e-19),\n",
       "  MannwhitneyuResult(statistic=167068.0, pvalue=2.5170560425595675e-19),\n",
       "  MannwhitneyuResult(statistic=167978.0, pvalue=2.8737203969733802e-19),\n",
       "  MannwhitneyuResult(statistic=168888.0, pvalue=3.2802230243595451e-19),\n",
       "  MannwhitneyuResult(statistic=169823.0, pvalue=3.7570256304739253e-19),\n",
       "  MannwhitneyuResult(statistic=170837.0, pvalue=4.3516532654703919e-19),\n",
       "  MannwhitneyuResult(statistic=171813.0, pvalue=5.0114607372696317e-19),\n",
       "  MannwhitneyuResult(statistic=172814.0, pvalue=5.7907390930892443e-19),\n",
       "  MannwhitneyuResult(statistic=173804.0, pvalue=6.678877974337504e-19),\n",
       "  MannwhitneyuResult(statistic=174819.0, pvalue=7.7290114366164946e-19),\n",
       "  MannwhitneyuResult(statistic=175831.0, pvalue=8.938035595567905e-19),\n",
       "  MannwhitneyuResult(statistic=176852.0, pvalue=1.0346782407487162e-18),\n",
       "  MannwhitneyuResult(statistic=177938.0, pvalue=1.2086124647748874e-18),\n",
       "  MannwhitneyuResult(statistic=179072.0, pvalue=1.4210537204605157e-18),\n",
       "  MannwhitneyuResult(statistic=180172.0, pvalue=1.6622176358900666e-18),\n",
       "  MannwhitneyuResult(statistic=181349.0, pvalue=1.9650819290863646e-18),\n",
       "  MannwhitneyuResult(statistic=182505.0, pvalue=2.315397099149346e-18),\n",
       "  MannwhitneyuResult(statistic=183648.0, pvalue=2.722212485482854e-18),\n",
       "  MannwhitneyuResult(statistic=184903.0, pvalue=3.2504112216132648e-18),\n",
       "  MannwhitneyuResult(statistic=186096.0, pvalue=3.8457969397839706e-18),\n",
       "  MannwhitneyuResult(statistic=187366.0, pvalue=4.5980541135112806e-18),\n",
       "  MannwhitneyuResult(statistic=188649.0, pvalue=5.5051949540101749e-18),\n",
       "  MannwhitneyuResult(statistic=189975.0, pvalue=6.6282453218708427e-18),\n",
       "  MannwhitneyuResult(statistic=191303.0, pvalue=7.9790067271557744e-18),\n",
       "  MannwhitneyuResult(statistic=192647.0, pvalue=9.6220727140050438e-18),\n",
       "  MannwhitneyuResult(statistic=194061.0, pvalue=1.1711314641834971e-17),\n",
       "  MannwhitneyuResult(statistic=195511.0, pvalue=1.4318020588015233e-17),\n",
       "  MannwhitneyuResult(statistic=196988.0, pvalue=1.7560773011720978e-17),\n",
       "  MannwhitneyuResult(statistic=198500.0, pvalue=2.162979634936172e-17),\n",
       "  MannwhitneyuResult(statistic=200023.0, pvalue=2.6666200881742292e-17),\n",
       "  MannwhitneyuResult(statistic=201589.0, pvalue=3.3049584000536631e-17),\n",
       "  MannwhitneyuResult(statistic=203097.0, pvalue=4.0612484878568969e-17),\n",
       "  MannwhitneyuResult(statistic=204693.0, pvalue=5.0477579813490061e-17),\n",
       "  MannwhitneyuResult(statistic=206413.0, pvalue=6.3761117116637964e-17),\n",
       "  MannwhitneyuResult(statistic=208059.0, pvalue=7.9678013279330869e-17),\n",
       "  MannwhitneyuResult(statistic=209858.0, pvalue=1.0157124372325838e-16),\n",
       "  MannwhitneyuResult(statistic=211667.0, pvalue=1.2954606490176988e-16),\n",
       "  MannwhitneyuResult(statistic=213603.0, pvalue=1.6791509780953358e-16),\n",
       "  MannwhitneyuResult(statistic=215501.0, pvalue=2.1634014895723924e-16),\n",
       "  MannwhitneyuResult(statistic=217558.0, pvalue=2.8441255344847301e-16),\n",
       "  MannwhitneyuResult(statistic=219654.0, pvalue=3.7542793919702395e-16),\n",
       "  MannwhitneyuResult(statistic=221785.0, pvalue=4.9729554378238001e-16),\n",
       "  MannwhitneyuResult(statistic=223898.0, pvalue=6.5640258894275846e-16),\n",
       "  MannwhitneyuResult(statistic=226223.0, pvalue=8.8970308831894281e-16),\n",
       "  MannwhitneyuResult(statistic=228696.0, pvalue=1.2276215293126197e-15),\n",
       "  MannwhitneyuResult(statistic=231177.0, pvalue=1.6929719922296964e-15),\n",
       "  MannwhitneyuResult(statistic=233685.0, pvalue=2.3391356776880956e-15),\n",
       "  MannwhitneyuResult(statistic=236371.0, pvalue=3.3010121231696459e-15),\n",
       "  MannwhitneyuResult(statistic=239186.0, pvalue=4.7267080974118454e-15),\n",
       "  MannwhitneyuResult(statistic=242152.0, pvalue=6.8845682304735959e-15),\n",
       "  MannwhitneyuResult(statistic=245228.0, pvalue=1.0144121774823104e-14),\n",
       "  MannwhitneyuResult(statistic=248468.0, pvalue=1.5218979065787498e-14),\n",
       "  MannwhitneyuResult(statistic=251900.0, pvalue=2.3319487566705317e-14),\n",
       "  MannwhitneyuResult(statistic=255398.0, pvalue=3.5914069705544283e-14),\n",
       "  MannwhitneyuResult(statistic=259153.0, pvalue=5.6894557298848977e-14),\n",
       "  MannwhitneyuResult(statistic=263097.0, pvalue=9.1884221539702204e-14),\n",
       "  MannwhitneyuResult(statistic=267257.0, pvalue=1.516816805138607e-13),\n",
       "  MannwhitneyuResult(statistic=271595.0, pvalue=2.5461626600879342e-13),\n",
       "  MannwhitneyuResult(statistic=276258.0, pvalue=4.4193129497139504e-13),\n",
       "  MannwhitneyuResult(statistic=281350.0, pvalue=8.0184232887882657e-13),\n",
       "  MannwhitneyuResult(statistic=286654.0, pvalue=1.4809019750920026e-12),\n",
       "  MannwhitneyuResult(statistic=292403.0, pvalue=2.8561577428972276e-12),\n",
       "  MannwhitneyuResult(statistic=298813.0, pvalue=5.881683227381616e-12),\n",
       "  MannwhitneyuResult(statistic=305853.0, pvalue=1.2846708493497563e-11),\n",
       "  MannwhitneyuResult(statistic=313545.0, pvalue=2.9731070693535504e-11),\n",
       "  MannwhitneyuResult(statistic=321723.0, pvalue=7.135919876211862e-11),\n",
       "  MannwhitneyuResult(statistic=330881.0, pvalue=1.864013894311532e-10),\n",
       "  MannwhitneyuResult(statistic=341267.0, pvalue=5.3965466052084241e-10),\n",
       "  MannwhitneyuResult(statistic=353376.0, pvalue=1.8000913807999911e-09),\n",
       "  MannwhitneyuResult(statistic=367461.0, pvalue=6.9735751443129773e-09),\n",
       "  MannwhitneyuResult(statistic=384177.0, pvalue=3.2589327600777583e-08),\n",
       "  MannwhitneyuResult(statistic=405275.0, pvalue=2.0621720805684691e-07),\n",
       "  MannwhitneyuResult(statistic=433721.0, pvalue=2.0766068393984575e-06),\n",
       "  MannwhitneyuResult(statistic=478364.0, pvalue=5.1730577513540293e-05),\n",
       "  MannwhitneyuResult(statistic=653004.0, pvalue=0.14435393129513918)]}"
      ]
     },
     "execution_count": 338,
     "metadata": {},
     "output_type": "execute_result"
    }
   ],
   "source": [
    "wmw_res = {\n",
    "    tissue:  [mannwhitneyu(s_mixed[~ind[tissue]], s_mixed[ind[tissue]]) for s_mixed in mixed] for \n",
    "    tissue in ind\n",
    "}\n",
    "wmw_res"
   ]
  },
  {
   "cell_type": "code",
   "execution_count": 339,
   "metadata": {
    "collapsed": false
   },
   "outputs": [
    {
     "data": {
      "text/plain": [
       "{'tissue1': (0.95973238291752638, 207368.0, 6.7538437191908723e-194),\n",
       " 'tissue2': (0.80366410304508218, 141300.0, 5.2184781229466873e-21)}"
      ]
     },
     "execution_count": 339,
     "metadata": {},
     "output_type": "execute_result"
    }
   ],
   "source": [
    "wmw_exp = {}\n",
    "for tissue in ind:\n",
    "    y = np.repeat(np.percentile(s[tissue], (1- rel_rk[tissue]) * 100), size[tissue])\n",
    "    u, p = mannwhitneyu(s[tissue], y)\n",
    "    wmw_exp[tissue] = (wmw_r(s[tissue], y, u), u, p) \n",
    "wmw_exp"
   ]
  },
  {
   "cell_type": "code",
   "execution_count": 340,
   "metadata": {
    "collapsed": false
   },
   "outputs": [
    {
     "data": {
      "text/plain": [
       "{'tissue1': 155365.0, 'tissue2': 140265.0}"
      ]
     },
     "execution_count": 340,
     "metadata": {},
     "output_type": "execute_result"
    }
   ],
   "source": [
    "u_exp = {\n",
    "    tissue: wmw_u_exp(rel_rk[tissue], size[tissue], s[tissue].size) for tissue in ind\n",
    "}\n",
    "u_exp"
   ]
  },
  {
   "cell_type": "markdown",
   "metadata": {},
   "source": [
    "## BioQC score, corrected and uncorrected"
   ]
  },
  {
   "cell_type": "code",
   "execution_count": 341,
   "metadata": {
    "collapsed": true
   },
   "outputs": [],
   "source": [
    "wmw_score_corr = {\n",
    "    tissue: [-np.log10(p) / -np.log10(wmw_exp[tissue][2]) for u, p in res] for tissue, res in wmw_res.items()\n",
    "}\n",
    "wmw_score = {\n",
    "    tissue: [-np.log10(p) for u, p in res] for tissue, res in wmw_res.items()\n",
    "}"
   ]
  },
  {
   "cell_type": "code",
   "execution_count": 342,
   "metadata": {
    "collapsed": false
   },
   "outputs": [
    {
     "data": {
      "text/plain": [
       "<matplotlib.axes._subplots.AxesSubplot at 0x7ffeb96ddef0>"
      ]
     },
     "execution_count": 342,
     "metadata": {},
     "output_type": "execute_result"
    },
    {
     "data": {
      "image/png": "[encoded data removed]",
      "text/plain": [
       "<matplotlib.figure.Figure at 0x7ffeb970d400>"
      ]
     },
     "metadata": {},
     "output_type": "display_data"
    }
   ],
   "source": [
    "fix, (ax1, ax2) = subplots(1, 2, figsize=(14, 4))\n",
    "pd.DataFrame(wmw_score).plot(ax=ax1)\n",
    "pd.DataFrame(wmw_score_corr).plot(ax=ax2)"
   ]
  },
  {
   "cell_type": "markdown",
   "metadata": {},
   "source": [
    "## $r$ effect size, corrected and uncorrected"
   ]
  },
  {
   "cell_type": "code",
   "execution_count": 343,
   "metadata": {
    "collapsed": false
   },
   "outputs": [],
   "source": [
    "r = {\n",
    "    tissue: [wmw_r(s_mixed[~ind[tissue]], s_mixed[ind[tissue]], u) for u, p in res]\n",
    "    for s_mixed, (tissue, res) in zip(mixed, wmw_res.items())\n",
    "}\n",
    "r_corr = {\n",
    "    tissue: [wmw_r(s_mixed[~ind[tissue]], s_mixed[ind[tissue]], u) / wmw_exp[tissue][0] for u, p in res]\n",
    "    for s_mixed, (tissue, res) in zip(mixed, wmw_res.items())\n",
    "}\n",
    "r_corr_u = {\n",
    "    tissue: [wmw_r_corr(s_mixed[~ind[tissue]], s_mixed[ind[tissue]], u, u_exp[tissue]) for u, p in res]\n",
    "    for s_mixed, (tissue, res) in zip(mixed, wmw_res.items())\n",
    "}"
   ]
  },
  {
   "cell_type": "code",
   "execution_count": 344,
   "metadata": {
    "collapsed": false
   },
   "outputs": [
    {
     "data": {
      "text/plain": [
       "<matplotlib.axes._subplots.AxesSubplot at 0x7ffeb95c0978>"
      ]
     },
     "execution_count": 344,
     "metadata": {},
     "output_type": "execute_result"
    },
    {
     "data": {
      "image/png": "[encoded data removed]",
      "text/plain": [
       "<matplotlib.figure.Figure at 0x7ffeb970d1d0>"
      ]
     },
     "metadata": {},
     "output_type": "display_data"
    }
   ],
   "source": [
    "fix, (ax1, ax2) = subplots(1, 2, figsize=(14, 4))\n",
    "pd.DataFrame(r).plot(ax=ax1)\n",
    "pd.DataFrame(r_corr).plot(ax=ax2)"
   ]
  },
  {
   "cell_type": "code",
   "execution_count": 345,
   "metadata": {
    "collapsed": false
   },
   "outputs": [
    {
     "data": {
      "text/plain": [
       "<matplotlib.axes._subplots.AxesSubplot at 0x7ffeb95e2080>"
      ]
     },
     "execution_count": 345,
     "metadata": {},
     "output_type": "execute_result"
    },
    {
     "data": {
      "image/png": "[encoded data removed]",
      "text/plain": [
       "<matplotlib.figure.Figure at 0x7ffeb97b9a20>"
      ]
     },
     "metadata": {},
     "output_type": "display_data"
    }
   ],
   "source": [
    "pd.DataFrame(r_corr_u).plot()"
   ]
  },
  {
   "cell_type": "code",
   "execution_count": null,
   "metadata": {
    "collapsed": true
   },
   "outputs": [],
   "source": []
  },
  {
   "cell_type": "code",
   "execution_count": null,
   "metadata": {
    "collapsed": true
   },
   "outputs": [],
   "source": []
  },
  {
   "cell_type": "code",
   "execution_count": null,
   "metadata": {
    "collapsed": true
   },
   "outputs": [],
   "source": []
  }
 ],
 "metadata": {
  "kernelspec": {
   "display_name": "Python [Root]",
   "language": "python",
   "name": "Python [Root]"
  },
  "language_info": {
   "codemirror_mode": {
    "name": "ipython",
    "version": 3
   },
   "file_extension": ".py",
   "mimetype": "text/x-python",
   "name": "python",
   "nbconvert_exporter": "python",
   "pygments_lexer": "ipython3",
   "version": "3.5.2"
  }
 },
 "nbformat": 4,
 "nbformat_minor": 0
}
