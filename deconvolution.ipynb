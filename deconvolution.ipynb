{
 "cells": [
  {
   "cell_type": "code",
   "execution_count": 1,
   "metadata": {
    "collapsed": false
   },
   "outputs": [],
   "source": [
    "%load_ext autoreload\n",
    "%autoreload 1\n",
    "%aimport pygenesig.pybioqc\n",
    "%aimport pygenesig.tools\n",
    "%aimport pygenesig.file_formats\n",
    "%matplotlib inline\n",
    "\n",
    "\n",
    "from pygenesig.pybioqc import * \n",
    "from pygenesig.bioqc import * \n",
    "from pygenesig.tools import * \n",
    "from pygenesig.file_formats import * \n",
    "from scipy.stats import mannwhitneyu\n",
    "import pandas as pd\n",
    "from pylab import * \n",
    "import seaborn as sns"
   ]
  },
  {
   "cell_type": "code",
   "execution_count": 2,
   "metadata": {
    "collapsed": false
   },
   "outputs": [],
   "source": [
    "exprs = read_expr(\"../pygenesig-example/data_processed/v6/exprs.npy\")\n",
    "target = read_target(\"../pygenesig-example/data_processed/v6/target.csv\")\n",
    "rosetta = read_rosetta(\"../pygenesig-example/data_processed/v6/rosetta.csv\", inverse=True)"
   ]
  },
  {
   "cell_type": "code",
   "execution_count": 3,
   "metadata": {
    "collapsed": false
   },
   "outputs": [],
   "source": [
    "signatures = load_gmt(\"../pygenesig-example/results/gtex_v6_solid_gini_0.8_1/signatures.gmt\")\n",
    "signatures_ind = translate_signatures(signatures, rosetta, ignore_missing=True)\n",
    "signatures_ind = {\n",
    "    tissue: np.array(inds) for tissue, inds in signatures_ind.items()\n",
    "}"
   ]
  },
  {
   "cell_type": "code",
   "execution_count": 4,
   "metadata": {
    "collapsed": false
   },
   "outputs": [
    {
     "data": {
      "text/plain": [
       "array(['Adipose_Subcutaneous', 'Adipose_Subcutaneous',\n",
       "       'Adipose_Subcutaneous', ..., 'Whole_Blood', 'Whole_Blood',\n",
       "       'Whole_Blood'], \n",
       "      dtype='<U37')"
      ]
     },
     "execution_count": 4,
     "metadata": {},
     "output_type": "execute_result"
    }
   ],
   "source": [
    "target"
   ]
  },
  {
   "cell_type": "code",
   "execution_count": 5,
   "metadata": {
    "collapsed": true
   },
   "outputs": [],
   "source": [
    "target_name = {\n",
    "    'tissue1': 'Pancreas',\n",
    "    'tissue2': 'Liver'\n",
    "}"
   ]
  },
  {
   "cell_type": "code",
   "execution_count": 6,
   "metadata": {
    "collapsed": true
   },
   "outputs": [],
   "source": [
    "sig_name = {\n",
    "    'tissue1': 'Pancreas',\n",
    "    'tissue2': 'Liver'\n",
    "}"
   ]
  },
  {
   "cell_type": "code",
   "execution_count": 7,
   "metadata": {
    "collapsed": false
   },
   "outputs": [
    {
     "data": {
      "text/plain": [
       "(array([6116, 6117, 6118, 6119, 6120, 6121, 6122, 6123, 6124, 6125, 6126,\n",
       "        6127, 6128, 6129, 6130, 6131, 6132, 6133, 6134, 6135, 6136, 6137,\n",
       "        6138, 6139, 6140, 6141, 6142, 6143, 6144, 6145, 6146, 6147, 6148,\n",
       "        6149, 6150, 6151, 6152, 6153, 6154, 6155, 6156, 6157, 6158, 6159,\n",
       "        6160, 6161, 6162, 6163, 6164, 6165, 6166, 6167, 6168, 6169, 6170,\n",
       "        6171, 6172, 6173, 6174, 6175, 6176, 6177, 6178, 6179, 6180, 6181,\n",
       "        6182, 6183, 6184, 6185, 6186, 6187, 6188, 6189, 6190, 6191, 6192,\n",
       "        6193, 6194, 6195, 6196, 6197, 6198, 6199, 6200, 6201, 6202, 6203,\n",
       "        6204, 6205, 6206, 6207, 6208, 6209, 6210, 6211, 6212, 6213, 6214,\n",
       "        6215, 6216, 6217, 6218, 6219, 6220, 6221, 6222, 6223, 6224, 6225,\n",
       "        6226, 6227, 6228, 6229, 6230, 6231, 6232, 6233, 6234, 6235, 6236,\n",
       "        6237, 6238, 6239, 6240, 6241, 6242, 6243, 6244, 6245, 6246, 6247,\n",
       "        6248, 6249, 6250, 6251, 6252, 6253, 6254, 6255, 6256, 6257, 6258,\n",
       "        6259, 6260, 6261, 6262, 6263, 6264, 6265, 6266, 6267, 6268, 6269,\n",
       "        6270, 6271, 6272, 6273, 6274, 6275, 6276, 6277, 6278, 6279, 6280,\n",
       "        6281, 6282, 6283, 6284, 6285, 6286]),)"
      ]
     },
     "execution_count": 7,
     "metadata": {},
     "output_type": "execute_result"
    }
   ],
   "source": [
    "np.where(target == target_name['tissue1'])"
   ]
  },
  {
   "cell_type": "code",
   "execution_count": 8,
   "metadata": {
    "collapsed": false
   },
   "outputs": [
    {
     "data": {
      "text/plain": [
       "(array([4789, 4790, 4791, 4792, 4793, 4794, 4795, 4796, 4797, 4798, 4799,\n",
       "        4800, 4801, 4802, 4803, 4804, 4805, 4806, 4807, 4808, 4809, 4810,\n",
       "        4811, 4812, 4813, 4814, 4815, 4816, 4817, 4818, 4819, 4820, 4821,\n",
       "        4822, 4823, 4824, 4825, 4826, 4827, 4828, 4829, 4830, 4831, 4832,\n",
       "        4833, 4834, 4835, 4836, 4837, 4838, 4839, 4840, 4841, 4842, 4843,\n",
       "        4844, 4845, 4846, 4847, 4848, 4849, 4850, 4851, 4852, 4853, 4854,\n",
       "        4855, 4856, 4857, 4858, 4859, 4860, 4861, 4862, 4863, 4864, 4865,\n",
       "        4866, 4867, 4868, 4869, 4870, 4871, 4872, 4873, 4874, 4875, 4876,\n",
       "        4877, 4878, 4879, 4880, 4881, 4882, 4883, 4884, 4885, 4886, 4887,\n",
       "        4888, 4889, 4890, 4891, 4892, 4893, 4894, 4895, 4896, 4897, 4898,\n",
       "        4899, 4900, 4901, 4902, 4903, 4904, 4905, 4906, 4907]),)"
      ]
     },
     "execution_count": 8,
     "metadata": {},
     "output_type": "execute_result"
    }
   ],
   "source": [
    "np.where(target == target_name['tissue2'])"
   ]
  },
  {
   "cell_type": "code",
   "execution_count": 9,
   "metadata": {
    "collapsed": false
   },
   "outputs": [
    {
     "data": {
      "text/plain": [
       "{'tissue1': 6116, 'tissue2': 4789}"
      ]
     },
     "execution_count": 9,
     "metadata": {},
     "output_type": "execute_result"
    }
   ],
   "source": [
    "s_ind = {\n",
    "    'tissue1': np.flatnonzero(target == target_name['tissue1'])[0],\n",
    "    'tissue2': np.flatnonzero(target == target_name['tissue2'])[0]\n",
    "}\n",
    "s_ind"
   ]
  },
  {
   "cell_type": "code",
   "execution_count": 10,
   "metadata": {
    "collapsed": false
   },
   "outputs": [],
   "source": [
    "s = {\n",
    "    tissue: exprs[:, i] for tissue, i in s_ind.items()\n",
    "}"
   ]
  },
  {
   "cell_type": "code",
   "execution_count": 11,
   "metadata": {
    "collapsed": false
   },
   "outputs": [],
   "source": [
    "ind = {\n",
    "    tissue: np.array([True if i in signatures_ind[name] else False for i in range(exprs.shape[0])])\n",
    "    for tissue, name in sig_name.items()\n",
    "}"
   ]
  },
  {
   "cell_type": "code",
   "execution_count": 12,
   "metadata": {
    "collapsed": false
   },
   "outputs": [
    {
     "data": {
      "text/plain": [
       "{'tissue1': 0.022416057024948415, 'tissue2': 0.02013380854123679}"
      ]
     },
     "execution_count": 12,
     "metadata": {},
     "output_type": "execute_result"
    }
   ],
   "source": [
    "rel_rk = {\n",
    "    tissue: pd.DataFrame(exprs[:, target == target_name[tissue]]).rank(\n",
    "        axis=0, ascending=False).iloc[ind[tissue], :].median(axis=0).median() / exprs.shape[0] for tissue in s\n",
    "}\n",
    "rel_rk"
   ]
  },
  {
   "cell_type": "code",
   "execution_count": 13,
   "metadata": {
    "collapsed": false
   },
   "outputs": [
    {
     "data": {
      "text/plain": [
       "{'tissue1': 147, 'tissue2': 322}"
      ]
     },
     "execution_count": 13,
     "metadata": {},
     "output_type": "execute_result"
    }
   ],
   "source": [
    "size = {\n",
    "    tissue: sum(t_ind) for tissue, t_ind in ind.items()\n",
    "}\n",
    "size"
   ]
  },
  {
   "cell_type": "code",
   "execution_count": 14,
   "metadata": {
    "collapsed": false
   },
   "outputs": [
    {
     "data": {
      "text/plain": [
       "0.078160919540229884"
      ]
     },
     "execution_count": 14,
     "metadata": {},
     "output_type": "execute_result"
    }
   ],
   "source": [
    "overlap = jaccard_ind(*(signatures_ind[sig_name[tissue]] for tissue in s))\n",
    "overlap"
   ]
  },
  {
   "cell_type": "code",
   "execution_count": 15,
   "metadata": {
    "collapsed": true
   },
   "outputs": [],
   "source": [
    "def mix(x, y, prop_x):\n",
    "    return x * prop_x + y * (1 - prop_x)"
   ]
  },
  {
   "cell_type": "code",
   "execution_count": 16,
   "metadata": {
    "collapsed": true
   },
   "outputs": [],
   "source": [
    "def wmw_r_corr(x, y, u, u_exp):\n",
    "    return 1 - (2 * (u - u_exp)) / (x.size * y.size)"
   ]
  },
  {
   "cell_type": "code",
   "execution_count": 17,
   "metadata": {
    "collapsed": false
   },
   "outputs": [],
   "source": [
    "mixed = [mix(s['tissue1'], s['tissue2'], f) for f in np.arange(0, 1.01, 0.01)]"
   ]
  },
  {
   "cell_type": "code",
   "execution_count": 18,
   "metadata": {
    "collapsed": false
   },
   "outputs": [
    {
     "data": {
      "text/plain": [
       "{'tissue1': [MannwhitneyuResult(statistic=1518243.5, pvalue=1.1379824203371115e-14),\n",
       "  MannwhitneyuResult(statistic=978753.0, pvalue=4.0553368090382053e-36),\n",
       "  MannwhitneyuResult(statistic=879391.0, pvalue=2.8174400551345451e-41),\n",
       "  MannwhitneyuResult(statistic=817355.0, pvalue=1.1150465386323861e-44),\n",
       "  MannwhitneyuResult(statistic=771567.0, pvalue=2.7930207060521102e-47),\n",
       "  MannwhitneyuResult(statistic=734389.0, pvalue=1.8960507298330332e-49),\n",
       "  MannwhitneyuResult(statistic=703648.0, pvalue=2.7991292218045777e-51),\n",
       "  MannwhitneyuResult(statistic=676822.0, pvalue=6.6258540224580874e-53),\n",
       "  MannwhitneyuResult(statistic=653138.0, pvalue=2.3125776335551593e-54),\n",
       "  MannwhitneyuResult(statistic=632024.0, pvalue=1.1164579759177109e-55),\n",
       "  MannwhitneyuResult(statistic=613030.0, pvalue=7.0774094972641499e-57),\n",
       "  MannwhitneyuResult(statistic=595649.0, pvalue=5.52233913137952e-58),\n",
       "  MannwhitneyuResult(statistic=579785.0, pvalue=5.2656001817604146e-59),\n",
       "  MannwhitneyuResult(statistic=565132.0, pvalue=5.8957731633509274e-60),\n",
       "  MannwhitneyuResult(statistic=551442.0, pvalue=7.4999472252148578e-61),\n",
       "  MannwhitneyuResult(statistic=538483.0, pvalue=1.0497820092393529e-61),\n",
       "  MannwhitneyuResult(statistic=526658.0, pvalue=1.7239597325658468e-62),\n",
       "  MannwhitneyuResult(statistic=515231.0, pvalue=2.9752278213168038e-63),\n",
       "  MannwhitneyuResult(statistic=504809.0, pvalue=5.9356727298131583e-64),\n",
       "  MannwhitneyuResult(statistic=494718.0, pvalue=1.2356084245993477e-64),\n",
       "  MannwhitneyuResult(statistic=485077.0, pvalue=2.7366532604690133e-65),\n",
       "  MannwhitneyuResult(statistic=476031.0, pvalue=6.605119829099912e-66),\n",
       "  MannwhitneyuResult(statistic=467204.0, pvalue=1.6391240133134342e-66),\n",
       "  MannwhitneyuResult(statistic=459044.0, pvalue=4.4931699402049142e-67),\n",
       "  MannwhitneyuResult(statistic=451171.0, pvalue=1.2822174201135372e-67),\n",
       "  MannwhitneyuResult(statistic=443622.0, pvalue=3.8340716407257935e-68),\n",
       "  MannwhitneyuResult(statistic=436486.0, pvalue=1.219362411845226e-68),\n",
       "  MannwhitneyuResult(statistic=429547.0, pvalue=3.9862094596764772e-69),\n",
       "  MannwhitneyuResult(statistic=422730.0, pvalue=1.3237784351768877e-69),\n",
       "  MannwhitneyuResult(statistic=416383.0, pvalue=4.7266629704567135e-70),\n",
       "  MannwhitneyuResult(statistic=410276.0, pvalue=1.7491210000101381e-70),\n",
       "  MannwhitneyuResult(statistic=404340.0, pvalue=6.6354556422978928e-71),\n",
       "  MannwhitneyuResult(statistic=398570.0, pvalue=2.5790642447997799e-71),\n",
       "  MannwhitneyuResult(statistic=393041.0, pvalue=1.0400555615867645e-71),\n",
       "  MannwhitneyuResult(statistic=387614.0, pvalue=4.2544461817476331e-72),\n",
       "  MannwhitneyuResult(statistic=382470.0, pvalue=1.8192074681053761e-72),\n",
       "  MannwhitneyuResult(statistic=377315.0, pvalue=7.7475523869109439e-73),\n",
       "  MannwhitneyuResult(statistic=372461.0, pvalue=3.4610449496041281e-73),\n",
       "  MannwhitneyuResult(statistic=367751.0, pvalue=1.5805586229633788e-73),\n",
       "  MannwhitneyuResult(statistic=363222.0, pvalue=7.4256102582262305e-74),\n",
       "  MannwhitneyuResult(statistic=358790.0, pvalue=3.5396166660403839e-74),\n",
       "  MannwhitneyuResult(statistic=354284.0, pvalue=1.6636937913841692e-74),\n",
       "  MannwhitneyuResult(statistic=350066.0, pvalue=8.1936271650778374e-75),\n",
       "  MannwhitneyuResult(statistic=346015.0, pvalue=4.144257179090638e-75),\n",
       "  MannwhitneyuResult(statistic=342079.0, pvalue=2.1342618883121839e-75),\n",
       "  MannwhitneyuResult(statistic=338151.0, pvalue=1.0991862010409573e-75),\n",
       "  MannwhitneyuResult(statistic=334271.0, pvalue=5.6998568163078271e-76),\n",
       "  MannwhitneyuResult(statistic=330572.0, pvalue=3.0440390710570881e-76),\n",
       "  MannwhitneyuResult(statistic=326965.0, pvalue=1.6494203459978365e-76),\n",
       "  MannwhitneyuResult(statistic=323452.0, pvalue=9.0717602879507348e-77),\n",
       "  MannwhitneyuResult(statistic=319961.0, pvalue=5.0030163411497513e-77),\n",
       "  MannwhitneyuResult(statistic=316698.0, pvalue=2.8658313349854202e-77),\n",
       "  MannwhitneyuResult(statistic=313492.0, pvalue=1.6562207646729785e-77),\n",
       "  MannwhitneyuResult(statistic=310297.0, pvalue=9.5814215717059691e-78),\n",
       "  MannwhitneyuResult(statistic=307209.0, pvalue=5.6408950556750422e-78),\n",
       "  MannwhitneyuResult(statistic=304197.0, pvalue=3.3619689070774034e-78),\n",
       "  MannwhitneyuResult(statistic=301109.0, pvalue=1.9761721737875704e-78),\n",
       "  MannwhitneyuResult(statistic=298238.0, pvalue=1.2049263132894938e-78),\n",
       "  MannwhitneyuResult(statistic=295361.0, pvalue=7.3340792677876887e-79),\n",
       "  MannwhitneyuResult(statistic=292588.0, pvalue=4.5419172381238681e-79),\n",
       "  MannwhitneyuResult(statistic=289844.0, pvalue=2.8250955544214364e-79),\n",
       "  MannwhitneyuResult(statistic=287167.0, pvalue=1.7766314348510366e-79),\n",
       "  MannwhitneyuResult(statistic=284543.0, pvalue=1.126927467930531e-79),\n",
       "  MannwhitneyuResult(statistic=281922.0, pvalue=7.1477593467154165e-80),\n",
       "  MannwhitneyuResult(statistic=279329.0, pvalue=4.5531255183632779e-80),\n",
       "  MannwhitneyuResult(statistic=276745.0, pvalue=2.9032549573897256e-80),\n",
       "  MannwhitneyuResult(statistic=274276.0, pvalue=1.8876892747275406e-80),\n",
       "  MannwhitneyuResult(statistic=271918.0, pvalue=1.2507579688717281e-80),\n",
       "  MannwhitneyuResult(statistic=269540.0, pvalue=8.2545705846622616e-81),\n",
       "  MannwhitneyuResult(statistic=267254.0, pvalue=5.533547101509351e-81),\n",
       "  MannwhitneyuResult(statistic=265034.0, pvalue=3.7509821973316896e-81),\n",
       "  MannwhitneyuResult(statistic=262786.0, pvalue=2.5291435030314495e-81),\n",
       "  MannwhitneyuResult(statistic=260747.0, pvalue=1.7683026785067468e-81),\n",
       "  MannwhitneyuResult(statistic=258513.0, pvalue=1.194269486787017e-81),\n",
       "  MannwhitneyuResult(statistic=256344.0, pvalue=8.1551771716837271e-82),\n",
       "  MannwhitneyuResult(statistic=254275.0, pvalue=5.6655566106293708e-82),\n",
       "  MannwhitneyuResult(statistic=252183.0, pvalue=3.918632047115929e-82),\n",
       "  MannwhitneyuResult(statistic=250192.0, pvalue=2.7580873320706121e-82),\n",
       "  MannwhitneyuResult(statistic=248216.0, pvalue=1.9457529536735631e-82),\n",
       "  MannwhitneyuResult(statistic=246262.0, pvalue=1.3775719698833583e-82),\n",
       "  MannwhitneyuResult(statistic=244474.0, pvalue=1.0040600857118943e-82),\n",
       "  MannwhitneyuResult(statistic=242690.0, pvalue=7.3214342793499806e-83),\n",
       "  MannwhitneyuResult(statistic=240897.0, pvalue=5.3287297293619825e-83),\n",
       "  MannwhitneyuResult(statistic=239220.0, pvalue=3.9579596268582864e-83),\n",
       "  MannwhitneyuResult(statistic=237538.0, pvalue=2.936506138680561e-83),\n",
       "  MannwhitneyuResult(statistic=235853.0, pvalue=2.1769866565200074e-83),\n",
       "  MannwhitneyuResult(statistic=234298.0, pvalue=1.6512639066646276e-83),\n",
       "  MannwhitneyuResult(statistic=232803.0, pvalue=1.2656854475980189e-83),\n",
       "  MannwhitneyuResult(statistic=231326.0, pvalue=9.7307328132833628e-84),\n",
       "  MannwhitneyuResult(statistic=229984.0, pvalue=7.6618307498245744e-84),\n",
       "  MannwhitneyuResult(statistic=228804.0, pvalue=6.2086489503575978e-84),\n",
       "  MannwhitneyuResult(statistic=227502.0, pvalue=4.9222034294925688e-84),\n",
       "  MannwhitneyuResult(statistic=226397.0, pvalue=4.0413903119768688e-84),\n",
       "  MannwhitneyuResult(statistic=225414.0, pvalue=3.3909285066812901e-84),\n",
       "  MannwhitneyuResult(statistic=224564.0, pvalue=2.9133292341030207e-84),\n",
       "  MannwhitneyuResult(statistic=224115.0, pvalue=2.6887651416140278e-84),\n",
       "  MannwhitneyuResult(statistic=223942.0, pvalue=2.6069235993784747e-84),\n",
       "  MannwhitneyuResult(statistic=224291.0, pvalue=2.7746557636626931e-84),\n",
       "  MannwhitneyuResult(statistic=225709.0, pvalue=3.5743225161327298e-84),\n",
       "  MannwhitneyuResult(statistic=228639.0, pvalue=6.0286708710144173e-84),\n",
       "  MannwhitneyuResult(statistic=235349.0, pvalue=2.1187172800096655e-85)],\n",
       " 'tissue2': [MannwhitneyuResult(statistic=353904.5, pvalue=3.9726676127109523e-196),\n",
       "  MannwhitneyuResult(statistic=357074.0, pvalue=2.8987041091541158e-191),\n",
       "  MannwhitneyuResult(statistic=361349.0, pvalue=6.3489515629600034e-191),\n",
       "  MannwhitneyuResult(statistic=365477.0, pvalue=1.3526982732945009e-190),\n",
       "  MannwhitneyuResult(statistic=369444.0, pvalue=2.7965236915154067e-190),\n",
       "  MannwhitneyuResult(statistic=373350.0, pvalue=5.7138402009678846e-190),\n",
       "  MannwhitneyuResult(statistic=377357.0, pvalue=1.1884904510233692e-189),\n",
       "  MannwhitneyuResult(statistic=381212.0, pvalue=2.4029444074847925e-189),\n",
       "  MannwhitneyuResult(statistic=385158.0, pvalue=4.9368626326287925e-189),\n",
       "  MannwhitneyuResult(statistic=389172.0, pvalue=1.0263115866150908e-188),\n",
       "  MannwhitneyuResult(statistic=393225.0, pvalue=2.1474412682577037e-188),\n",
       "  MannwhitneyuResult(statistic=397386.0, pvalue=4.579529997577509e-188),\n",
       "  MannwhitneyuResult(statistic=401497.0, pvalue=9.6712635952705106e-188),\n",
       "  MannwhitneyuResult(statistic=405749.0, pvalue=2.094029133043113e-187),\n",
       "  MannwhitneyuResult(statistic=410077.0, pvalue=4.5937521527698864e-187),\n",
       "  MannwhitneyuResult(statistic=414456.0, pvalue=1.0163730560309265e-186),\n",
       "  MannwhitneyuResult(statistic=418898.0, pvalue=2.2728564642004006e-186),\n",
       "  MannwhitneyuResult(statistic=423361.0, pvalue=5.0981197612506997e-186),\n",
       "  MannwhitneyuResult(statistic=427921.0, pvalue=1.1628622696400635e-185),\n",
       "  MannwhitneyuResult(statistic=432562.0, pvalue=2.6893653262980149e-185),\n",
       "  MannwhitneyuResult(statistic=437327.0, pvalue=6.3551275149796927e-185),\n",
       "  MannwhitneyuResult(statistic=442200.0, pvalue=1.5299239706982545e-184),\n",
       "  MannwhitneyuResult(statistic=447172.0, pvalue=3.74590280614005e-184),\n",
       "  MannwhitneyuResult(statistic=452258.0, pvalue=9.3525664276414602e-184),\n",
       "  MannwhitneyuResult(statistic=457294.0, pvalue=2.3119112390172543e-183),\n",
       "  MannwhitneyuResult(statistic=462387.0, pvalue=5.7680313725509006e-183),\n",
       "  MannwhitneyuResult(statistic=467690.0, pvalue=1.4927727358351527e-182),\n",
       "  MannwhitneyuResult(statistic=473075.0, pvalue=3.9161821665005874e-182),\n",
       "  MannwhitneyuResult(statistic=478509.0, pvalue=1.0352627645056723e-181),\n",
       "  MannwhitneyuResult(statistic=484116.0, pvalue=2.8194232027159994e-181),\n",
       "  MannwhitneyuResult(statistic=489762.0, pvalue=7.7226027983122985e-181),\n",
       "  MannwhitneyuResult(statistic=495605.0, pvalue=2.1881300425407524e-180),\n",
       "  MannwhitneyuResult(statistic=501438.0, pvalue=6.1806967540661465e-180),\n",
       "  MannwhitneyuResult(statistic=507383.0, pvalue=1.7785811593500891e-179),\n",
       "  MannwhitneyuResult(statistic=513645.0, pvalue=5.4068688371465295e-179),\n",
       "  MannwhitneyuResult(statistic=519982.0, pvalue=1.663152035383253e-178),\n",
       "  MannwhitneyuResult(statistic=526336.0, pvalue=5.123315282120249e-178),\n",
       "  MannwhitneyuResult(statistic=532902.0, pvalue=1.6359184499141704e-177),\n",
       "  MannwhitneyuResult(statistic=539623.0, pvalue=5.3595228690267016e-177),\n",
       "  MannwhitneyuResult(statistic=546659.0, pvalue=1.8528198438170642e-176),\n",
       "  MannwhitneyuResult(statistic=553710.0, pvalue=6.4099694624601392e-176),\n",
       "  MannwhitneyuResult(statistic=560964.0, pvalue=2.2936509628809161e-175),\n",
       "  MannwhitneyuResult(statistic=568459.0, pvalue=8.5441045833282084e-175),\n",
       "  MannwhitneyuResult(statistic=575995.0, pvalue=3.1987508528263295e-174),\n",
       "  MannwhitneyuResult(statistic=583567.0, pvalue=1.2024691294101364e-173),\n",
       "  MannwhitneyuResult(statistic=591600.0, pvalue=4.8879804044370595e-173),\n",
       "  MannwhitneyuResult(statistic=599743.0, pvalue=2.0203227802682815e-172),\n",
       "  MannwhitneyuResult(statistic=608148.0, pvalue=8.7171615505255199e-172),\n",
       "  MannwhitneyuResult(statistic=616712.0, pvalue=3.8558729081149572e-171),\n",
       "  MannwhitneyuResult(statistic=625611.0, pvalue=1.8023010439685356e-170),\n",
       "  MannwhitneyuResult(statistic=634674.0, pvalue=8.6399095639588984e-170),\n",
       "  MannwhitneyuResult(statistic=644017.0, pvalue=4.3329024750119657e-169),\n",
       "  MannwhitneyuResult(statistic=653626.0, pvalue=2.2670387294568962e-168),\n",
       "  MannwhitneyuResult(statistic=663505.0, pvalue=1.2379950178449108e-167),\n",
       "  MannwhitneyuResult(statistic=673508.0, pvalue=6.8796373995960374e-167),\n",
       "  MannwhitneyuResult(statistic=683960.0, pvalue=4.1120032144031021e-166),\n",
       "  MannwhitneyuResult(statistic=694499.0, pvalue=2.483991131665991e-165),\n",
       "  MannwhitneyuResult(statistic=705440.0, pvalue=1.5998181773568089e-164),\n",
       "  MannwhitneyuResult(statistic=716928.0, pvalue=1.1253133654815249e-163),\n",
       "  MannwhitneyuResult(statistic=728711.0, pvalue=8.2781430973228073e-163),\n",
       "  MannwhitneyuResult(statistic=740954.0, pvalue=6.5457625880210134e-162),\n",
       "  MannwhitneyuResult(statistic=753711.0, pvalue=5.6106868769605332e-161),\n",
       "  MannwhitneyuResult(statistic=766820.0, pvalue=5.0696134438553699e-160),\n",
       "  MannwhitneyuResult(statistic=780303.0, pvalue=4.8439712765319455e-159),\n",
       "  MannwhitneyuResult(statistic=794026.0, pvalue=4.7835108898165046e-158),\n",
       "  MannwhitneyuResult(statistic=808656.0, pvalue=5.4518970330854954e-157),\n",
       "  MannwhitneyuResult(statistic=823639.0, pvalue=6.5332338167879963e-156),\n",
       "  MannwhitneyuResult(statistic=839210.0, pvalue=8.551631765007403e-155),\n",
       "  MannwhitneyuResult(statistic=855342.0, pvalue=1.2159722502510593e-153),\n",
       "  MannwhitneyuResult(statistic=872223.0, pvalue=1.9348807103248609e-152),\n",
       "  MannwhitneyuResult(statistic=889691.0, pvalue=3.3507559176965013e-151),\n",
       "  MannwhitneyuResult(statistic=908037.0, pvalue=6.6126333625214498e-150),\n",
       "  MannwhitneyuResult(statistic=927270.0, pvalue=1.4865181658657657e-148),\n",
       "  MannwhitneyuResult(statistic=947101.0, pvalue=3.6266293161703546e-147),\n",
       "  MannwhitneyuResult(statistic=967967.0, pvalue=1.0283113383488276e-145),\n",
       "  MannwhitneyuResult(statistic=989943.0, pvalue=3.4208115129640175e-144),\n",
       "  MannwhitneyuResult(statistic=1013054.0, pvalue=1.3366178625824042e-142),\n",
       "  MannwhitneyuResult(statistic=1037557.0, pvalue=6.3677684674857769e-141),\n",
       "  MannwhitneyuResult(statistic=1063080.0, pvalue=3.4762901188348974e-139),\n",
       "  MannwhitneyuResult(statistic=1090075.0, pvalue=2.325673606942502e-137),\n",
       "  MannwhitneyuResult(statistic=1119016.0, pvalue=2.0417598980445655e-135),\n",
       "  MannwhitneyuResult(statistic=1149547.0, pvalue=2.2131730214482804e-133),\n",
       "  MannwhitneyuResult(statistic=1181996.0, pvalue=3.0955747355658014e-131),\n",
       "  MannwhitneyuResult(statistic=1216625.0, pvalue=5.7697334319665186e-129),\n",
       "  MannwhitneyuResult(statistic=1253642.0, pvalue=1.4652501214863088e-126),\n",
       "  MannwhitneyuResult(statistic=1293783.0, pvalue=5.5931926263403772e-124),\n",
       "  MannwhitneyuResult(statistic=1336992.0, pvalue=3.137281578134013e-121),\n",
       "  MannwhitneyuResult(statistic=1383894.0, pvalue=2.7859712601640183e-118),\n",
       "  MannwhitneyuResult(statistic=1434966.0, pvalue=4.1078540469032858e-115),\n",
       "  MannwhitneyuResult(statistic=1491053.0, pvalue=1.1041821333996515e-111),\n",
       "  MannwhitneyuResult(statistic=1553643.0, pvalue=6.4248007399500245e-108),\n",
       "  MannwhitneyuResult(statistic=1623323.0, pvalue=8.3547851789570279e-104),\n",
       "  MannwhitneyuResult(statistic=1702199.0, pvalue=3.0256014155059336e-99),\n",
       "  MannwhitneyuResult(statistic=1792505.0, pvalue=3.7355343871943539e-94),\n",
       "  MannwhitneyuResult(statistic=1897746.0, pvalue=2.1557317601955693e-88),\n",
       "  MannwhitneyuResult(statistic=2022870.0, pvalue=8.7486381731113789e-82),\n",
       "  MannwhitneyuResult(statistic=2176342.0, pvalue=4.8924115630286979e-74),\n",
       "  MannwhitneyuResult(statistic=2372376.0, pvalue=1.0287493516535119e-64),\n",
       "  MannwhitneyuResult(statistic=2638097.0, pvalue=4.1957152299755395e-53),\n",
       "  MannwhitneyuResult(statistic=3048473.0, pvalue=1.7180079406422341e-37),\n",
       "  MannwhitneyuResult(statistic=4666957.0, pvalue=0.0033462471341774943)]}"
      ]
     },
     "execution_count": 18,
     "metadata": {},
     "output_type": "execute_result"
    }
   ],
   "source": [
    "wmw_res = {\n",
    "    tissue:  [mannwhitneyu(s_mixed[~ind[tissue]], s_mixed[ind[tissue]]) for s_mixed in mixed] for \n",
    "    tissue in ind\n",
    "}\n",
    "wmw_res"
   ]
  },
  {
   "cell_type": "code",
   "execution_count": 19,
   "metadata": {
    "collapsed": false
   },
   "outputs": [
    {
     "data": {
      "text/plain": [
       "{'tissue1': (0.95516788595010316, 105399.0, 6.1961914241669692e-96),\n",
       " 'tissue2': (0.95973238291752638, 207368.0, 5.1613217824207884e-208)}"
      ]
     },
     "execution_count": 19,
     "metadata": {},
     "output_type": "execute_result"
    }
   ],
   "source": [
    "wmw_exp = {}\n",
    "for tissue in ind:\n",
    "    y = np.repeat(np.percentile(s[tissue], (1- rel_rk[tissue]) * 100), size[tissue])\n",
    "    u, p = mannwhitneyu(s[tissue], y)\n",
    "    wmw_exp[tissue] = (wmw_r(s[tissue], y, u), u, p) \n",
    "wmw_exp"
   ]
  },
  {
   "cell_type": "code",
   "execution_count": 20,
   "metadata": {
    "collapsed": false
   },
   "outputs": [
    {
     "data": {
      "text/plain": [
       "{'tissue1': 94521.0, 'tissue2': 155365.0}"
      ]
     },
     "execution_count": 20,
     "metadata": {},
     "output_type": "execute_result"
    }
   ],
   "source": [
    "u_exp = {\n",
    "    tissue: wmw_u_exp(rel_rk[tissue], size[tissue], s[tissue].size) for tissue in ind\n",
    "}\n",
    "u_exp"
   ]
  },
  {
   "cell_type": "markdown",
   "metadata": {},
   "source": [
    "## BioQC score, corrected and uncorrected"
   ]
  },
  {
   "cell_type": "code",
   "execution_count": 21,
   "metadata": {
    "collapsed": true
   },
   "outputs": [],
   "source": [
    "wmw_score_corr = {\n",
    "    tissue: [-np.log10(p) / -np.log10(wmw_exp[tissue][2]) for u, p in res] for tissue, res in wmw_res.items()\n",
    "}\n",
    "wmw_score = {\n",
    "    tissue: [-np.log10(p) for u, p in res] for tissue, res in wmw_res.items()\n",
    "}"
   ]
  },
  {
   "cell_type": "code",
   "execution_count": 22,
   "metadata": {
    "collapsed": false
   },
   "outputs": [
    {
     "data": {
      "text/plain": [
       "<matplotlib.axes._subplots.AxesSubplot at 0x7fff6eeeb278>"
      ]
     },
     "execution_count": 22,
     "metadata": {},
     "output_type": "execute_result"
    },
    {
     "data": {
      "image/png": "[encoded data removed]",
      "text/plain": [
       "<matplotlib.figure.Figure at 0x7fff6ef826a0>"
      ]
     },
     "metadata": {},
     "output_type": "display_data"
    }
   ],
   "source": [
    "fix, (ax1, ax2) = subplots(1, 2, figsize=(14, 4))\n",
    "pd.DataFrame(wmw_score).plot(ax=ax1)\n",
    "pd.DataFrame(wmw_score_corr).plot(ax=ax2)"
   ]
  },
  {
   "cell_type": "markdown",
   "metadata": {},
   "source": [
    "## $r$ effect size, corrected and uncorrected"
   ]
  },
  {
   "cell_type": "code",
   "execution_count": 23,
   "metadata": {
    "collapsed": false
   },
   "outputs": [],
   "source": [
    "r = {\n",
    "    tissue: [wmw_r(s_mixed[~ind[tissue]], s_mixed[ind[tissue]], u) for u, p in res]\n",
    "    for s_mixed, (tissue, res) in zip(mixed, wmw_res.items())\n",
    "}\n",
    "r_corr = {\n",
    "    tissue: [wmw_r(s_mixed[~ind[tissue]], s_mixed[ind[tissue]], u) / wmw_exp[tissue][0] for u, p in res]\n",
    "    for s_mixed, (tissue, res) in zip(mixed, wmw_res.items())\n",
    "}\n",
    "r_corr_u = {\n",
    "    tissue: [wmw_r_corr(s_mixed[~ind[tissue]], s_mixed[ind[tissue]], u, u_exp[tissue]) for u, p in res]\n",
    "    for s_mixed, (tissue, res) in zip(mixed, wmw_res.items())\n",
    "}"
   ]
  },
  {
   "cell_type": "code",
   "execution_count": 24,
   "metadata": {
    "collapsed": false
   },
   "outputs": [
    {
     "data": {
      "text/plain": [
       "<matplotlib.axes._subplots.AxesSubplot at 0x7fff6cd3b550>"
      ]
     },
     "execution_count": 24,
     "metadata": {},
     "output_type": "execute_result"
    },
    {
     "data": {
      "image/png": "[encoded data removed]",
      "text/plain": [
       "<matplotlib.figure.Figure at 0x7fff6cdd8780>"
      ]
     },
     "metadata": {},
     "output_type": "display_data"
    }
   ],
   "source": [
    "fix, (ax1, ax2) = subplots(1, 2, figsize=(14, 4))\n",
    "pd.DataFrame(r).plot(ax=ax1)\n",
    "pd.DataFrame(r_corr).plot(ax=ax2)"
   ]
  },
  {
   "cell_type": "code",
   "execution_count": 25,
   "metadata": {
    "collapsed": false
   },
   "outputs": [
    {
     "data": {
      "text/plain": [
       "<matplotlib.axes._subplots.AxesSubplot at 0x7fff6cd12a20>"
      ]
     },
     "execution_count": 25,
     "metadata": {},
     "output_type": "execute_result"
    },
    {
     "data": {
      "image/png": "[encoded data removed]",
      "text/plain": [
       "<matplotlib.figure.Figure at 0x7fff6ef824e0>"
      ]
     },
     "metadata": {},
     "output_type": "display_data"
    }
   ],
   "source": [
    "pd.DataFrame(r_corr_u).plot()"
   ]
  },
  {
   "cell_type": "code",
   "execution_count": 127,
   "metadata": {
    "collapsed": false
   },
   "outputs": [],
   "source": [
    "d = stats.gaussian_kde([x for x in mixed[-1] if 0 <= x <= 70])"
   ]
  },
  {
   "cell_type": "code",
   "execution_count": 128,
   "metadata": {
    "collapsed": true
   },
   "outputs": [],
   "source": [
    "xs = np.linspace(0, 20, 500)"
   ]
  },
  {
   "cell_type": "code",
   "execution_count": 129,
   "metadata": {
    "collapsed": false
   },
   "outputs": [
    {
     "data": {
      "text/plain": [
       "[<matplotlib.lines.Line2D at 0x7ffebb677198>]"
      ]
     },
     "execution_count": 129,
     "metadata": {},
     "output_type": "execute_result"
    },
    {
     "data": {
      "image/png": "[encoded data removed]",
      "text/plain": [
       "<matplotlib.figure.Figure at 0x7ffebb9ada20>"
      ]
     },
     "metadata": {},
     "output_type": "display_data"
    }
   ],
   "source": [
    "plot(xs, d(xs))"
   ]
  },
  {
   "cell_type": "code",
   "execution_count": 130,
   "metadata": {
    "collapsed": true
   },
   "outputs": [],
   "source": [
    "densities = {\n",
    "    tissue: [d(np.median(mixed_s[ind[tissue]]))[0] for mixed_s in mixed] for tissue in s\n",
    "}"
   ]
  },
  {
   "cell_type": "code",
   "execution_count": 131,
   "metadata": {
    "collapsed": true
   },
   "outputs": [],
   "source": [
    "r_density = {\n",
    "    tissue: [r / d for r, d in zip(r_corr_u[tissue], densities[tissue])] for tissue in s\n",
    "}"
   ]
  },
  {
   "cell_type": "code",
   "execution_count": 132,
   "metadata": {
    "collapsed": false
   },
   "outputs": [
    {
     "data": {
      "text/plain": [
       "<matplotlib.axes._subplots.AxesSubplot at 0x7ffebb84e550>"
      ]
     },
     "execution_count": 132,
     "metadata": {},
     "output_type": "execute_result"
    },
    {
     "data": {
      "image/png": "[encoded data removed]",
      "text/plain": [
       "<matplotlib.figure.Figure at 0x7ffebb8ae320>"
      ]
     },
     "metadata": {},
     "output_type": "display_data"
    }
   ],
   "source": [
    "pd.DataFrame(r_density).plot()"
   ]
  },
  {
   "cell_type": "code",
   "execution_count": null,
   "metadata": {
    "collapsed": true
   },
   "outputs": [],
   "source": []
  }
 ],
 "metadata": {
  "anaconda-cloud": {},
  "kernelspec": {
   "display_name": "Python [Root]",
   "language": "python",
   "name": "Python [Root]"
  },
  "language_info": {
   "codemirror_mode": {
    "name": "ipython",
    "version": 3
   },
   "file_extension": ".py",
   "mimetype": "text/x-python",
   "name": "python",
   "nbconvert_exporter": "python",
   "pygments_lexer": "ipython3",
   "version": "3.5.2"
  }
 },
 "nbformat": 4,
 "nbformat_minor": 0
}
