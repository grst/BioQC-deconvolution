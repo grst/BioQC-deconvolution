{
 "cells": [
  {
   "cell_type": "code",
   "execution_count": 2,
   "metadata": {
    "collapsed": false
   },
   "outputs": [],
   "source": [
    "%load_ext autoreload\n",
    "%autoreload 1\n",
    "%aimport pygenesig.pybioqc\n",
    "%aimport pygenesig.tools\n",
    "%aimport pygenesig.file_formats\n",
    "%matplotlib inline\n",
    "\n",
    "\n",
    "from pygenesig.pybioqc import * \n",
    "from pygenesig.bioqc import * \n",
    "from pygenesig.tools import * \n",
    "from pygenesig.file_formats import * \n",
    "from scipy.stats import mannwhitneyu\n",
    "import pandas as pd\n",
    "from pylab import * \n",
    "import seaborn as sns"
   ]
  },
  {
   "cell_type": "code",
   "execution_count": 3,
   "metadata": {
    "collapsed": false
   },
   "outputs": [],
   "source": [
    "exprs = read_expr(\"../pygenesig-example/data_processed/v6/exprs.npy\")\n",
    "target = read_target(\"../pygenesig-example/data_processed/v6/target.csv\")\n",
    "rosetta = read_rosetta(\"../pygenesig-example/data_processed/v6/rosetta.csv\", inverse=True)"
   ]
  },
  {
   "cell_type": "code",
   "execution_count": 4,
   "metadata": {
    "collapsed": false
   },
   "outputs": [],
   "source": [
    "exprs_m = read_expr(\"../pygenesig-example/data_processed/mouseGNF/exprs.npy\")\n",
    "target_m = read_target(\"../pygenesig-example/data_processed/mouseGNF/target.csv\")\n",
    "rosetta_m = read_rosetta(\"../pygenesig-example/data_processed/mouseGNF/rosetta.csv\", inverse=True)"
   ]
  },
  {
   "cell_type": "code",
   "execution_count": 5,
   "metadata": {
    "collapsed": false
   },
   "outputs": [],
   "source": [
    "signatures = load_gmt(\"../pygenesig-example/results/gtex_v6_solid_gini_0.8_1/signatures.gmt\")\n",
    "signatures_ind = translate_signatures(signatures, rosetta, ignore_missing=True)\n",
    "signatures_ind = {\n",
    "    tissue: np.array(inds) for tissue, inds in signatures_ind.items()\n",
    "}\n",
    "signatures_ind_m = translate_signatures(signatures, rosetta_m, ignore_missing=True)"
   ]
  },
  {
   "cell_type": "code",
   "execution_count": 6,
   "metadata": {
    "collapsed": false
   },
   "outputs": [
    {
     "data": {
      "text/plain": [
       "array(['adipose_brown', 'adipose_brown', 'adipose_white', 'adipose_white',\n",
       "       'adrenal_gland', 'adrenal_gland', 'amygdala', 'amygdala',\n",
       "       'B-cells_marginal_zone', 'B-cells_marginal_zone', 'bladder',\n",
       "       'bladder', 'bone', 'bone', 'bone_marrow', 'bone_marrow',\n",
       "       'cerebellum', 'cerebellum', 'cerebral_cortex', 'cerebral_cortex',\n",
       "       'cerebral_cortex_prefrontal', 'cerebral_cortex_prefrontal',\n",
       "       'ciliary_bodies', 'ciliary_bodies', 'common_myeloid_progenitor',\n",
       "       'common_myeloid_progenitor', 'cornea', 'cornea',\n",
       "       'dendritic_cells_lymphoid_CD8a+', 'dendritic_cells_lymphoid_CD8a+',\n",
       "       'dendritic_cells_myeloid_CD8a-', 'dendritic_cells_myeloid_CD8a-',\n",
       "       'dendritic_plasmacytoid_B220+', 'dendritic_plasmacytoid_B220+',\n",
       "       'dorsal_root_ganglia', 'dorsal_root_ganglia', 'dorsal_striatum',\n",
       "       'dorsal_striatum', 'epidermis', 'epidermis', 'eyecup', 'eyecup',\n",
       "       'follicular_B-cells', 'follicular_B-cells',\n",
       "       'granulo_mono_progenitor', 'granulo_mono_progenitor',\n",
       "       'granulocytes_mac1+gr1+', 'granulocytes_mac1+gr1+', 'heart',\n",
       "       'heart', 'hippocampus', 'hippocampus', 'hypothalamus',\n",
       "       'hypothalamus', 'intestine_large', 'intestine_large',\n",
       "       'intestine_small', 'intestine_small', 'iris', 'iris', 'kidney',\n",
       "       'kidney', 'lacrimal_gland', 'lacrimal_gland', 'lens', 'lens',\n",
       "       'liver', 'liver', 'lung', 'lung', 'lymph_nodes', 'lymph_nodes',\n",
       "       'macrophage_bone_marrow_0hr', 'macrophage_bone_marrow_0hr',\n",
       "       'macrophage_bone_marrow_24h_LPS', 'macrophage_bone_marrow_24h_LPS',\n",
       "       'macrophage_bone_marrow_2hr_LPS', 'macrophage_bone_marrow_2hr_LPS',\n",
       "       'macrophage_bone_marrow_6hr_LPS', 'macrophage_bone_marrow_6hr_LPS',\n",
       "       'macrophage_peri_LPS_thio_0hrs', 'macrophage_peri_LPS_thio_0hrs',\n",
       "       'macrophage_peri_LPS_thio_1hrs', 'macrophage_peri_LPS_thio_1hrs',\n",
       "       'macrophage_peri_LPS_thio_7hrs', 'macrophage_peri_LPS_thio_7hrs',\n",
       "       'mammary_gland__lact', 'mammary_gland__lact',\n",
       "       'mammary_gland_non-lactating', 'mammary_gland_non-lactating',\n",
       "       'mast_cells', 'mast_cells', 'mast_cells_IgE', 'mast_cells_IgE',\n",
       "       'mast_cells_IgE+antigen_1hr', 'mast_cells_IgE+antigen_1hr',\n",
       "       'mast_cells_IgE+antigen_6hr', 'mast_cells_IgE+antigen_6hr',\n",
       "       'mega_erythrocyte_progenitor', 'mega_erythrocyte_progenitor',\n",
       "       'microglia', 'microglia', 'NK_cells', 'NK_cells',\n",
       "       'nucleus_accumbens', 'nucleus_accumbens', 'olfactory_bulb',\n",
       "       'olfactory_bulb', 'osteoblast_day14', 'osteoblast_day14',\n",
       "       'osteoblast_day21', 'osteoblast_day21', 'osteoblast_day5',\n",
       "       'osteoblast_day5', 'osteoclasts', 'osteoclasts', 'ovary', 'ovary',\n",
       "       'pancreas', 'pancreas', 'pituitary', 'pituitary', 'placenta',\n",
       "       'placenta', 'prostate', 'prostate', 'retina', 'retina',\n",
       "       'retinal_pigment_epithelium', 'retinal_pigment_epithelium',\n",
       "       'salivary_gland', 'salivary_gland', 'skeletal_muscle',\n",
       "       'skeletal_muscle', 'spinal_cord', 'spinal_cord', 'spleen', 'spleen',\n",
       "       'stem_cells__HSC', 'stem_cells__HSC', 'stomach', 'stomach',\n",
       "       'T-cells_CD4+', 'T-cells_CD4+', 'T-cells_CD8+', 'T-cells_CD8+',\n",
       "       'T-cells_foxP3+', 'T-cells_foxP3+', 'testis', 'testis',\n",
       "       'thymocyte_DP_CD4+CD8+', 'thymocyte_DP_CD4+CD8+',\n",
       "       'thymocyte_SP_CD4+', 'thymocyte_SP_CD4+', 'thymocyte_SP_CD8+',\n",
       "       'thymocyte_SP_CD8+', 'umbilical_cord', 'umbilical_cord', 'uterus',\n",
       "       'uterus'], \n",
       "      dtype='<U30')"
      ]
     },
     "execution_count": 6,
     "metadata": {},
     "output_type": "execute_result"
    }
   ],
   "source": [
    "target_m"
   ]
  },
  {
   "cell_type": "code",
   "execution_count": 20,
   "metadata": {
    "collapsed": true
   },
   "outputs": [],
   "source": [
    "target_name = {\n",
    "    'tissue1': 'Pancreas',\n",
    "    'tissue2': 'Liver'\n",
    "}"
   ]
  },
  {
   "cell_type": "code",
   "execution_count": 21,
   "metadata": {
    "collapsed": true
   },
   "outputs": [],
   "source": [
    "target_name_m = {\n",
    "    'tissue1': 'pancreas',\n",
    "    'tissue2': 'liver'\n",
    "}"
   ]
  },
  {
   "cell_type": "code",
   "execution_count": 22,
   "metadata": {
    "collapsed": true
   },
   "outputs": [],
   "source": [
    "sig_name = {\n",
    "    'tissue1': 'Pancreas',\n",
    "    'tissue2': 'Liver'\n",
    "}"
   ]
  },
  {
   "cell_type": "code",
   "execution_count": 23,
   "metadata": {
    "collapsed": false
   },
   "outputs": [
    {
     "data": {
      "text/plain": [
       "(array([6116, 6117, 6118, 6119, 6120, 6121, 6122, 6123, 6124, 6125, 6126,\n",
       "        6127, 6128, 6129, 6130, 6131, 6132, 6133, 6134, 6135, 6136, 6137,\n",
       "        6138, 6139, 6140, 6141, 6142, 6143, 6144, 6145, 6146, 6147, 6148,\n",
       "        6149, 6150, 6151, 6152, 6153, 6154, 6155, 6156, 6157, 6158, 6159,\n",
       "        6160, 6161, 6162, 6163, 6164, 6165, 6166, 6167, 6168, 6169, 6170,\n",
       "        6171, 6172, 6173, 6174, 6175, 6176, 6177, 6178, 6179, 6180, 6181,\n",
       "        6182, 6183, 6184, 6185, 6186, 6187, 6188, 6189, 6190, 6191, 6192,\n",
       "        6193, 6194, 6195, 6196, 6197, 6198, 6199, 6200, 6201, 6202, 6203,\n",
       "        6204, 6205, 6206, 6207, 6208, 6209, 6210, 6211, 6212, 6213, 6214,\n",
       "        6215, 6216, 6217, 6218, 6219, 6220, 6221, 6222, 6223, 6224, 6225,\n",
       "        6226, 6227, 6228, 6229, 6230, 6231, 6232, 6233, 6234, 6235, 6236,\n",
       "        6237, 6238, 6239, 6240, 6241, 6242, 6243, 6244, 6245, 6246, 6247,\n",
       "        6248, 6249, 6250, 6251, 6252, 6253, 6254, 6255, 6256, 6257, 6258,\n",
       "        6259, 6260, 6261, 6262, 6263, 6264, 6265, 6266, 6267, 6268, 6269,\n",
       "        6270, 6271, 6272, 6273, 6274, 6275, 6276, 6277, 6278, 6279, 6280,\n",
       "        6281, 6282, 6283, 6284, 6285, 6286]),)"
      ]
     },
     "execution_count": 23,
     "metadata": {},
     "output_type": "execute_result"
    }
   ],
   "source": [
    "np.where(target == target_name['tissue1'])"
   ]
  },
  {
   "cell_type": "code",
   "execution_count": 24,
   "metadata": {
    "collapsed": false
   },
   "outputs": [
    {
     "data": {
      "text/plain": [
       "(array([4789, 4790, 4791, 4792, 4793, 4794, 4795, 4796, 4797, 4798, 4799,\n",
       "        4800, 4801, 4802, 4803, 4804, 4805, 4806, 4807, 4808, 4809, 4810,\n",
       "        4811, 4812, 4813, 4814, 4815, 4816, 4817, 4818, 4819, 4820, 4821,\n",
       "        4822, 4823, 4824, 4825, 4826, 4827, 4828, 4829, 4830, 4831, 4832,\n",
       "        4833, 4834, 4835, 4836, 4837, 4838, 4839, 4840, 4841, 4842, 4843,\n",
       "        4844, 4845, 4846, 4847, 4848, 4849, 4850, 4851, 4852, 4853, 4854,\n",
       "        4855, 4856, 4857, 4858, 4859, 4860, 4861, 4862, 4863, 4864, 4865,\n",
       "        4866, 4867, 4868, 4869, 4870, 4871, 4872, 4873, 4874, 4875, 4876,\n",
       "        4877, 4878, 4879, 4880, 4881, 4882, 4883, 4884, 4885, 4886, 4887,\n",
       "        4888, 4889, 4890, 4891, 4892, 4893, 4894, 4895, 4896, 4897, 4898,\n",
       "        4899, 4900, 4901, 4902, 4903, 4904, 4905, 4906, 4907]),)"
      ]
     },
     "execution_count": 24,
     "metadata": {},
     "output_type": "execute_result"
    }
   ],
   "source": [
    "np.where(target == target_name['tissue2'])"
   ]
  },
  {
   "cell_type": "code",
   "execution_count": 25,
   "metadata": {
    "collapsed": false
   },
   "outputs": [
    {
     "data": {
      "text/plain": [
       "{'tissue1': 118, 'tissue2': 66}"
      ]
     },
     "execution_count": 25,
     "metadata": {},
     "output_type": "execute_result"
    }
   ],
   "source": [
    "s_ind = {\n",
    "    'tissue1': np.flatnonzero(target_m == target_name_m['tissue1'])[0],\n",
    "    'tissue2': np.flatnonzero(target_m == target_name_m['tissue2'])[0]\n",
    "}\n",
    "s_ind"
   ]
  },
  {
   "cell_type": "code",
   "execution_count": 26,
   "metadata": {
    "collapsed": false
   },
   "outputs": [],
   "source": [
    "s = {\n",
    "    tissue: exprs_m[:, i] for tissue, i in s_ind.items()\n",
    "}"
   ]
  },
  {
   "cell_type": "code",
   "execution_count": 27,
   "metadata": {
    "collapsed": false
   },
   "outputs": [],
   "source": [
    "ind = {\n",
    "    tissue: np.array([True if i in signatures_ind_m[name] else False for i in range(exprs_m.shape[0])])\n",
    "    for tissue, name in sig_name.items()\n",
    "}"
   ]
  },
  {
   "cell_type": "code",
   "execution_count": 29,
   "metadata": {
    "collapsed": false
   },
   "outputs": [
    {
     "data": {
      "text/plain": [
       "{'tissue1': 0.022416057024948415, 'tissue2': 0.02013380854123679}"
      ]
     },
     "execution_count": 29,
     "metadata": {},
     "output_type": "execute_result"
    }
   ],
   "source": [
    "rel_rk = {\n",
    "    tissue: pd.DataFrame(exprs[:, target == target_name[tissue]]).rank(\n",
    "        axis=0, ascending=False).iloc[signatures_ind[sig_name[tissue]], :].median(axis=0).median() / exprs.shape[0] for tissue in s\n",
    "}\n",
    "rel_rk"
   ]
  },
  {
   "cell_type": "code",
   "execution_count": 13,
   "metadata": {
    "collapsed": false
   },
   "outputs": [
    {
     "data": {
      "text/plain": [
       "{'tissue1': 322, 'tissue2': 45}"
      ]
     },
     "execution_count": 13,
     "metadata": {},
     "output_type": "execute_result"
    }
   ],
   "source": [
    "size = {\n",
    "    tissue: sum(t_ind) for tissue, t_ind in ind.items()\n",
    "}\n",
    "size"
   ]
  },
  {
   "cell_type": "code",
   "execution_count": 14,
   "metadata": {
    "collapsed": false
   },
   "outputs": [
    {
     "data": {
      "text/plain": [
       "0.0054794520547945206"
      ]
     },
     "execution_count": 14,
     "metadata": {},
     "output_type": "execute_result"
    }
   ],
   "source": [
    "overlap = jaccard_ind(*(signatures_ind[sig_name[tissue]] for tissue in s))\n",
    "overlap"
   ]
  },
  {
   "cell_type": "code",
   "execution_count": 15,
   "metadata": {
    "collapsed": true
   },
   "outputs": [],
   "source": [
    "def mix(x, y, prop_x):\n",
    "    return x * prop_x + y * (1 - prop_x)"
   ]
  },
  {
   "cell_type": "code",
   "execution_count": 16,
   "metadata": {
    "collapsed": true
   },
   "outputs": [],
   "source": [
    "def wmw_r_corr(x, y, u, u_exp):\n",
    "    return 1 - (2 * (u - u_exp)) / (x.size * y.size)"
   ]
  },
  {
   "cell_type": "code",
   "execution_count": 17,
   "metadata": {
    "collapsed": false
   },
   "outputs": [],
   "source": [
    "mixed = [mix(s['tissue1'], s['tissue2'], f) for f in np.arange(0, 1.01, 0.01)]"
   ]
  },
  {
   "cell_type": "code",
   "execution_count": 18,
   "metadata": {
    "collapsed": false
   },
   "outputs": [
    {
     "data": {
      "text/plain": [
       "{'tissue1': [MannwhitneyuResult(statistic=4562563.5, pvalue=0.00041064170893348364),\n",
       "  MannwhitneyuResult(statistic=3876008.0, pvalue=1.8586819214525458e-14),\n",
       "  MannwhitneyuResult(statistic=3447765.0, pvalue=7.7575605801279634e-25),\n",
       "  MannwhitneyuResult(statistic=3162732.0, pvalue=2.0099726841353666e-33),\n",
       "  MannwhitneyuResult(statistic=2945691.0, pvalue=7.2914708873413567e-41),\n",
       "  MannwhitneyuResult(statistic=2769686.0, pvalue=1.8019486353160533e-47),\n",
       "  MannwhitneyuResult(statistic=2622380.0, pvalue=2.1423483647562473e-53),\n",
       "  MannwhitneyuResult(statistic=2495753.0, pvalue=8.9092896503674227e-59),\n",
       "  MannwhitneyuResult(statistic=2384514.0, pvalue=1.0069006328485531e-63),\n",
       "  MannwhitneyuResult(statistic=2285224.0, pvalue=2.5934123488165399e-68),\n",
       "  MannwhitneyuResult(statistic=2196047.0, pvalue=1.4207909267284735e-72),\n",
       "  MannwhitneyuResult(statistic=2115466.0, pvalue=1.5426681589244682e-76),\n",
       "  MannwhitneyuResult(statistic=2041480.0, pvalue=2.8406163546256606e-80),\n",
       "  MannwhitneyuResult(statistic=1973439.0, pvalue=8.6761846340246542e-84),\n",
       "  MannwhitneyuResult(statistic=1910471.0, pvalue=4.1375173404355227e-87),\n",
       "  MannwhitneyuResult(statistic=1852337.0, pvalue=3.1017794315590208e-90),\n",
       "  MannwhitneyuResult(statistic=1797823.0, pvalue=3.2360878991004493e-93),\n",
       "  MannwhitneyuResult(statistic=1746815.0, pvalue=4.7361641077884039e-96),\n",
       "  MannwhitneyuResult(statistic=1698841.0, pvalue=9.3313764970460622e-99),\n",
       "  MannwhitneyuResult(statistic=1653207.0, pvalue=2.295621748979039e-101),\n",
       "  MannwhitneyuResult(statistic=1610664.0, pvalue=7.8954313290934599e-104),\n",
       "  MannwhitneyuResult(statistic=1570009.0, pvalue=3.2737415654632664e-106),\n",
       "  MannwhitneyuResult(statistic=1531143.0, pvalue=1.6286837636274811e-108),\n",
       "  MannwhitneyuResult(statistic=1494193.0, pvalue=9.973959132609228e-111),\n",
       "  MannwhitneyuResult(statistic=1458780.0, pvalue=7.1884014810662359e-113),\n",
       "  MannwhitneyuResult(statistic=1425381.0, pvalue=6.5631102906465222e-115),\n",
       "  MannwhitneyuResult(statistic=1393279.0, pvalue=6.9070874432108077e-117),\n",
       "  MannwhitneyuResult(statistic=1362319.0, pvalue=8.2337050990281779e-119),\n",
       "  MannwhitneyuResult(statistic=1332921.0, pvalue=1.1862797112772104e-120),\n",
       "  MannwhitneyuResult(statistic=1304472.0, pvalue=1.8990163677577374e-122),\n",
       "  MannwhitneyuResult(statistic=1277006.0, pvalue=3.405157667238464e-124),\n",
       "  MannwhitneyuResult(statistic=1250332.0, pvalue=6.6694132157621807e-126),\n",
       "  MannwhitneyuResult(statistic=1224562.0, pvalue=1.454384312156777e-127),\n",
       "  MannwhitneyuResult(statistic=1199544.0, pvalue=3.4608240302499234e-129),\n",
       "  MannwhitneyuResult(statistic=1175605.0, pvalue=9.4612186860211414e-131),\n",
       "  MannwhitneyuResult(statistic=1152130.0, pvalue=2.7148872864753967e-132),\n",
       "  MannwhitneyuResult(statistic=1129663.0, pvalue=8.8958555323100544e-134),\n",
       "  MannwhitneyuResult(statistic=1107794.0, pvalue=3.1337848238090146e-135),\n",
       "  MannwhitneyuResult(statistic=1086291.0, pvalue=1.1468552746933378e-136),\n",
       "  MannwhitneyuResult(statistic=1065689.0, pvalue=4.7415732227691502e-138),\n",
       "  MannwhitneyuResult(statistic=1045486.0, pvalue=2.0524446694461453e-139),\n",
       "  MannwhitneyuResult(statistic=1025927.0, pvalue=9.6742288009665327e-141),\n",
       "  MannwhitneyuResult(statistic=1006840.0, pvalue=4.8399086423607686e-142),\n",
       "  MannwhitneyuResult(statistic=988000.0, pvalue=2.4828131904492914e-143),\n",
       "  MannwhitneyuResult(statistic=970110.0, pvalue=1.4609129837804748e-144),\n",
       "  MannwhitneyuResult(statistic=952343.0, pvalue=8.6594592515272128e-146),\n",
       "  MannwhitneyuResult(statistic=934645.0, pvalue=5.1274192731925326e-147),\n",
       "  MannwhitneyuResult(statistic=917663.0, pvalue=3.3656519065165681e-148),\n",
       "  MannwhitneyuResult(statistic=901274.0, pvalue=2.4043131010494162e-149),\n",
       "  MannwhitneyuResult(statistic=885362.0, pvalue=1.836501652861767e-150),\n",
       "  MannwhitneyuResult(statistic=869573.0, pvalue=1.4172939097159336e-151),\n",
       "  MannwhitneyuResult(statistic=854071.0, pvalue=1.1353079980867756e-152),\n",
       "  MannwhitneyuResult(statistic=839045.0, pvalue=9.7412209289888545e-154),\n",
       "  MannwhitneyuResult(statistic=824132.0, pvalue=8.4414509749299239e-155),\n",
       "  MannwhitneyuResult(statistic=809603.0, pvalue=7.7270024521169781e-156),\n",
       "  MannwhitneyuResult(statistic=795339.0, pvalue=7.3303756179755872e-157),\n",
       "  MannwhitneyuResult(statistic=781365.0, pvalue=7.2402398942126467e-158),\n",
       "  MannwhitneyuResult(statistic=767755.0, pvalue=7.5412445120708717e-159),\n",
       "  MannwhitneyuResult(statistic=754353.0, pvalue=8.0748071073027001e-160),\n",
       "  MannwhitneyuResult(statistic=741067.0, pvalue=8.7552424467650143e-161),\n",
       "  MannwhitneyuResult(statistic=728186.0, pvalue=1.0092775220413276e-161),\n",
       "  MannwhitneyuResult(statistic=715507.0, pvalue=1.1961043845807417e-162),\n",
       "  MannwhitneyuResult(statistic=703070.0, pvalue=1.4675948049942782e-163),\n",
       "  MannwhitneyuResult(statistic=691003.0, pvalue=1.9058505148114556e-164),\n",
       "  MannwhitneyuResult(statistic=679047.0, pvalue=2.5080448380237816e-165),\n",
       "  MannwhitneyuResult(statistic=667238.0, pvalue=3.3656928396252316e-166),\n",
       "  MannwhitneyuResult(statistic=655591.0, pvalue=4.6185475180706575e-167),\n",
       "  MannwhitneyuResult(statistic=644013.0, pvalue=6.3798129432712303e-168),\n",
       "  MannwhitneyuResult(statistic=632948.0, pvalue=9.5745059642027766e-169),\n",
       "  MannwhitneyuResult(statistic=621826.0, pvalue=1.4162091483120862e-169),\n",
       "  MannwhitneyuResult(statistic=610967.0, pvalue=2.1816141810196658e-170),\n",
       "  MannwhitneyuResult(statistic=600172.0, pvalue=3.382752932986329e-171),\n",
       "  MannwhitneyuResult(statistic=589908.0, pvalue=5.7250911138390843e-172),\n",
       "  MannwhitneyuResult(statistic=579396.0, pvalue=9.2434816677783615e-173),\n",
       "  MannwhitneyuResult(statistic=569222.0, pvalue=1.5761615293208683e-173),\n",
       "  MannwhitneyuResult(statistic=559204.0, pvalue=2.750814670417974e-174),\n",
       "  MannwhitneyuResult(statistic=549080.0, pvalue=4.6946417604668591e-175),\n",
       "  MannwhitneyuResult(statistic=539265.0, pvalue=8.424624680088372e-176),\n",
       "  MannwhitneyuResult(statistic=529623.0, pvalue=1.5526972614836575e-176),\n",
       "  MannwhitneyuResult(statistic=520151.0, pvalue=2.9380907989836515e-177),\n",
       "  MannwhitneyuResult(statistic=510675.0, pvalue=5.5366043097678736e-178),\n",
       "  MannwhitneyuResult(statistic=501420.0, pvalue=1.0811423017991867e-178),\n",
       "  MannwhitneyuResult(statistic=492405.0, pvalue=2.1955639674815676e-179),\n",
       "  MannwhitneyuResult(statistic=483445.0, pvalue=4.4884084651193072e-180),\n",
       "  MannwhitneyuResult(statistic=474731.0, pvalue=9.5562087995418648e-181),\n",
       "  MannwhitneyuResult(statistic=466037.0, pvalue=2.0359202501063064e-181),\n",
       "  MannwhitneyuResult(statistic=457598.0, pvalue=4.5261438029471801e-182),\n",
       "  MannwhitneyuResult(statistic=449303.0, pvalue=1.0296351860203908e-182),\n",
       "  MannwhitneyuResult(statistic=441036.0, pvalue=2.3478431980847346e-183),\n",
       "  MannwhitneyuResult(statistic=432936.0, pvalue=5.5019957059594873e-184),\n",
       "  MannwhitneyuResult(statistic=424827.0, pvalue=1.2840351703479859e-184),\n",
       "  MannwhitneyuResult(statistic=416889.0, pvalue=3.0824729138276822e-185),\n",
       "  MannwhitneyuResult(statistic=409184.0, pvalue=7.6985191798039567e-186),\n",
       "  MannwhitneyuResult(statistic=401595.0, pvalue=1.9589321455861766e-186),\n",
       "  MannwhitneyuResult(statistic=394126.0, pvalue=5.0826929225673331e-187),\n",
       "  MannwhitneyuResult(statistic=386779.0, pvalue=1.3453418992302227e-187),\n",
       "  MannwhitneyuResult(statistic=379819.0, pvalue=3.8119691668771327e-188),\n",
       "  MannwhitneyuResult(statistic=372808.0, pvalue=1.0681625902793638e-188),\n",
       "  MannwhitneyuResult(statistic=366206.0, pvalue=3.2181694488534583e-189),\n",
       "  MannwhitneyuResult(statistic=359871.0, pvalue=1.0161777286597518e-189),\n",
       "  MannwhitneyuResult(statistic=353904.5, pvalue=3.9726676127109523e-196)],\n",
       " 'tissue2': [MannwhitneyuResult(statistic=145471.0, pvalue=7.1071246940657884e-22),\n",
       "  MannwhitneyuResult(statistic=145871.0, pvalue=1.6614134046570368e-21),\n",
       "  MannwhitneyuResult(statistic=146456.0, pvalue=1.8218746804578797e-21),\n",
       "  MannwhitneyuResult(statistic=147084.0, pvalue=2.0112121851542471e-21),\n",
       "  MannwhitneyuResult(statistic=147808.0, pvalue=2.2537409652311682e-21),\n",
       "  MannwhitneyuResult(statistic=148457.0, pvalue=2.4956047009842794e-21),\n",
       "  MannwhitneyuResult(statistic=149244.0, pvalue=2.8235481732282777e-21),\n",
       "  MannwhitneyuResult(statistic=150056.0, pvalue=3.2065789464141874e-21),\n",
       "  MannwhitneyuResult(statistic=150801.0, pvalue=3.6029835476924958e-21),\n",
       "  MannwhitneyuResult(statistic=151538.0, pvalue=4.0427338815158584e-21),\n",
       "  MannwhitneyuResult(statistic=152348.0, pvalue=4.587420126283824e-21),\n",
       "  MannwhitneyuResult(statistic=153145.0, pvalue=5.1940479468882487e-21),\n",
       "  MannwhitneyuResult(statistic=154004.0, pvalue=5.9368499616750467e-21),\n",
       "  MannwhitneyuResult(statistic=154773.0, pvalue=6.6903814775592146e-21),\n",
       "  MannwhitneyuResult(statistic=155660.0, pvalue=7.6775531056944935e-21),\n",
       "  MannwhitneyuResult(statistic=156493.0, pvalue=8.7351848617911939e-21),\n",
       "  MannwhitneyuResult(statistic=157336.0, pvalue=9.9520282439166059e-21),\n",
       "  MannwhitneyuResult(statistic=158189.0, pvalue=1.1353725033110103e-20),\n",
       "  MannwhitneyuResult(statistic=159066.0, pvalue=1.2998299736490403e-20),\n",
       "  MannwhitneyuResult(statistic=159905.0, pvalue=1.4791254066434264e-20),\n",
       "  MannwhitneyuResult(statistic=160795.0, pvalue=1.696073671585882e-20),\n",
       "  MannwhitneyuResult(statistic=161697.0, pvalue=1.9480107219774148e-20),\n",
       "  MannwhitneyuResult(statistic=162550.0, pvalue=2.2201537320021305e-20),\n",
       "  MannwhitneyuResult(statistic=163440.0, pvalue=2.5441778164741699e-20),\n",
       "  MannwhitneyuResult(statistic=164307.0, pvalue=2.9046501984563534e-20),\n",
       "  MannwhitneyuResult(statistic=165186.0, pvalue=3.3215972489064653e-20),\n",
       "  MannwhitneyuResult(statistic=166150.0, pvalue=3.8470635093274517e-20),\n",
       "  MannwhitneyuResult(statistic=167068.0, pvalue=4.4235116447230484e-20),\n",
       "  MannwhitneyuResult(statistic=167978.0, pvalue=5.0790128220097783e-20),\n",
       "  MannwhitneyuResult(statistic=168888.0, pvalue=5.8303499406092459e-20),\n",
       "  MannwhitneyuResult(statistic=169823.0, pvalue=6.7166870829727122e-20),\n",
       "  MannwhitneyuResult(statistic=170837.0, pvalue=7.828760426447997e-20),\n",
       "  MannwhitneyuResult(statistic=171813.0, pvalue=9.0703454840982264e-20),\n",
       "  MannwhitneyuResult(statistic=172814.0, pvalue=1.0545727731137552e-19),\n",
       "  MannwhitneyuResult(statistic=173804.0, pvalue=1.2237559348352784e-19),\n",
       "  MannwhitneyuResult(statistic=174819.0, pvalue=1.4250362056568759e-19),\n",
       "  MannwhitneyuResult(statistic=175831.0, pvalue=1.658218044504454e-19),\n",
       "  MannwhitneyuResult(statistic=176852.0, pvalue=1.9316186309820148e-19),\n",
       "  MannwhitneyuResult(statistic=177938.0, pvalue=2.271365297236649e-19),\n",
       "  MannwhitneyuResult(statistic=179072.0, pvalue=2.689153266107859e-19),\n",
       "  MannwhitneyuResult(statistic=180172.0, pvalue=3.1666638512838908e-19),\n",
       "  MannwhitneyuResult(statistic=181349.0, pvalue=3.7705163177328215e-19),\n",
       "  MannwhitneyuResult(statistic=182505.0, pvalue=4.4739353582078465e-19),\n",
       "  MannwhitneyuResult(statistic=183648.0, pvalue=5.2965079423416657e-19),\n",
       "  MannwhitneyuResult(statistic=184903.0, pvalue=6.3723001294359926e-19),\n",
       "  MannwhitneyuResult(statistic=186096.0, pvalue=7.5938998650556379e-19),\n",
       "  MannwhitneyuResult(statistic=187366.0, pvalue=9.1488592647460195e-19),\n",
       "  MannwhitneyuResult(statistic=188649.0, pvalue=1.1038392316736531e-18),\n",
       "  MannwhitneyuResult(statistic=189975.0, pvalue=1.3396008746032792e-18),\n",
       "  MannwhitneyuResult(statistic=191303.0, pvalue=1.6254213677407471e-18),\n",
       "  MannwhitneyuResult(statistic=192647.0, pvalue=1.9758715298153886e-18),\n",
       "  MannwhitneyuResult(statistic=194061.0, pvalue=2.42515767974699e-18),\n",
       "  MannwhitneyuResult(statistic=195511.0, pvalue=2.9905026015001661e-18),\n",
       "  MannwhitneyuResult(statistic=196988.0, pvalue=3.6999044319595174e-18),\n",
       "  MannwhitneyuResult(statistic=198500.0, pvalue=4.5979433724432928e-18),\n",
       "  MannwhitneyuResult(statistic=200023.0, pvalue=5.7194390172539025e-18),\n",
       "  MannwhitneyuResult(statistic=201589.0, pvalue=7.1538052141388737e-18),\n",
       "  MannwhitneyuResult(statistic=203097.0, pvalue=8.8685124825334327e-18),\n",
       "  MannwhitneyuResult(statistic=204693.0, pvalue=1.1125528119985363e-17),\n",
       "  MannwhitneyuResult(statistic=206413.0, pvalue=1.4194108671669063e-17),\n",
       "  MannwhitneyuResult(statistic=208059.0, pvalue=1.7906921673578377e-17),\n",
       "  MannwhitneyuResult(statistic=209858.0, pvalue=2.3064931500605799e-17),\n",
       "  MannwhitneyuResult(statistic=211667.0, pvalue=2.972443473239007e-17),\n",
       "  MannwhitneyuResult(statistic=213603.0, pvalue=3.8957028695145677e-17),\n",
       "  MannwhitneyuResult(statistic=215501.0, pvalue=5.0737344059195095e-17),\n",
       "  MannwhitneyuResult(statistic=217558.0, pvalue=6.7484997439765196e-17),\n",
       "  MannwhitneyuResult(statistic=219654.0, pvalue=9.0142104821769229e-17),\n",
       "  MannwhitneyuResult(statistic=221785.0, pvalue=1.2084317082140591e-16),\n",
       "  MannwhitneyuResult(statistic=223898.0, pvalue=1.6140549850581717e-16),\n",
       "  MannwhitneyuResult(statistic=226223.0, pvalue=2.2162773665359635e-16),\n",
       "  MannwhitneyuResult(statistic=228696.0, pvalue=3.1003010194780325e-16),\n",
       "  MannwhitneyuResult(statistic=231177.0, pvalue=4.3344966313763236e-16),\n",
       "  MannwhitneyuResult(statistic=233685.0, pvalue=6.0719465290543946e-16),\n",
       "  MannwhitneyuResult(statistic=236371.0, pvalue=8.6954843626460574e-16),\n",
       "  MannwhitneyuResult(statistic=239186.0, pvalue=1.2642931284253623e-15),\n",
       "  MannwhitneyuResult(statistic=242152.0, pvalue=1.871209210841728e-15),\n",
       "  MannwhitneyuResult(statistic=245228.0, pvalue=2.803039508645753e-15),\n",
       "  MannwhitneyuResult(statistic=248468.0, pvalue=4.2785983942632079e-15),\n",
       "  MannwhitneyuResult(statistic=251900.0, pvalue=6.6761284903872914e-15),\n",
       "  MannwhitneyuResult(statistic=255398.0, pvalue=1.047254765957024e-14),\n",
       "  MannwhitneyuResult(statistic=259153.0, pvalue=1.6918437023076311e-14),\n",
       "  MannwhitneyuResult(statistic=263097.0, pvalue=2.7885973785291449e-14),\n",
       "  MannwhitneyuResult(statistic=267257.0, pvalue=4.7025756944258006e-14),\n",
       "  MannwhitneyuResult(statistic=271595.0, pvalue=8.0696084438437908e-14),\n",
       "  MannwhitneyuResult(statistic=276258.0, pvalue=1.4338326658187617e-13),\n",
       "  MannwhitneyuResult(statistic=281350.0, pvalue=2.6682395066651726e-13),\n",
       "  MannwhitneyuResult(statistic=286654.0, pvalue=5.0579778386298425e-13),\n",
       "  MannwhitneyuResult(statistic=292403.0, pvalue=1.0030933039249993e-12),\n",
       "  MannwhitneyuResult(statistic=298813.0, pvalue=2.1299565110625042e-12),\n",
       "  MannwhitneyuResult(statistic=305853.0, pvalue=4.8089178443808519e-12),\n",
       "  MannwhitneyuResult(statistic=313545.0, pvalue=1.1532076017424032e-11),\n",
       "  MannwhitneyuResult(statistic=321723.0, pvalue=2.8724101492645189e-11),\n",
       "  MannwhitneyuResult(statistic=330881.0, pvalue=7.8142275708213535e-11),\n",
       "  MannwhitneyuResult(statistic=341267.0, pvalue=2.3662586299869102e-10),\n",
       "  MannwhitneyuResult(statistic=353376.0, pvalue=8.3046375208017219e-10),\n",
       "  MannwhitneyuResult(statistic=367461.0, pvalue=3.40614172906536e-09),\n",
       "  MannwhitneyuResult(statistic=384177.0, pvalue=1.6983795079765926e-08),\n",
       "  MannwhitneyuResult(statistic=405275.0, pvalue=1.161096516628933e-07),\n",
       "  MannwhitneyuResult(statistic=433721.0, pvalue=1.2874816646130078e-06),\n",
       "  MannwhitneyuResult(statistic=478364.0, pvalue=3.6632105800999273e-05),\n",
       "  MannwhitneyuResult(statistic=653004.0, pvalue=0.13553379326023424)]}"
      ]
     },
     "execution_count": 18,
     "metadata": {},
     "output_type": "execute_result"
    }
   ],
   "source": [
    "wmw_res = {\n",
    "    tissue:  [mannwhitneyu(s_mixed[~ind[tissue]], s_mixed[ind[tissue]]) for s_mixed in mixed] for \n",
    "    tissue in ind\n",
    "}\n",
    "wmw_res"
   ]
  },
  {
   "cell_type": "code",
   "execution_count": 19,
   "metadata": {
    "collapsed": false
   },
   "outputs": [
    {
     "data": {
      "text/plain": [
       "{'tissue1': (0.95973238291752638, 207368.0, 5.1613217824207884e-208),\n",
       " 'tissue2': (0.80366410304508218, 141300.0, 3.5576048804926752e-22)}"
      ]
     },
     "execution_count": 19,
     "metadata": {},
     "output_type": "execute_result"
    }
   ],
   "source": [
    "wmw_exp = {}\n",
    "for tissue in ind:\n",
    "    y = np.repeat(np.percentile(s[tissue], (1- rel_rk[tissue]) * 100), size[tissue])\n",
    "    u, p = mannwhitneyu(s[tissue], y)\n",
    "    wmw_exp[tissue] = (wmw_r(s[tissue], y, u), u, p) \n",
    "wmw_exp"
   ]
  },
  {
   "cell_type": "code",
   "execution_count": 20,
   "metadata": {
    "collapsed": false
   },
   "outputs": [
    {
     "data": {
      "text/plain": [
       "{'tissue1': 155365.0, 'tissue2': 140265.0}"
      ]
     },
     "execution_count": 20,
     "metadata": {},
     "output_type": "execute_result"
    }
   ],
   "source": [
    "u_exp = {\n",
    "    tissue: wmw_u_exp(rel_rk[tissue], size[tissue], s[tissue].size) for tissue in ind\n",
    "}\n",
    "u_exp"
   ]
  },
  {
   "cell_type": "markdown",
   "metadata": {},
   "source": [
    "## BioQC score, corrected and uncorrected"
   ]
  },
  {
   "cell_type": "code",
   "execution_count": 21,
   "metadata": {
    "collapsed": true
   },
   "outputs": [],
   "source": [
    "wmw_score_corr = {\n",
    "    tissue: [-np.log10(p) / -np.log10(wmw_exp[tissue][2]) for u, p in res] for tissue, res in wmw_res.items()\n",
    "}\n",
    "wmw_score = {\n",
    "    tissue: [-np.log10(p) for u, p in res] for tissue, res in wmw_res.items()\n",
    "}"
   ]
  },
  {
   "cell_type": "code",
   "execution_count": 22,
   "metadata": {
    "collapsed": false
   },
   "outputs": [
    {
     "data": {
      "text/plain": [
       "<matplotlib.axes._subplots.AxesSubplot at 0x7fff6d0812e8>"
      ]
     },
     "execution_count": 22,
     "metadata": {},
     "output_type": "execute_result"
    },
    {
     "data": {
      "image/png": "[encoded data removed]",
      "text/plain": [
       "<matplotlib.figure.Figure at 0x7fff6d111780>"
      ]
     },
     "metadata": {},
     "output_type": "display_data"
    }
   ],
   "source": [
    "fix, (ax1, ax2) = subplots(1, 2, figsize=(14, 4))\n",
    "pd.DataFrame(wmw_score).plot(ax=ax1)\n",
    "pd.DataFrame(wmw_score_corr).plot(ax=ax2)"
   ]
  },
  {
   "cell_type": "markdown",
   "metadata": {},
   "source": [
    "## $r$ effect size, corrected and uncorrected"
   ]
  },
  {
   "cell_type": "code",
   "execution_count": 23,
   "metadata": {
    "collapsed": false
   },
   "outputs": [],
   "source": [
    "r = {\n",
    "    tissue: [wmw_r(s_mixed[~ind[tissue]], s_mixed[ind[tissue]], u) for u, p in res]\n",
    "    for s_mixed, (tissue, res) in zip(mixed, wmw_res.items())\n",
    "}\n",
    "r_corr = {\n",
    "    tissue: [wmw_r(s_mixed[~ind[tissue]], s_mixed[ind[tissue]], u) / wmw_exp[tissue][0] for u, p in res]\n",
    "    for s_mixed, (tissue, res) in zip(mixed, wmw_res.items())\n",
    "}\n",
    "r_corr_u = {\n",
    "    tissue: [wmw_r_corr(s_mixed[~ind[tissue]], s_mixed[ind[tissue]], u, u_exp[tissue]) for u, p in res]\n",
    "    for s_mixed, (tissue, res) in zip(mixed, wmw_res.items())\n",
    "}"
   ]
  },
  {
   "cell_type": "code",
   "execution_count": 24,
   "metadata": {
    "collapsed": false
   },
   "outputs": [
    {
     "data": {
      "text/plain": [
       "<matplotlib.axes._subplots.AxesSubplot at 0x7fff6cf753c8>"
      ]
     },
     "execution_count": 24,
     "metadata": {},
     "output_type": "execute_result"
    },
    {
     "data": {
      "image/png": "[encoded data removed]",
      "text/plain": [
       "<matplotlib.figure.Figure at 0x7fff6d12bef0>"
      ]
     },
     "metadata": {},
     "output_type": "display_data"
    }
   ],
   "source": [
    "fix, (ax1, ax2) = subplots(1, 2, figsize=(14, 4))\n",
    "pd.DataFrame(r).plot(ax=ax1)\n",
    "pd.DataFrame(r_corr).plot(ax=ax2)"
   ]
  },
  {
   "cell_type": "code",
   "execution_count": 25,
   "metadata": {
    "collapsed": false
   },
   "outputs": [
    {
     "data": {
      "text/plain": [
       "<matplotlib.axes._subplots.AxesSubplot at 0x7fff6cec2d68>"
      ]
     },
     "execution_count": 25,
     "metadata": {},
     "output_type": "execute_result"
    },
    {
     "data": {
      "image/png": "[encoded data removed]",
      "text/plain": [
       "<matplotlib.figure.Figure at 0x7fff6d225898>"
      ]
     },
     "metadata": {},
     "output_type": "display_data"
    }
   ],
   "source": [
    "pd.DataFrame(r_corr_u).applymap(lambda x: x).plot()"
   ]
  },
  {
   "cell_type": "code",
   "execution_count": null,
   "metadata": {
    "collapsed": true
   },
   "outputs": [],
   "source": []
  }
 ],
 "metadata": {
  "kernelspec": {
   "display_name": "Python [Root]",
   "language": "python",
   "name": "Python [Root]"
  },
  "language_info": {
   "codemirror_mode": {
    "name": "ipython",
    "version": 3
   },
   "file_extension": ".py",
   "mimetype": "text/x-python",
   "name": "python",
   "nbconvert_exporter": "python",
   "pygments_lexer": "ipython3",
   "version": "3.5.2"
  }
 },
 "nbformat": 4,
 "nbformat_minor": 0
}
