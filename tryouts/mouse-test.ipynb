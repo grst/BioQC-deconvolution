{
 "cells": [
  {
   "cell_type": "code",
   "execution_count": 109,
   "metadata": {},
   "outputs": [
    {
     "name": "stdout",
     "output_type": "stream",
     "text": [
      "The rpy2.ipython extension is already loaded. To reload it, use:\n",
      "  %reload_ext rpy2.ipython\n",
      "The autoreload extension is already loaded. To reload it, use:\n",
      "  %reload_ext autoreload\n"
     ]
    }
   ],
   "source": [
    "%load_ext rpy2.ipython\n",
    "%load_ext autoreload\n",
    "%autoreload 1\n",
    "%aimport deconvolution\n",
    "%matplotlib inline\n",
    "import numpy as np\n",
    "import pandas as pd\n",
    "import seaborn as sns\n",
    "from pygenesig.file_formats import * \n",
    "from pygenesig.tools import *\n",
    "from deconvolution import * \n",
    "from scipy.stats import mannwhitneyu\n",
    "from pylab import * "
   ]
  },
  {
   "cell_type": "markdown",
   "metadata": {},
   "source": [
    "We now need to evaluate the deconvolution on data that \n",
    "was neither used for signature generation nor for the computation of the relative rank. \n",
    "\n",
    "SQL query to find other mouse studies with multiple tissues: \n",
    "\n",
    "```sql\n",
    "with x as (\n",
    "select bgg.gse\n",
    "      , count(distinct bss.tissue) as cnt\n",
    "from BIOQC_SELECTED_SAMPLES bss\n",
    "join bioqc_gse_gsm bgg\n",
    "  on bgg.gsm = bss.gsm\n",
    "where bss.ORGANISM = 'Mus musculus'\n",
    "and GPL = 'GPL1261'\n",
    "group by gse)\n",
    "select /*+ parallel(16) */  * from x\n",
    "join bioqc_gse bge\n",
    "  on x.gse = bge.gse\n",
    "order by cnt desc\n",
    "```\n",
    "\n",
    "One such study is `GSE24207`"
   ]
  },
  {
   "cell_type": "code",
   "execution_count": 6,
   "metadata": {},
   "outputs": [
    {
     "name": "stdout",
     "output_type": "stream",
     "text": [
      "[1] \"GEO ID:  GSE24207\"\n",
      "[1] \"OUTFILE:  /pstore/home/sturmg/projects/BioQC-significance/data/%s.Rdata\"\n",
      "[1] \"Storing expression set to /pstore/home/sturmg/projects/BioQC-significance/data/GSE24207.Rdata\"\n"
     ]
    },
    {
     "name": "stderr",
     "output_type": "stream",
     "text": [
      "https://ftp.ncbi.nlm.nih.gov/geo/series/GSE24nnn/GSE24207/matrix/\n",
      "OK\n",
      "Found 1 file(s)\n",
      "GSE24207_series_matrix.txt.gz\n",
      "trying URL 'https://ftp.ncbi.nlm.nih.gov/geo/series/GSE24nnn/GSE24207/matrix/GSE24207_series_matrix.txt.gz'\n",
      "Content type 'application/x-gzip' length 4427708 bytes (4.2 MB)\n",
      "==================================================\n",
      "downloaded 4.2 MB\n",
      "\n",
      "File stored at: \n",
      "/local/2844607/RtmpHgTDwk/GPL1261.annot.gz\n",
      "There were 31 warnings (use warnings() to see them)\n"
     ]
    }
   ],
   "source": [
    "%%bash\n",
    "this_dir=$(pwd)/data\n",
    "cd ../BioQC_GEO_analysis/\n",
    "./scripts/geo_to_eset.R GSE24207 $this_dir"
   ]
  },
  {
   "cell_type": "code",
   "execution_count": 8,
   "metadata": {},
   "outputs": [
    {
     "name": "stdout",
     "output_type": "stream",
     "text": [
      "[1] \"Estabilshin RJDBC connection to bin\"\n",
      "Loading required package: BiocGenerics\n",
      "Loading required package: methods\n",
      "Loading required package: parallel\n",
      "\n",
      "Attaching package: ‘BiocGenerics’\n",
      "\n",
      "The following objects are masked from ‘package:parallel’:\n",
      "\n",
      "    clusterApply, clusterApplyLB, clusterCall, clusterEvalQ,\n",
      "    clusterExport, clusterMap, parApply, parCapply, parLapply,\n",
      "    parLapplyLB, parRapply, parSapply, parSapplyLB\n",
      "\n",
      "The following objects are masked from ‘package:stats’:\n",
      "\n",
      "    IQR, mad, xtabs\n",
      "\n",
      "The following objects are masked from ‘package:base’:\n",
      "\n",
      "    anyDuplicated, append, as.data.frame, cbind, colnames, do.call,\n",
      "    duplicated, eval, evalq, Filter, Find, get, grep, grepl, intersect,\n",
      "    is.unsorted, lapply, lengths, Map, mapply, match, mget, order,\n",
      "    paste, pmax, pmax.int, pmin, pmin.int, Position, rank, rbind,\n",
      "    Reduce, rownames, sapply, setdiff, sort, table, tapply, union,\n",
      "    unique, unsplit, which, which.max, which.min\n",
      "\n",
      "Welcome to Bioconductor\n",
      "\n",
      "    Vignettes contain introductory material; view with\n",
      "    'browseVignettes()'. To cite Bioconductor, see\n",
      "    'citation(\"Biobase\")', and for packages 'citation(\"pkgname\")'.\n",
      "\n",
      "[1] \"Using estabilshed database connection to bin\"\n"
     ]
    }
   ],
   "source": [
    "!./eset_to_python.R"
   ]
  },
  {
   "cell_type": "code",
   "execution_count": 45,
   "metadata": {
    "collapsed": true
   },
   "outputs": [],
   "source": [
    "signatures = load_gmt(\"../pygenesig-example/results/gtex_v6_solid_gini_0.8_1/signatures.gmt\")"
   ]
  },
  {
   "cell_type": "code",
   "execution_count": 94,
   "metadata": {},
   "outputs": [],
   "source": [
    "rel_ranks = pd.read_csv(\"./results/rel_ranks_gtex_mouse_affy.tsv\", header=None, sep=\"\\t\", index_col=None)\n",
    "rel_ranks = dict(zip(rel_ranks[0], rel_ranks[1]))"
   ]
  },
  {
   "cell_type": "code",
   "execution_count": 39,
   "metadata": {},
   "outputs": [],
   "source": [
    "exprs_raw = read_gct(\"data/GSE24207_exprs.gct\")\n",
    "fdata = pd.read_csv(\"data/GSE24207_fdata.tsv\", sep=\"\\t\")\n",
    "pdata = pd.read_csv(\"data/GSE24207_pdata.tsv\", sep=\"\\t\")"
   ]
  },
  {
   "cell_type": "code",
   "execution_count": 40,
   "metadata": {},
   "outputs": [],
   "source": [
    "target = np.array([x.replace(\"Mouse \", \"\") for x in pdata.source_name_ch1])"
   ]
  },
  {
   "cell_type": "code",
   "execution_count": 64,
   "metadata": {},
   "outputs": [],
   "source": [
    "exprs_collapsed_df = collapse_matrix(exprs_raw, fdata.BioqcGeneSymbol)\n",
    "exprs_collapsed_df = exprs_collapsed[exprs_collapsed.index != '-']\n",
    "rosetta = make_rosetta_dict(exprs_collapsed_df.index.values, inverse=True)\n",
    "exprs = exprs_collapsed_df.values"
   ]
  },
  {
   "cell_type": "code",
   "execution_count": 42,
   "metadata": {},
   "outputs": [
    {
     "data": {
      "text/plain": [
       "((73,), (16199, 73))"
      ]
     },
     "execution_count": 42,
     "metadata": {},
     "output_type": "execute_result"
    }
   ],
   "source": [
    "target.shape, exprs.shape"
   ]
  },
  {
   "cell_type": "code",
   "execution_count": 116,
   "metadata": {},
   "outputs": [
    {
     "data": {
      "text/plain": [
       "array(['adipose tissue', 'adipose tissue', 'adipose tissue',\n",
       "       'adrenal gland', 'adrenal gland', 'adrenal gland', 'bone marrow',\n",
       "       'bone marrow', 'bone marrow', 'bone marrow', 'brain', 'brain',\n",
       "       'brain', 'diaphragm', 'diaphragm', 'diaphragm', 'eye', 'eye', 'eye',\n",
       "       'heart', 'heart', 'heart', 'insulinoma', 'insulinoma', 'insulinoma',\n",
       "       'kidney', 'kidney', 'kidney', 'liver', 'liver', 'liver', 'lung',\n",
       "       'lung', 'lung', 'muscle', 'muscle', 'muscle', 'muscle', 'ovary',\n",
       "       'ovary', 'ovary', 'pancreatic acini', 'pancreatic acini',\n",
       "       'pancreatic acini', 'pancreatic isltes', 'pancreatic isltes',\n",
       "       'pancreatic isltes', 'pituitary gland', 'pituitary gland',\n",
       "       'pituitary gland', 'pituitary gland', 'pituitary gland', 'placenta',\n",
       "       'placenta', 'placenta', 'salivary gland', 'salivary gland',\n",
       "       'salivary gland', 'seminal vesicle', 'seminal vesicle',\n",
       "       'seminal vesicle', 'small intestine', 'small intestine',\n",
       "       'small intestine', 'spleen', 'spleen', 'spleen', 'testis', 'testis',\n",
       "       'testis', 'thymus', 'thymus', 'thymus'], \n",
       "      dtype='<U17')"
      ]
     },
     "execution_count": 116,
     "metadata": {},
     "output_type": "execute_result"
    }
   ],
   "source": [
    "np.array(sorted(target))"
   ]
  },
  {
   "cell_type": "code",
   "execution_count": 95,
   "metadata": {},
   "outputs": [
    {
     "data": {
      "text/plain": [
       "{'Adrenal_Gland': 0.6530818244905684,\n",
       " 'Bladder': 0.37697937038672641,\n",
       " 'Brain_Amygdala': 0.37950287048135772,\n",
       " 'Brain_Cerebellum': 0.18181818181818185,\n",
       " 'Brain_Hippocampus': 0.2356633650873762,\n",
       " 'Brain_Hypothalamus': 0.15869661220112294,\n",
       " 'Liver': 0.046211595482934832,\n",
       " 'Lung': 0.53088133240804991,\n",
       " 'Muscle_Skeletal': 0.053372027001451015,\n",
       " 'Ovary': 0.63563813008642989,\n",
       " 'Pancreas': 0.17781212541795471,\n",
       " 'Pituitary': 0.50009463125354869,\n",
       " 'Prostate': 0.39839757743990922,\n",
       " 'Spleen': 0.38612705822976467,\n",
       " 'Stomach': 0.15320799949529998,\n",
       " 'Testis': 0.13033877988770426,\n",
       " 'Uterus': 0.33225033120938741}"
      ]
     },
     "execution_count": 95,
     "metadata": {},
     "output_type": "execute_result"
    }
   ],
   "source": [
    "rel_ranks"
   ]
  },
  {
   "cell_type": "code",
   "execution_count": 67,
   "metadata": {},
   "outputs": [],
   "source": [
    "signatures_ind = translate_signatures(signatures, rosetta, ignore_missing=True)"
   ]
  },
  {
   "cell_type": "code",
   "execution_count": 133,
   "metadata": {},
   "outputs": [],
   "source": [
    "map_names = {\n",
    "    'tissue1': {\n",
    "        'signature': 'Muscle_Skeletal', # name of the GTEx signature\n",
    "        'rel_ranks': 'Muscle_Skeletal', # name of the rel rank\n",
    "        'dataset': 'muscle' # name of the tissue in the dataset to analyse\n",
    "    },\n",
    "    'tissue2': {\n",
    "        'signature': 'Liver',\n",
    "        'rel_ranks': 'Liver',\n",
    "        'dataset': 'liver'\n",
    "    }\n",
    "}"
   ]
  },
  {
   "cell_type": "code",
   "execution_count": 134,
   "metadata": {},
   "outputs": [],
   "source": [
    "rel_rk = {\n",
    "    tissue: rel_ranks[names['rel_ranks']] for tissue, names in map_names.items()\n",
    "}"
   ]
  },
  {
   "cell_type": "code",
   "execution_count": 135,
   "metadata": {},
   "outputs": [
    {
     "data": {
      "text/plain": [
       "{'tissue1': 6, 'tissue2': 10}"
      ]
     },
     "execution_count": 135,
     "metadata": {},
     "output_type": "execute_result"
    }
   ],
   "source": [
    "sample_ind = {\n",
    "    'tissue1': np.flatnonzero(target == map_names['tissue1']['dataset'])[0],\n",
    "    'tissue2': np.flatnonzero(target == map_names['tissue2']['dataset'])[0]\n",
    "}\n",
    "sample_ind"
   ]
  },
  {
   "cell_type": "code",
   "execution_count": 136,
   "metadata": {},
   "outputs": [
    {
     "data": {
      "text/plain": [
       "{'tissue1': array([  28.,   14.,    7., ...,  106.,   84.,  253.]),\n",
       " 'tissue2': array([ 242. ,   38. ,    3. , ...,  115.5,   96. ,  188. ])}"
      ]
     },
     "execution_count": 136,
     "metadata": {},
     "output_type": "execute_result"
    }
   ],
   "source": [
    "samples = {\n",
    "    tissue: exprs[:, i] for tissue, i in sample_ind.items()\n",
    "}\n",
    "samples"
   ]
  },
  {
   "cell_type": "code",
   "execution_count": 137,
   "metadata": {},
   "outputs": [
    {
     "data": {
      "text/plain": [
       "{'tissue1': array([False, False, False, ..., False, False, False], dtype=bool),\n",
       " 'tissue2': array([ True, False, False, ..., False, False, False], dtype=bool)}"
      ]
     },
     "execution_count": 137,
     "metadata": {},
     "output_type": "execute_result"
    }
   ],
   "source": [
    "gene_mask = {\n",
    "    tissue: np.array([True if i in signatures_ind[names['signature']] else False for i in range(exprs.shape[0])])\n",
    "    for tissue, names in map_names.items()\n",
    "}\n",
    "gene_mask"
   ]
  },
  {
   "cell_type": "code",
   "execution_count": 138,
   "metadata": {},
   "outputs": [
    {
     "data": {
      "text/plain": [
       "{'tissue1': 138, 'tissue2': 266}"
      ]
     },
     "execution_count": 138,
     "metadata": {},
     "output_type": "execute_result"
    }
   ],
   "source": [
    "sig_size = {\n",
    "    tissue: sum(t_ind) for tissue, t_ind in gene_mask.items()\n",
    "}\n",
    "sig_size"
   ]
  },
  {
   "cell_type": "code",
   "execution_count": 139,
   "metadata": {},
   "outputs": [
    {
     "data": {
      "text/plain": [
       "0.01"
      ]
     },
     "execution_count": 139,
     "metadata": {},
     "output_type": "execute_result"
    }
   ],
   "source": [
    "overlap = jaccard_ind(*(signatures_ind[names['signature']] for names in map_names.values()))\n",
    "overlap"
   ]
  },
  {
   "cell_type": "code",
   "execution_count": 140,
   "metadata": {},
   "outputs": [],
   "source": [
    "mixed = [mix(samples['tissue1'], samples['tissue2'], f) for f in np.arange(0, 1.01, 0.01)]"
   ]
  },
  {
   "cell_type": "code",
   "execution_count": 141,
   "metadata": {},
   "outputs": [
    {
     "data": {
      "text/plain": [
       "{'tissue1': [MannwhitneyuResult(statistic=527402.5, pvalue=1.2252189116717547e-26),\n",
       "  MannwhitneyuResult(statistic=958240.5, pvalue=0.0030569299958669647),\n",
       "  MannwhitneyuResult(statistic=1090505.5, pvalue=0.37310755766896231),\n",
       "  MannwhitneyuResult(statistic=986385.5, pvalue=0.012970828269708036),\n",
       "  MannwhitneyuResult(statistic=911867.0, pvalue=0.00016573268663896761),\n",
       "  MannwhitneyuResult(statistic=854383.0, pvalue=1.7398310205698142e-06),\n",
       "  MannwhitneyuResult(statistic=808234.0, pvalue=2.0799333298719374e-08),\n",
       "  MannwhitneyuResult(statistic=769856.5, pvalue=3.0949459761281481e-10),\n",
       "  MannwhitneyuResult(statistic=737186.5, pvalue=5.8947252920678767e-12),\n",
       "  MannwhitneyuResult(statistic=708496.5, pvalue=1.3632328715670934e-13),\n",
       "  MannwhitneyuResult(statistic=683506.0, pvalue=4.1107212723383167e-15),\n",
       "  MannwhitneyuResult(statistic=661133.0, pvalue=1.5025004109750344e-16),\n",
       "  MannwhitneyuResult(statistic=641460.5, pvalue=7.1445267416750642e-18),\n",
       "  MannwhitneyuResult(statistic=623251.5, pvalue=3.8029739863760693e-19),\n",
       "  MannwhitneyuResult(statistic=606732.5, pvalue=2.417474883795373e-20),\n",
       "  MannwhitneyuResult(statistic=591769.5, pvalue=1.8429895167354354e-21),\n",
       "  MannwhitneyuResult(statistic=577650.0, pvalue=1.51779997440539e-22),\n",
       "  MannwhitneyuResult(statistic=564698.5, pvalue=1.4501537377086876e-23),\n",
       "  MannwhitneyuResult(statistic=552842.0, pvalue=1.6095005065668245e-24),\n",
       "  MannwhitneyuResult(statistic=541610.5, pvalue=1.9215400526736355e-25),\n",
       "  MannwhitneyuResult(statistic=531252.0, pvalue=2.6076112131005292e-26),\n",
       "  MannwhitneyuResult(statistic=521520.0, pvalue=3.8661414576692335e-27),\n",
       "  MannwhitneyuResult(statistic=512183.5, pvalue=6.0140101432640021e-28),\n",
       "  MannwhitneyuResult(statistic=503526.5, pvalue=1.0438805028295106e-28),\n",
       "  MannwhitneyuResult(statistic=495321.0, pvalue=1.9401593359287762e-29),\n",
       "  MannwhitneyuResult(statistic=487681.5, pvalue=3.9687232209228443e-30),\n",
       "  MannwhitneyuResult(statistic=480163.0, pvalue=8.1715282139561582e-31),\n",
       "  MannwhitneyuResult(statistic=473183.0, pvalue=1.8525128327459981e-31),\n",
       "  MannwhitneyuResult(statistic=466433.5, pvalue=4.3433568566757344e-32),\n",
       "  MannwhitneyuResult(statistic=459868.5, pvalue=1.0442676712790836e-32),\n",
       "  MannwhitneyuResult(statistic=453777.0, pvalue=2.7471320793955364e-33),\n",
       "  MannwhitneyuResult(statistic=447855.0, pvalue=7.4125917007916679e-34),\n",
       "  MannwhitneyuResult(statistic=442008.0, pvalue=2.0104649976303003e-34),\n",
       "  MannwhitneyuResult(statistic=436523.5, pvalue=5.851623997657106e-35),\n",
       "  MannwhitneyuResult(statistic=431175.0, pvalue=1.7392778368368557e-35),\n",
       "  MannwhitneyuResult(statistic=426008.0, pvalue=5.3385419773065443e-36),\n",
       "  MannwhitneyuResult(statistic=421139.0, pvalue=1.7399496074101496e-36),\n",
       "  MannwhitneyuResult(statistic=416418.5, pvalue=5.8242017055433359e-37),\n",
       "  MannwhitneyuResult(statistic=411696.5, pvalue=1.934494076264029e-37),\n",
       "  MannwhitneyuResult(statistic=407361.0, pvalue=6.9862706213393741e-38),\n",
       "  MannwhitneyuResult(statistic=403092.0, pvalue=2.5470076590478341e-38),\n",
       "  MannwhitneyuResult(statistic=399013.5, pvalue=9.6597815787673762e-39),\n",
       "  MannwhitneyuResult(statistic=394958.0, pvalue=3.6632893648810871e-39),\n",
       "  MannwhitneyuResult(statistic=391021.5, pvalue=1.4218750660219429e-39),\n",
       "  MannwhitneyuResult(statistic=387162.0, pvalue=5.5939493562016959e-40),\n",
       "  MannwhitneyuResult(statistic=383336.5, pvalue=2.2081240947003298e-40),\n",
       "  MannwhitneyuResult(statistic=379726.0, pvalue=9.142851742164843e-41),\n",
       "  MannwhitneyuResult(statistic=376097.0, pvalue=3.7521474755844046e-41),\n",
       "  MannwhitneyuResult(statistic=372628.0, pvalue=1.5949723920292488e-41),\n",
       "  MannwhitneyuResult(statistic=369237.0, pvalue=6.884993887117349e-42),\n",
       "  MannwhitneyuResult(statistic=365926.0, pvalue=3.0180811303325932e-42),\n",
       "  MannwhitneyuResult(statistic=362650.5, pvalue=1.3319638050192078e-42),\n",
       "  MannwhitneyuResult(statistic=359444.5, pvalue=5.9562043850436901e-43),\n",
       "  MannwhitneyuResult(statistic=356409.5, pvalue=2.7715600432521938e-43),\n",
       "  MannwhitneyuResult(statistic=353379.0, pvalue=1.287191317520315e-43),\n",
       "  MannwhitneyuResult(statistic=350512.5, pvalue=6.2139161645013108e-44),\n",
       "  MannwhitneyuResult(statistic=347608.5, pvalue=2.9630714196787732e-44),\n",
       "  MannwhitneyuResult(statistic=344758.5, pvalue=1.4286163114770358e-44),\n",
       "  MannwhitneyuResult(statistic=341936.0, pvalue=6.9181340418819386e-45),\n",
       "  MannwhitneyuResult(statistic=339260.0, pvalue=3.4701337434240739e-45),\n",
       "  MannwhitneyuResult(statistic=336589.0, pvalue=1.7386090153624309e-45),\n",
       "  MannwhitneyuResult(statistic=333944.0, pvalue=8.7503063945468412e-46),\n",
       "  MannwhitneyuResult(statistic=331371.0, pvalue=4.4767464054451521e-46),\n",
       "  MannwhitneyuResult(statistic=328918.5, pvalue=2.3585392687841222e-46),\n",
       "  MannwhitneyuResult(statistic=326487.5, pvalue=1.2471098629887032e-46),\n",
       "  MannwhitneyuResult(statistic=324150.5, pvalue=6.7462539465268474e-47),\n",
       "  MannwhitneyuResult(statistic=321720.0, pvalue=3.5539422148269944e-47),\n",
       "  MannwhitneyuResult(statistic=319314.0, pvalue=1.880709618821681e-47),\n",
       "  MannwhitneyuResult(statistic=316955.0, pvalue=1.0058176190985723e-47),\n",
       "  MannwhitneyuResult(statistic=314724.0, pvalue=5.5555469586536859e-48),\n",
       "  MannwhitneyuResult(statistic=312418.0, pvalue=3.0026652351271585e-48),\n",
       "  MannwhitneyuResult(statistic=310177.5, pvalue=1.6487327832859126e-48),\n",
       "  MannwhitneyuResult(statistic=308019.5, pvalue=9.2403681089496645e-49),\n",
       "  MannwhitneyuResult(statistic=305817.5, pvalue=5.1098712099516316e-49),\n",
       "  MannwhitneyuResult(statistic=303663.5, pvalue=2.8579834976017403e-49),\n",
       "  MannwhitneyuResult(statistic=301619.0, pvalue=1.6437225046593835e-49),\n",
       "  MannwhitneyuResult(statistic=299634.5, pvalue=9.599415782433528e-50),\n",
       "  MannwhitneyuResult(statistic=297625.0, pvalue=5.5596893473046838e-50),\n",
       "  MannwhitneyuResult(statistic=295641.0, pvalue=3.2381148039019342e-50),\n",
       "  MannwhitneyuResult(statistic=293713.5, pvalue=1.9128240863190163e-50),\n",
       "  MannwhitneyuResult(statistic=291657.5, pvalue=1.0894278456259976e-50),\n",
       "  MannwhitneyuResult(statistic=289745.5, pvalue=6.4468447863966428e-51),\n",
       "  MannwhitneyuResult(statistic=287724.5, pvalue=3.6974674489747617e-51),\n",
       "  MannwhitneyuResult(statistic=285846.0, pvalue=2.2027056649165331e-51),\n",
       "  MannwhitneyuResult(statistic=284006.5, pvalue=1.3249002887308832e-51),\n",
       "  MannwhitneyuResult(statistic=282124.5, pvalue=7.8668968936721692e-52),\n",
       "  MannwhitneyuResult(statistic=280378.5, pvalue=4.8453786001195072e-52),\n",
       "  MannwhitneyuResult(statistic=278628.5, pvalue=2.9780088208590247e-52),\n",
       "  MannwhitneyuResult(statistic=276817.0, pvalue=1.7973258319595663e-52),\n",
       "  MannwhitneyuResult(statistic=275097.0, pvalue=1.1116523370879929e-52),\n",
       "  MannwhitneyuResult(statistic=273438.5, pvalue=6.9880697236817755e-53),\n",
       "  MannwhitneyuResult(statistic=271808.5, pvalue=4.42423987306466e-53),\n",
       "  MannwhitneyuResult(statistic=270295.5, pvalue=2.8921281551277556e-53),\n",
       "  MannwhitneyuResult(statistic=268842.5, pvalue=1.9213570390188093e-53),\n",
       "  MannwhitneyuResult(statistic=267508.5, pvalue=1.319092122300421e-53),\n",
       "  MannwhitneyuResult(statistic=266263.0, pvalue=9.279933246527512e-54),\n",
       "  MannwhitneyuResult(statistic=265265.0, pvalue=6.9984758806180992e-54),\n",
       "  MannwhitneyuResult(statistic=264494.5, pvalue=5.6272824928047291e-54),\n",
       "  MannwhitneyuResult(statistic=264189.0, pvalue=5.1608864355399134e-54),\n",
       "  MannwhitneyuResult(statistic=265166.0, pvalue=6.8051981535099831e-54),\n",
       "  MannwhitneyuResult(statistic=270324.0, pvalue=2.9005135645855015e-53)],\n",
       " 'tissue2': [MannwhitneyuResult(statistic=674017.0, pvalue=1.1457239931450971e-81),\n",
       "  MannwhitneyuResult(statistic=676086.0, pvalue=1.9597282689489941e-81),\n",
       "  MannwhitneyuResult(statistic=678925.0, pvalue=4.0151241995633282e-81),\n",
       "  MannwhitneyuResult(statistic=682155.0, pvalue=9.0649283409768356e-81),\n",
       "  MannwhitneyuResult(statistic=685430.5, pvalue=2.0663246389046379e-80),\n",
       "  MannwhitneyuResult(statistic=688650.5, pvalue=4.6364137736929699e-80),\n",
       "  MannwhitneyuResult(statistic=691845.0, pvalue=1.031852304404706e-79),\n",
       "  MannwhitneyuResult(statistic=694942.5, pvalue=2.2374881884805202e-79),\n",
       "  MannwhitneyuResult(statistic=698036.5, pvalue=4.8394306260466685e-79),\n",
       "  MannwhitneyuResult(statistic=700976.5, pvalue=1.0057461017293089e-78),\n",
       "  MannwhitneyuResult(statistic=704031.5, pvalue=2.1472749480552296e-78),\n",
       "  MannwhitneyuResult(statistic=707072.5, pvalue=4.5616745029992041e-78),\n",
       "  MannwhitneyuResult(statistic=710215.5, pvalue=9.9213983801807097e-78),\n",
       "  MannwhitneyuResult(statistic=713264.0, pvalue=2.1045919305420407e-77),\n",
       "  MannwhitneyuResult(statistic=716363.5, pvalue=4.5133768613042722e-77),\n",
       "  MannwhitneyuResult(statistic=719417.5, pvalue=9.5555507986438285e-77),\n",
       "  MannwhitneyuResult(statistic=722504.0, pvalue=2.0359448209864009e-76),\n",
       "  MannwhitneyuResult(statistic=725601.5, pvalue=4.3423409318012868e-76),\n",
       "  MannwhitneyuResult(statistic=728637.5, pvalue=9.1083954778697971e-76),\n",
       "  MannwhitneyuResult(statistic=731630.0, pvalue=1.8874192102878622e-75),\n",
       "  MannwhitneyuResult(statistic=734979.5, pvalue=4.2576176993347456e-75),\n",
       "  MannwhitneyuResult(statistic=738320.5, pvalue=9.569040881193166e-75),\n",
       "  MannwhitneyuResult(statistic=741498.5, pvalue=2.0632766660336035e-74),\n",
       "  MannwhitneyuResult(statistic=744941.5, pvalue=4.7337995220243735e-74),\n",
       "  MannwhitneyuResult(statistic=748210.5, pvalue=1.0394479718471616e-73),\n",
       "  MannwhitneyuResult(statistic=751579.0, pvalue=2.3322845263691522e-73),\n",
       "  MannwhitneyuResult(statistic=754898.5, pvalue=5.165944713476441e-73),\n",
       "  MannwhitneyuResult(statistic=758380.5, pvalue=1.1867279014740654e-72),\n",
       "  MannwhitneyuResult(statistic=761878.0, pvalue=2.7304499023940581e-72),\n",
       "  MannwhitneyuResult(statistic=765436.5, pvalue=6.3603813965391608e-72),\n",
       "  MannwhitneyuResult(statistic=769004.5, pvalue=1.4816045836750934e-71),\n",
       "  MannwhitneyuResult(statistic=772628.5, pvalue=3.4897281899360447e-71),\n",
       "  MannwhitneyuResult(statistic=776369.5, pvalue=8.4294958577917505e-71),\n",
       "  MannwhitneyuResult(statistic=780007.0, pvalue=1.9824575865825205e-70),\n",
       "  MannwhitneyuResult(statistic=783770.5, pvalue=4.7908766322782406e-70),\n",
       "  MannwhitneyuResult(statistic=787663.5, pvalue=1.1903714061351972e-69),\n",
       "  MannwhitneyuResult(statistic=791472.5, pvalue=2.8927679803621883e-69),\n",
       "  MannwhitneyuResult(statistic=795658.0, pvalue=7.6524197922706719e-69),\n",
       "  MannwhitneyuResult(statistic=799800.5, pvalue=1.9981850564609984e-68),\n",
       "  MannwhitneyuResult(statistic=803967.0, pvalue=5.2309269540896305e-68),\n",
       "  MannwhitneyuResult(statistic=808323.0, pvalue=1.4258577860727582e-67),\n",
       "  MannwhitneyuResult(statistic=812516.0, pvalue=3.7326619540488407e-67),\n",
       "  MannwhitneyuResult(statistic=816961.0, pvalue=1.0317497620874267e-66),\n",
       "  MannwhitneyuResult(statistic=821417.0, pvalue=2.8492005014160159e-66),\n",
       "  MannwhitneyuResult(statistic=826054.0, pvalue=8.1694645169978978e-66),\n",
       "  MannwhitneyuResult(statistic=830773.5, pvalue=2.3775732443379611e-65),\n",
       "  MannwhitneyuResult(statistic=835517.5, pvalue=6.9308853776953494e-65),\n",
       "  MannwhitneyuResult(statistic=840425.0, pvalue=2.087677700374801e-64),\n",
       "  MannwhitneyuResult(statistic=845298.0, pvalue=6.2139347752830343e-64),\n",
       "  MannwhitneyuResult(statistic=850471.0, pvalue=1.9691168872071089e-63),\n",
       "  MannwhitneyuResult(statistic=855749.0, pvalue=6.3498019453476808e-63),\n",
       "  MannwhitneyuResult(statistic=860968.0, pvalue=2.015939589796463e-62),\n",
       "  MannwhitneyuResult(statistic=866631.5, pvalue=7.0154575366152295e-62),\n",
       "  MannwhitneyuResult(statistic=872324.0, pvalue=2.4432423752316766e-61),\n",
       "  MannwhitneyuResult(statistic=878066.5, pvalue=8.5536553952334938e-61),\n",
       "  MannwhitneyuResult(statistic=884163.5, pvalue=3.2151382364422084e-60),\n",
       "  MannwhitneyuResult(statistic=890234.5, pvalue=1.1940011892527692e-59),\n",
       "  MannwhitneyuResult(statistic=896730.0, pvalue=4.8257626884715201e-59),\n",
       "  MannwhitneyuResult(statistic=903218.5, pvalue=1.9332437163211787e-58),\n",
       "  MannwhitneyuResult(statistic=909893.5, pvalue=7.9985211411236052e-58),\n",
       "  MannwhitneyuResult(statistic=916845.5, pvalue=3.4810146799895499e-57),\n",
       "  MannwhitneyuResult(statistic=924235.5, pvalue=1.6470744452330513e-56),\n",
       "  MannwhitneyuResult(statistic=931730.5, pvalue=7.8896036127836433e-56),\n",
       "  MannwhitneyuResult(statistic=939376.0, pvalue=3.8608517574063154e-55),\n",
       "  MannwhitneyuResult(statistic=947294.0, pvalue=1.9780203082099031e-54),\n",
       "  MannwhitneyuResult(statistic=955522.5, pvalue=1.0680256266150316e-53),\n",
       "  MannwhitneyuResult(statistic=964096.0, pvalue=6.1121863691036243e-53),\n",
       "  MannwhitneyuResult(statistic=972846.5, pvalue=3.5786664086845328e-52),\n",
       "  MannwhitneyuResult(statistic=982030.0, pvalue=2.2542385761767726e-51),\n",
       "  MannwhitneyuResult(statistic=991581.0, pvalue=1.5048868963738062e-50),\n",
       "  MannwhitneyuResult(statistic=1001736.0, pvalue=1.1132219441961707e-49),\n",
       "  MannwhitneyuResult(statistic=1012232.0, pvalue=8.642965415892578e-49),\n",
       "  MannwhitneyuResult(statistic=1023255.5, pvalue=7.2863251413413134e-48),\n",
       "  MannwhitneyuResult(statistic=1034814.5, pvalue=6.6599589073812935e-47),\n",
       "  MannwhitneyuResult(statistic=1046982.0, pvalue=6.6698541279880134e-46),\n",
       "  MannwhitneyuResult(statistic=1059641.0, pvalue=7.1323253887271058e-45),\n",
       "  MannwhitneyuResult(statistic=1073029.0, pvalue=8.4841042842943102e-44),\n",
       "  MannwhitneyuResult(statistic=1087191.0, pvalue=1.1254745574068157e-42),\n",
       "  MannwhitneyuResult(statistic=1102072.0, pvalue=1.6396357639043606e-41),\n",
       "  MannwhitneyuResult(statistic=1117693.5, pvalue=2.6185759445045595e-40),\n",
       "  MannwhitneyuResult(statistic=1134629.5, pvalue=5.0327690946158025e-39),\n",
       "  MannwhitneyuResult(statistic=1152492.5, pvalue=1.077454314388456e-37),\n",
       "  MannwhitneyuResult(statistic=1171701.5, pvalue=2.7312674043974864e-36),\n",
       "  MannwhitneyuResult(statistic=1192535.0, pvalue=8.4644052761242138e-35),\n",
       "  MannwhitneyuResult(statistic=1214679.0, pvalue=2.9973960338056679e-33),\n",
       "  MannwhitneyuResult(statistic=1238728.0, pvalue=1.3100392407426434e-31),\n",
       "  MannwhitneyuResult(statistic=1265418.5, pvalue=7.7088016568124752e-30),\n",
       "  MannwhitneyuResult(statistic=1294054.0, pvalue=5.3207760486565276e-28),\n",
       "  MannwhitneyuResult(statistic=1326036.0, pvalue=5.0920179553931158e-26),\n",
       "  MannwhitneyuResult(statistic=1360876.0, pvalue=5.9873595512681431e-24),\n",
       "  MannwhitneyuResult(statistic=1400283.5, pvalue=1.0209417707096696e-21),\n",
       "  MannwhitneyuResult(statistic=1444613.0, pvalue=2.3994614113125881e-19),\n",
       "  MannwhitneyuResult(statistic=1495315.5, pvalue=8.1544494160339627e-17),\n",
       "  MannwhitneyuResult(statistic=1554171.0, pvalue=4.058250584221673e-14),\n",
       "  MannwhitneyuResult(statistic=1623570.0, pvalue=2.858856875771643e-11),\n",
       "  MannwhitneyuResult(statistic=1707403.0, pvalue=2.6249217762743907e-08),\n",
       "  MannwhitneyuResult(statistic=1810893.0, pvalue=2.3060809762537151e-05),\n",
       "  MannwhitneyuResult(statistic=1946145.5, pvalue=0.011116306085935985),\n",
       "  MannwhitneyuResult(statistic=2103328.5, pvalue=0.41747667350860651),\n",
       "  MannwhitneyuResult(statistic=1802518.5, pvalue=1.424751181410885e-05),\n",
       "  MannwhitneyuResult(statistic=1085983.5, pvalue=9.0038534577200306e-43)]}"
      ]
     },
     "execution_count": 141,
     "metadata": {},
     "output_type": "execute_result"
    }
   ],
   "source": [
    "wmw_res = {\n",
    "    tissue:  [mannwhitneyu(s_mixed[~gene_mask[tissue]], s_mixed[gene_mask[tissue]]) for s_mixed in mixed] for \n",
    "    tissue in map_names\n",
    "}\n",
    "wmw_res"
   ]
  },
  {
   "cell_type": "code",
   "execution_count": 142,
   "metadata": {},
   "outputs": [
    {
     "data": {
      "text/plain": [
       "{'tissue1': (0.89320328415334282, 119370.0, 1.6854437020612049e-73),\n",
       " 'tissue2': (0.90752515587381932, 199234.0, 6.0578847467821015e-143)}"
      ]
     },
     "execution_count": 142,
     "metadata": {},
     "output_type": "execute_result"
    }
   ],
   "source": [
    "wmw_exp = {}\n",
    "for tissue in map_names:\n",
    "    y = np.repeat(np.percentile(samples[tissue], (1- rel_rk[tissue]) * 100), sig_size[tissue])\n",
    "    u, p = mannwhitneyu(samples[tissue], y)\n",
    "    wmw_exp[tissue] = (wmw_r(samples[tissue], y, u), u, p) \n",
    "wmw_exp"
   ]
  },
  {
   "cell_type": "code",
   "execution_count": 143,
   "metadata": {},
   "outputs": [
    {
     "data": {
      "text/plain": [
       "{'tissue1': 109720.13822471768, 'tissue2': 163611.71497066432}"
      ]
     },
     "execution_count": 143,
     "metadata": {},
     "output_type": "execute_result"
    }
   ],
   "source": [
    "u_exp = {\n",
    "    tissue: wmw_u_exp(rel_rk[tissue], sig_size[tissue], samples[tissue].size) for tissue in gene_mask\n",
    "}\n",
    "u_exp"
   ]
  },
  {
   "cell_type": "code",
   "execution_count": 144,
   "metadata": {
    "collapsed": true
   },
   "outputs": [],
   "source": [
    "wmw_score_corr = {\n",
    "    tissue: [-np.log10(p) / -np.log10(wmw_exp[tissue][2]) for u, p in res] for tissue, res in wmw_res.items()\n",
    "}\n",
    "wmw_score = {\n",
    "    tissue: [-np.log10(p) for u, p in res] for tissue, res in wmw_res.items()\n",
    "}"
   ]
  },
  {
   "cell_type": "code",
   "execution_count": 145,
   "metadata": {},
   "outputs": [
    {
     "data": {
      "text/plain": [
       "<matplotlib.axes._subplots.AxesSubplot at 0x7fff2e1bd6a0>"
      ]
     },
     "execution_count": 145,
     "metadata": {},
     "output_type": "execute_result"
    },
    {
     "data": {
      "image/png": "[encoded data removed]",
      "text/plain": [
       "<matplotlib.figure.Figure at 0x7fff2e27b320>"
      ]
     },
     "metadata": {},
     "output_type": "display_data"
    }
   ],
   "source": [
    "fix, (ax1, ax2) = subplots(1, 2, figsize=(14, 4))\n",
    "pd.DataFrame(wmw_score).plot(ax=ax1)\n",
    "pd.DataFrame(wmw_score_corr).plot(ax=ax2)"
   ]
  },
  {
   "cell_type": "code",
   "execution_count": 146,
   "metadata": {},
   "outputs": [],
   "source": [
    "r = {\n",
    "    tissue: [wmw_r(s_mixed[~gene_mask[tissue]], s_mixed[gene_mask[tissue]], u) for u, p in res]\n",
    "    for s_mixed, (tissue, res) in zip(mixed, wmw_res.items())\n",
    "}\n",
    "r_corr = {\n",
    "    tissue: [wmw_r(s_mixed[~gene_mask[tissue]], s_mixed[gene_mask[tissue]], u) / wmw_exp[tissue][0] for u, p in res]\n",
    "    for s_mixed, (tissue, res) in zip(mixed, wmw_res.items())\n",
    "}\n",
    "r_corr_u = {\n",
    "    tissue: [wmw_r_corr(s_mixed[~gene_mask[tissue]], s_mixed[gene_mask[tissue]], u, u_exp[tissue]) for u, p in res]\n",
    "    for s_mixed, (tissue, res) in zip(mixed, wmw_res.items())\n",
    "}"
   ]
  },
  {
   "cell_type": "code",
   "execution_count": 147,
   "metadata": {},
   "outputs": [
    {
     "data": {
      "text/plain": [
       "<matplotlib.axes._subplots.AxesSubplot at 0x7fff2e0b3898>"
      ]
     },
     "execution_count": 147,
     "metadata": {},
     "output_type": "execute_result"
    },
    {
     "data": {
      "image/png": "[encoded data removed]",
      "text/plain": [
       "<matplotlib.figure.Figure at 0x7fff2e19cb38>"
      ]
     },
     "metadata": {},
     "output_type": "display_data"
    }
   ],
   "source": [
    "fix, (ax1, ax2) = subplots(1, 2, figsize=(14, 4))\n",
    "pd.DataFrame(r).plot(ax=ax1)\n",
    "pd.DataFrame(r_corr).plot(ax=ax2)"
   ]
  },
  {
   "cell_type": "code",
   "execution_count": 148,
   "metadata": {},
   "outputs": [
    {
     "data": {
      "text/plain": [
       "<matplotlib.axes._subplots.AxesSubplot at 0x7fff2e094908>"
      ]
     },
     "execution_count": 148,
     "metadata": {},
     "output_type": "execute_result"
    },
    {
     "data": {
      "image/png": "[encoded data removed]",
      "text/plain": [
       "<matplotlib.figure.Figure at 0x7fff2e27b4a8>"
      ]
     },
     "metadata": {},
     "output_type": "display_data"
    }
   ],
   "source": [
    "pd.DataFrame(r_corr_u).applymap(lambda x: x).plot()"
   ]
  },
  {
   "cell_type": "code",
   "execution_count": null,
   "metadata": {
    "collapsed": true
   },
   "outputs": [],
   "source": []
  }
 ],
 "metadata": {
  "anaconda-cloud": {},
  "kernelspec": {
   "display_name": "Python [Root]",
   "language": "python",
   "name": "Python [Root]"
  },
  "language_info": {
   "codemirror_mode": {
    "name": "ipython",
    "version": 3
   },
   "file_extension": ".py",
   "mimetype": "text/x-python",
   "name": "python",
   "nbconvert_exporter": "python",
   "pygments_lexer": "ipython3",
   "version": "3.5.2"
  }
 },
 "nbformat": 4,
 "nbformat_minor": 1
}
