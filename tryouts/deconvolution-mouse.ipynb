{
 "cells": [
  {
   "cell_type": "code",
   "execution_count": 2,
   "metadata": {
    "collapsed": false
   },
   "outputs": [],
   "source": [
    "%load_ext autoreload\n",
    "%autoreload 1\n",
    "%aimport pygenesig.pybioqc\n",
    "%aimport pygenesig.tools\n",
    "%aimport pygenesig.file_formats\n",
    "%matplotlib inline\n",
    "\n",
    "\n",
    "from pygenesig.pybioqc import * \n",
    "from pygenesig.bioqc import * \n",
    "from pygenesig.tools import * \n",
    "from pygenesig.file_formats import * \n",
    "from scipy.stats import mannwhitneyu\n",
    "import pandas as pd\n",
    "from pylab import * \n",
    "import seaborn as sns"
   ]
  },
  {
   "cell_type": "code",
   "execution_count": 3,
   "metadata": {
    "collapsed": false
   },
   "outputs": [],
   "source": [
    "exprs = read_expr(\"../pygenesig-example/data_processed/v6/exprs.npy\")\n",
    "target = read_target(\"../pygenesig-example/data_processed/v6/target.csv\")\n",
    "rosetta = read_rosetta(\"../pygenesig-example/data_processed/v6/rosetta.csv\", inverse=True)"
   ]
  },
  {
   "cell_type": "code",
   "execution_count": 4,
   "metadata": {
    "collapsed": false
   },
   "outputs": [],
   "source": [
    "exprs_m = read_expr(\"../pygenesig-example/data_processed/mouseGNF/exprs.npy\")\n",
    "target_m = read_target(\"../pygenesig-example/data_processed/mouseGNF/target.csv\")\n",
    "rosetta_m = read_rosetta(\"../pygenesig-example/data_processed/mouseGNF/rosetta.csv\", inverse=True)"
   ]
  },
  {
   "cell_type": "code",
   "execution_count": 63,
   "metadata": {
    "collapsed": false
   },
   "outputs": [],
   "source": [
    "signatures = load_gmt(\"../pygenesig-example/results/gtex_v6_solid_gini_0.8_1/signatures.gmt\")\n",
    "signatures_ind = translate_signatures(signatures, rosetta, ignore_missing=True)\n",
    "signatures_ind = {\n",
    "    tissue: np.array(inds) for tissue, inds in signatures_ind.items()\n",
    "}\n",
    "signatures_ind_m = translate_signatures(signatures, rosetta_m, ignore_missing=True)"
   ]
  },
  {
   "cell_type": "code",
   "execution_count": 64,
   "metadata": {
    "collapsed": false
   },
   "outputs": [
    {
     "data": {
      "text/plain": [
       "array(['adipose_brown', 'adipose_brown', 'adipose_white', 'adipose_white',\n",
       "       'adrenal_gland', 'adrenal_gland', 'amygdala', 'amygdala',\n",
       "       'B-cells_marginal_zone', 'B-cells_marginal_zone', 'bladder',\n",
       "       'bladder', 'bone', 'bone', 'bone_marrow', 'bone_marrow',\n",
       "       'cerebellum', 'cerebellum', 'cerebral_cortex', 'cerebral_cortex',\n",
       "       'cerebral_cortex_prefrontal', 'cerebral_cortex_prefrontal',\n",
       "       'ciliary_bodies', 'ciliary_bodies', 'common_myeloid_progenitor',\n",
       "       'common_myeloid_progenitor', 'cornea', 'cornea',\n",
       "       'dendritic_cells_lymphoid_CD8a+', 'dendritic_cells_lymphoid_CD8a+',\n",
       "       'dendritic_cells_myeloid_CD8a-', 'dendritic_cells_myeloid_CD8a-',\n",
       "       'dendritic_plasmacytoid_B220+', 'dendritic_plasmacytoid_B220+',\n",
       "       'dorsal_root_ganglia', 'dorsal_root_ganglia', 'dorsal_striatum',\n",
       "       'dorsal_striatum', 'epidermis', 'epidermis', 'eyecup', 'eyecup',\n",
       "       'follicular_B-cells', 'follicular_B-cells',\n",
       "       'granulo_mono_progenitor', 'granulo_mono_progenitor',\n",
       "       'granulocytes_mac1+gr1+', 'granulocytes_mac1+gr1+', 'heart',\n",
       "       'heart', 'hippocampus', 'hippocampus', 'hypothalamus',\n",
       "       'hypothalamus', 'intestine_large', 'intestine_large',\n",
       "       'intestine_small', 'intestine_small', 'iris', 'iris', 'kidney',\n",
       "       'kidney', 'lacrimal_gland', 'lacrimal_gland', 'lens', 'lens',\n",
       "       'liver', 'liver', 'lung', 'lung', 'lymph_nodes', 'lymph_nodes',\n",
       "       'macrophage_bone_marrow_0hr', 'macrophage_bone_marrow_0hr',\n",
       "       'macrophage_bone_marrow_24h_LPS', 'macrophage_bone_marrow_24h_LPS',\n",
       "       'macrophage_bone_marrow_2hr_LPS', 'macrophage_bone_marrow_2hr_LPS',\n",
       "       'macrophage_bone_marrow_6hr_LPS', 'macrophage_bone_marrow_6hr_LPS',\n",
       "       'macrophage_peri_LPS_thio_0hrs', 'macrophage_peri_LPS_thio_0hrs',\n",
       "       'macrophage_peri_LPS_thio_1hrs', 'macrophage_peri_LPS_thio_1hrs',\n",
       "       'macrophage_peri_LPS_thio_7hrs', 'macrophage_peri_LPS_thio_7hrs',\n",
       "       'mammary_gland__lact', 'mammary_gland__lact',\n",
       "       'mammary_gland_non-lactating', 'mammary_gland_non-lactating',\n",
       "       'mast_cells', 'mast_cells', 'mast_cells_IgE', 'mast_cells_IgE',\n",
       "       'mast_cells_IgE+antigen_1hr', 'mast_cells_IgE+antigen_1hr',\n",
       "       'mast_cells_IgE+antigen_6hr', 'mast_cells_IgE+antigen_6hr',\n",
       "       'mega_erythrocyte_progenitor', 'mega_erythrocyte_progenitor',\n",
       "       'microglia', 'microglia', 'NK_cells', 'NK_cells',\n",
       "       'nucleus_accumbens', 'nucleus_accumbens', 'olfactory_bulb',\n",
       "       'olfactory_bulb', 'osteoblast_day14', 'osteoblast_day14',\n",
       "       'osteoblast_day21', 'osteoblast_day21', 'osteoblast_day5',\n",
       "       'osteoblast_day5', 'osteoclasts', 'osteoclasts', 'ovary', 'ovary',\n",
       "       'pancreas', 'pancreas', 'pituitary', 'pituitary', 'placenta',\n",
       "       'placenta', 'prostate', 'prostate', 'retina', 'retina',\n",
       "       'retinal_pigment_epithelium', 'retinal_pigment_epithelium',\n",
       "       'salivary_gland', 'salivary_gland', 'skeletal_muscle',\n",
       "       'skeletal_muscle', 'spinal_cord', 'spinal_cord', 'spleen', 'spleen',\n",
       "       'stem_cells__HSC', 'stem_cells__HSC', 'stomach', 'stomach',\n",
       "       'T-cells_CD4+', 'T-cells_CD4+', 'T-cells_CD8+', 'T-cells_CD8+',\n",
       "       'T-cells_foxP3+', 'T-cells_foxP3+', 'testis', 'testis',\n",
       "       'thymocyte_DP_CD4+CD8+', 'thymocyte_DP_CD4+CD8+',\n",
       "       'thymocyte_SP_CD4+', 'thymocyte_SP_CD4+', 'thymocyte_SP_CD8+',\n",
       "       'thymocyte_SP_CD8+', 'umbilical_cord', 'umbilical_cord', 'uterus',\n",
       "       'uterus'], \n",
       "      dtype='<U30')"
      ]
     },
     "execution_count": 64,
     "metadata": {},
     "output_type": "execute_result"
    }
   ],
   "source": [
    "target_m"
   ]
  },
  {
   "cell_type": "code",
   "execution_count": 86,
   "metadata": {
    "collapsed": true
   },
   "outputs": [],
   "source": [
    "target_name = {\n",
    "    'tissue1': 'Testis',\n",
    "    'tissue2': 'Liver'\n",
    "}"
   ]
  },
  {
   "cell_type": "code",
   "execution_count": 87,
   "metadata": {
    "collapsed": true
   },
   "outputs": [],
   "source": [
    "target_name_m = {\n",
    "    'tissue1': 'testis',\n",
    "    'tissue2': 'liver'\n",
    "}"
   ]
  },
  {
   "cell_type": "code",
   "execution_count": 93,
   "metadata": {
    "collapsed": true
   },
   "outputs": [],
   "source": [
    "sig_name = {\n",
    "    'tissue1': 'Testis',\n",
    "    'tissue2': 'Liver'\n",
    "}"
   ]
  },
  {
   "cell_type": "code",
   "execution_count": 94,
   "metadata": {
    "collapsed": false
   },
   "outputs": [
    {
     "data": {
      "text/plain": [
       "{'tissue1': 148, 'tissue2': 66}"
      ]
     },
     "execution_count": 94,
     "metadata": {},
     "output_type": "execute_result"
    }
   ],
   "source": [
    "s_ind = {\n",
    "    'tissue1': np.flatnonzero(target_m == target_name_m['tissue1'])[0],\n",
    "    'tissue2': np.flatnonzero(target_m == target_name_m['tissue2'])[0]\n",
    "}\n",
    "s_ind"
   ]
  },
  {
   "cell_type": "code",
   "execution_count": 95,
   "metadata": {
    "collapsed": false
   },
   "outputs": [],
   "source": [
    "s = {\n",
    "    tissue: exprs_m[:, i] for tissue, i in s_ind.items()\n",
    "}"
   ]
  },
  {
   "cell_type": "code",
   "execution_count": 96,
   "metadata": {
    "collapsed": false
   },
   "outputs": [],
   "source": [
    "ind = {\n",
    "    tissue: np.array([True if i in signatures_ind_m[name] else False for i in range(exprs_m.shape[0])])\n",
    "    for tissue, name in sig_name.items()\n",
    "}"
   ]
  },
  {
   "cell_type": "code",
   "execution_count": 97,
   "metadata": {
    "collapsed": false
   },
   "outputs": [
    {
     "data": {
      "text/plain": [
       "{'tissue1': 0.12066998061651973, 'tissue2': 0.02013380854123679}"
      ]
     },
     "execution_count": 97,
     "metadata": {},
     "output_type": "execute_result"
    }
   ],
   "source": [
    "rel_rk = {\n",
    "    tissue: pd.DataFrame(exprs[:, target == target_name[tissue]]).rank(\n",
    "        axis=0, ascending=False).iloc[signatures_ind[sig_name[tissue]], :].median(axis=0).median() / exprs.shape[0] for tissue in s\n",
    "}\n",
    "rel_rk"
   ]
  },
  {
   "cell_type": "code",
   "execution_count": 98,
   "metadata": {
    "collapsed": false
   },
   "outputs": [
    {
     "data": {
      "text/plain": [
       "{'tissue1': 693, 'tissue2': 262}"
      ]
     },
     "execution_count": 98,
     "metadata": {},
     "output_type": "execute_result"
    }
   ],
   "source": [
    "size = {\n",
    "    tissue: sum(t_ind) for tissue, t_ind in ind.items()\n",
    "}\n",
    "size"
   ]
  },
  {
   "cell_type": "code",
   "execution_count": 99,
   "metadata": {
    "collapsed": false
   },
   "outputs": [
    {
     "data": {
      "text/plain": [
       "0.015957446808510637"
      ]
     },
     "execution_count": 99,
     "metadata": {},
     "output_type": "execute_result"
    }
   ],
   "source": [
    "overlap = jaccard_ind(*(signatures_ind_m[sig_name[tissue]] for tissue in s))\n",
    "overlap"
   ]
  },
  {
   "cell_type": "code",
   "execution_count": 100,
   "metadata": {
    "collapsed": true
   },
   "outputs": [],
   "source": [
    "def mix(x, y, prop_x):\n",
    "    return x * prop_x + y * (1 - prop_x)"
   ]
  },
  {
   "cell_type": "code",
   "execution_count": 101,
   "metadata": {
    "collapsed": true
   },
   "outputs": [],
   "source": [
    "def wmw_r_corr(x, y, u, u_exp):\n",
    "    return 1 - (2 * (u - u_exp)) / (x.size * y.size)"
   ]
  },
  {
   "cell_type": "code",
   "execution_count": 102,
   "metadata": {
    "collapsed": false
   },
   "outputs": [],
   "source": [
    "mixed = [mix(s['tissue1'], s['tissue2'], f) for f in np.arange(0, 1.01, 0.01)]"
   ]
  },
  {
   "cell_type": "code",
   "execution_count": 103,
   "metadata": {
    "collapsed": false
   },
   "outputs": [
    {
     "data": {
      "text/plain": [
       "{'tissue1': [MannwhitneyuResult(statistic=2224533.5, pvalue=5.4771477380594151e-146),\n",
       "  MannwhitneyuResult(statistic=2930464.5, pvalue=8.881433781924492e-87),\n",
       "  MannwhitneyuResult(statistic=3366072.5, pvalue=5.2771469036089428e-58),\n",
       "  MannwhitneyuResult(statistic=3686505.5, pvalue=1.2929525646765623e-40),\n",
       "  MannwhitneyuResult(statistic=3941654.5, pvalue=4.701621947638769e-29),\n",
       "  MannwhitneyuResult(statistic=4153808.5, pvalue=5.562981734512572e-21),\n",
       "  MannwhitneyuResult(statistic=4335206.0, pvalue=3.4901496788790206e-15),\n",
       "  MannwhitneyuResult(statistic=4493860.0, pvalue=6.052519593862651e-11),\n",
       "  MannwhitneyuResult(statistic=4635043.0, pvalue=8.0508449354052423e-08),\n",
       "  MannwhitneyuResult(statistic=4761657.0, pvalue=1.5591028295599279e-05),\n",
       "  MannwhitneyuResult(statistic=4876917.0, pvalue=0.00072076192527321795),\n",
       "  MannwhitneyuResult(statistic=4981933.5, pvalue=0.010874852433068131),\n",
       "  MannwhitneyuResult(statistic=5078742.5, pvalue=0.070390257765333933),\n",
       "  MannwhitneyuResult(statistic=5168899.5, pvalue=0.23961548329076326),\n",
       "  MannwhitneyuResult(statistic=5251872.5, pvalue=0.49873339277522311),\n",
       "  MannwhitneyuResult(statistic=5173897.5, pvalue=0.25298957843973646),\n",
       "  MannwhitneyuResult(statistic=5100155.0, pvalue=0.098331366290214939),\n",
       "  MannwhitneyuResult(statistic=5030708.0, pvalue=0.030009108079661437),\n",
       "  MannwhitneyuResult(statistic=4965309.0, pvalue=0.0074286762988912741),\n",
       "  MannwhitneyuResult(statistic=4903149.5, pvalue=0.0015207358724580076),\n",
       "  MannwhitneyuResult(statistic=4843889.0, pvalue=0.00026355982532647628),\n",
       "  MannwhitneyuResult(statistic=4788059.0, pvalue=4.065115913316914e-05),\n",
       "  MannwhitneyuResult(statistic=4734587.0, pvalue=5.552501189230967e-06),\n",
       "  MannwhitneyuResult(statistic=4683413.5, pvalue=6.8653884580213745e-07),\n",
       "  MannwhitneyuResult(statistic=4634689.5, pvalue=7.92096024614619e-08),\n",
       "  MannwhitneyuResult(statistic=4587826.5, pvalue=8.4867368894836482e-09),\n",
       "  MannwhitneyuResult(statistic=4542889.0, pvalue=8.6245011034974202e-10),\n",
       "  MannwhitneyuResult(statistic=4499486.0, pvalue=8.2807417010860104e-11),\n",
       "  MannwhitneyuResult(statistic=4457736.5, pvalue=7.6690193858936161e-12),\n",
       "  MannwhitneyuResult(statistic=4417497.0, pvalue=6.8891550054407005e-13),\n",
       "  MannwhitneyuResult(statistic=4378632.5, pvalue=6.0270637087586037e-14),\n",
       "  MannwhitneyuResult(statistic=4341255.0, pvalue=5.2320121568316056e-15),\n",
       "  MannwhitneyuResult(statistic=4304528.5, pvalue=4.3030811508399123e-16),\n",
       "  MannwhitneyuResult(statistic=4269066.5, pvalue=3.5216995478106791e-17),\n",
       "  MannwhitneyuResult(statistic=4234838.0, pvalue=2.8887024502534377e-18),\n",
       "  MannwhitneyuResult(statistic=4201470.0, pvalue=2.3286237433930911e-19),\n",
       "  MannwhitneyuResult(statistic=4169307.0, pvalue=1.90718541203187e-20),\n",
       "  MannwhitneyuResult(statistic=4137920.0, pvalue=1.5453890836312134e-21),\n",
       "  MannwhitneyuResult(statistic=4107483.5, pvalue=1.2635596566008702e-22),\n",
       "  MannwhitneyuResult(statistic=4077578.0, pvalue=1.0119712897204913e-23),\n",
       "  MannwhitneyuResult(statistic=4048624.0, pvalue=8.2643803939482171e-25),\n",
       "  MannwhitneyuResult(statistic=4020386.0, pvalue=6.7781842852788563e-26),\n",
       "  MannwhitneyuResult(statistic=3992545.5, pvalue=5.4461023388126223e-27),\n",
       "  MannwhitneyuResult(statistic=3965477.0, pvalue=4.4499751830243382e-28),\n",
       "  MannwhitneyuResult(statistic=3938805.0, pvalue=3.5835331246083908e-29),\n",
       "  MannwhitneyuResult(statistic=3912815.5, pvalue=2.9309440465667396e-30),\n",
       "  MannwhitneyuResult(statistic=3887429.0, pvalue=2.424778748064219e-31),\n",
       "  MannwhitneyuResult(statistic=3862504.0, pvalue=2.0069146608159657e-32),\n",
       "  MannwhitneyuResult(statistic=3837877.0, pvalue=1.6381701682683139e-33),\n",
       "  MannwhitneyuResult(statistic=3814215.0, pvalue=1.4160139447773218e-34),\n",
       "  MannwhitneyuResult(statistic=3790836.0, pvalue=1.2116976339198011e-35),\n",
       "  MannwhitneyuResult(statistic=3767566.5, pvalue=1.0088849537326851e-36),\n",
       "  MannwhitneyuResult(statistic=3744727.5, pvalue=8.4699778274710363e-38),\n",
       "  MannwhitneyuResult(statistic=3722398.0, pvalue=7.2482931912156675e-39),\n",
       "  MannwhitneyuResult(statistic=3700441.0, pvalue=6.2412294050051788e-40),\n",
       "  MannwhitneyuResult(statistic=3678718.5, pvalue=5.332283431984699e-41),\n",
       "  MannwhitneyuResult(statistic=3657496.5, pvalue=4.6664609572198092e-42),\n",
       "  MannwhitneyuResult(statistic=3636409.5, pvalue=4.017023935564941e-43),\n",
       "  MannwhitneyuResult(statistic=3615415.0, pvalue=3.3864078970648253e-44),\n",
       "  MannwhitneyuResult(statistic=3595064.0, pvalue=2.9881150088377497e-45),\n",
       "  MannwhitneyuResult(statistic=3574848.0, pvalue=2.6018297537299769e-46),\n",
       "  MannwhitneyuResult(statistic=3555012.5, pvalue=2.305374055496022e-47),\n",
       "  MannwhitneyuResult(statistic=3535423.0, pvalue=2.0475211720674805e-48),\n",
       "  MannwhitneyuResult(statistic=3516066.0, pvalue=1.8215962625493297e-49),\n",
       "  MannwhitneyuResult(statistic=3496823.0, pvalue=1.6006369296940364e-50),\n",
       "  MannwhitneyuResult(statistic=3478033.0, pvalue=1.4516520593306079e-51),\n",
       "  MannwhitneyuResult(statistic=3459249.0, pvalue=1.2845999659687709e-52),\n",
       "  MannwhitneyuResult(statistic=3440386.0, pvalue=1.0969286822674036e-53),\n",
       "  MannwhitneyuResult(statistic=3421995.0, pvalue=9.7196455723540307e-55),\n",
       "  MannwhitneyuResult(statistic=3404022.5, pvalue=8.8897138002638031e-56),\n",
       "  MannwhitneyuResult(statistic=3386256.5, pvalue=8.1689059341665169e-57),\n",
       "  MannwhitneyuResult(statistic=3368547.5, pvalue=7.3956033689527546e-58),\n",
       "  MannwhitneyuResult(statistic=3350893.0, pvalue=6.5957058175504307e-59),\n",
       "  MannwhitneyuResult(statistic=3333433.0, pvalue=5.9095647922011238e-60),\n",
       "  MannwhitneyuResult(statistic=3315891.0, pvalue=5.1210179403990549e-61),\n",
       "  MannwhitneyuResult(statistic=3298569.0, pvalue=4.4777747801066213e-62),\n",
       "  MannwhitneyuResult(statistic=3281197.5, pvalue=3.8049286583388562e-63),\n",
       "  MannwhitneyuResult(statistic=3264023.5, pvalue=3.2550099711058229e-64),\n",
       "  MannwhitneyuResult(statistic=3247075.0, pvalue=2.8168240424061296e-65),\n",
       "  MannwhitneyuResult(statistic=3230453.0, pvalue=2.5046005445193932e-66),\n",
       "  MannwhitneyuResult(statistic=3213787.0, pvalue=2.169114199572545e-67),\n",
       "  MannwhitneyuResult(statistic=3196893.5, pvalue=1.7802482325613684e-68),\n",
       "  MannwhitneyuResult(statistic=3180245.0, pvalue=1.4849616536992924e-69),\n",
       "  MannwhitneyuResult(statistic=3163575.0, pvalue=1.2102993550101625e-70),\n",
       "  MannwhitneyuResult(statistic=3146957.0, pvalue=9.7462448731400015e-72),\n",
       "  MannwhitneyuResult(statistic=3130470.0, pvalue=7.8503947532708184e-73),\n",
       "  MannwhitneyuResult(statistic=3114093.0, pvalue=6.3073595068207408e-74),\n",
       "  MannwhitneyuResult(statistic=3097751.0, pvalue=4.9980622104713558e-75),\n",
       "  MannwhitneyuResult(statistic=3081097.5, pvalue=3.6999411550041059e-76),\n",
       "  MannwhitneyuResult(statistic=3064822.5, pvalue=2.8505086170548949e-77),\n",
       "  MannwhitneyuResult(statistic=3048553.5, pvalue=2.1567441082379407e-78),\n",
       "  MannwhitneyuResult(statistic=3032195.5, pvalue=1.5783865618502056e-79),\n",
       "  MannwhitneyuResult(statistic=3016385.5, pvalue=1.238038704631562e-80),\n",
       "  MannwhitneyuResult(statistic=3000401.0, pvalue=9.2709093327290906e-82),\n",
       "  MannwhitneyuResult(statistic=2984677.0, pvalue=7.1133376590399705e-83),\n",
       "  MannwhitneyuResult(statistic=2969092.0, pvalue=5.486129517757385e-84),\n",
       "  MannwhitneyuResult(statistic=2953804.0, pvalue=4.3681609966764945e-85),\n",
       "  MannwhitneyuResult(statistic=2939384.0, pvalue=3.9540343657507389e-86),\n",
       "  MannwhitneyuResult(statistic=2927227.0, pvalue=5.1577783218702095e-87),\n",
       "  MannwhitneyuResult(statistic=2919295.5, pvalue=1.3578670372591932e-87),\n",
       "  MannwhitneyuResult(statistic=2930739.5, pvalue=9.3006974508818348e-87)],\n",
       " 'tissue2': [MannwhitneyuResult(statistic=750948.5, pvalue=1.7948848760355711e-69),\n",
       "  MannwhitneyuResult(statistic=760869.0, pvalue=1.9252373938832679e-68),\n",
       "  MannwhitneyuResult(statistic=767764.5, pvalue=9.909950332142372e-68),\n",
       "  MannwhitneyuResult(statistic=773555.0, pvalue=3.8965511695677683e-67),\n",
       "  MannwhitneyuResult(statistic=778924.5, pvalue=1.3792857746126722e-66),\n",
       "  MannwhitneyuResult(statistic=783982.0, pvalue=4.5145462627583906e-66),\n",
       "  MannwhitneyuResult(statistic=788650.0, pvalue=1.3430544664187104e-65),\n",
       "  MannwhitneyuResult(statistic=793170.0, pvalue=3.8449929217353393e-65),\n",
       "  MannwhitneyuResult(statistic=797698.0, pvalue=1.0986583460125741e-64),\n",
       "  MannwhitneyuResult(statistic=802049.0, pvalue=3.0023163066210762e-64),\n",
       "  MannwhitneyuResult(statistic=806376.0, pvalue=8.1308493219905304e-64),\n",
       "  MannwhitneyuResult(statistic=810803.0, pvalue=2.2452287890740632e-63),\n",
       "  MannwhitneyuResult(statistic=815198.5, pvalue=6.1332572141658981e-63),\n",
       "  MannwhitneyuResult(statistic=819440.0, pvalue=1.6119881033454841e-62),\n",
       "  MannwhitneyuResult(statistic=823724.0, pvalue=4.2635645625696033e-62),\n",
       "  MannwhitneyuResult(statistic=827929.5, pvalue=1.1041085909751873e-61),\n",
       "  MannwhitneyuResult(statistic=832191.5, pvalue=2.8863917272920727e-61),\n",
       "  MannwhitneyuResult(statistic=836418.0, pvalue=7.4607727597622642e-61),\n",
       "  MannwhitneyuResult(statistic=840749.0, pvalue=1.9675391721796203e-60),\n",
       "  MannwhitneyuResult(statistic=845064.0, pvalue=5.1524185389818419e-60),\n",
       "  MannwhitneyuResult(statistic=849406.5, pvalue=1.3528693458593893e-59),\n",
       "  MannwhitneyuResult(statistic=853738.0, pvalue=3.5312797112219922e-59),\n",
       "  MannwhitneyuResult(statistic=858041.0, pvalue=9.1280285350480952e-59),\n",
       "  MannwhitneyuResult(statistic=862491.0, pvalue=2.4285672861631818e-58),\n",
       "  MannwhitneyuResult(statistic=866978.5, pvalue=6.4907735036004628e-58),\n",
       "  MannwhitneyuResult(statistic=871466.5, pvalue=1.7285234745725391e-57),\n",
       "  MannwhitneyuResult(statistic=876022.0, pvalue=4.6537196211891549e-57),\n",
       "  MannwhitneyuResult(statistic=880471.0, pvalue=1.2197292308496328e-56),\n",
       "  MannwhitneyuResult(statistic=885201.0, pvalue=3.3838907301082116e-56),\n",
       "  MannwhitneyuResult(statistic=890032.0, pvalue=9.5538904526657901e-56),\n",
       "  MannwhitneyuResult(statistic=894743.0, pvalue=2.6178537120017928e-55),\n",
       "  MannwhitneyuResult(statistic=899500.0, pvalue=7.214057165064127e-55),\n",
       "  MannwhitneyuResult(statistic=904242.0, pvalue=1.9734222714560275e-54),\n",
       "  MannwhitneyuResult(statistic=908912.0, pvalue=5.2949622749779478e-54),\n",
       "  MannwhitneyuResult(statistic=913758.5, pvalue=1.4684439662087785e-53),\n",
       "  MannwhitneyuResult(statistic=918876.5, pvalue=4.291650191871525e-53),\n",
       "  MannwhitneyuResult(statistic=923936.0, pvalue=1.2331151557012783e-52),\n",
       "  MannwhitneyuResult(statistic=929176.0, pvalue=3.6607737797680459e-52),\n",
       "  MannwhitneyuResult(statistic=934353.0, pvalue=1.0673312870216424e-51),\n",
       "  MannwhitneyuResult(statistic=939726.0, pvalue=3.2236538235725194e-51),\n",
       "  MannwhitneyuResult(statistic=945069.0, pvalue=9.6254890271982108e-51),\n",
       "  MannwhitneyuResult(statistic=950608.0, pvalue=2.9751532786238925e-50),\n",
       "  MannwhitneyuResult(statistic=956358.0, pvalue=9.5425405267632811e-50),\n",
       "  MannwhitneyuResult(statistic=962112.0, pvalue=3.044518100755464e-49),\n",
       "  MannwhitneyuResult(statistic=967875.0, pvalue=9.6716804122634376e-49),\n",
       "  MannwhitneyuResult(statistic=973815.0, pvalue=3.1631351950654755e-48),\n",
       "  MannwhitneyuResult(statistic=979989.5, pvalue=1.0765965386868434e-47),\n",
       "  MannwhitneyuResult(statistic=986148.0, pvalue=3.6271636450869377e-47),\n",
       "  MannwhitneyuResult(statistic=992515.0, pvalue=1.2639970663727598e-46),\n",
       "  MannwhitneyuResult(statistic=999027.0, pvalue=4.4968980012747855e-46),\n",
       "  MannwhitneyuResult(statistic=1005694.0, pvalue=1.6356098013805123e-45),\n",
       "  MannwhitneyuResult(statistic=1012406.0, pvalue=5.951616615617068e-45),\n",
       "  MannwhitneyuResult(statistic=1019233.0, pvalue=2.1953287993277667e-44),\n",
       "  MannwhitneyuResult(statistic=1026310.0, pvalue=8.4174778311373403e-44),\n",
       "  MannwhitneyuResult(statistic=1033578.0, pvalue=3.3146865046582716e-43),\n",
       "  MannwhitneyuResult(statistic=1040968.5, pvalue=1.3225077065945357e-42),\n",
       "  MannwhitneyuResult(statistic=1048460.0, pvalue=5.3223457973245341e-42),\n",
       "  MannwhitneyuResult(statistic=1056348.0, pvalue=2.2801128011415834e-41),\n",
       "  MannwhitneyuResult(statistic=1064369.0, pvalue=9.8936182787743288e-41),\n",
       "  MannwhitneyuResult(statistic=1072657.0, pvalue=4.45206036599278e-40),\n",
       "  MannwhitneyuResult(statistic=1081103.0, pvalue=2.0349920865570457e-39),\n",
       "  MannwhitneyuResult(statistic=1089979.0, pvalue=9.9086211821080793e-39),\n",
       "  MannwhitneyuResult(statistic=1098898.0, pvalue=4.7911864845063796e-38),\n",
       "  MannwhitneyuResult(statistic=1108084.0, pvalue=2.3917055828870559e-37),\n",
       "  MannwhitneyuResult(statistic=1117658.5, pvalue=1.2569491267349749e-36),\n",
       "  MannwhitneyuResult(statistic=1127589.0, pvalue=6.90197430988247e-36),\n",
       "  MannwhitneyuResult(statistic=1137919.5, pvalue=3.9815365484910099e-35),\n",
       "  MannwhitneyuResult(statistic=1148586.0, pvalue=2.381911102820134e-34),\n",
       "  MannwhitneyuResult(statistic=1159717.0, pvalue=1.506363727159805e-33),\n",
       "  MannwhitneyuResult(statistic=1171196.0, pvalue=9.8537299842480477e-33),\n",
       "  MannwhitneyuResult(statistic=1183188.0, pvalue=6.8308278956055923e-32),\n",
       "  MannwhitneyuResult(statistic=1195358.0, pvalue=4.7432458086997059e-31),\n",
       "  MannwhitneyuResult(statistic=1208275.0, pvalue=3.6007080625306799e-30),\n",
       "  MannwhitneyuResult(statistic=1221835.0, pvalue=2.9253585241803356e-29),\n",
       "  MannwhitneyuResult(statistic=1235663.5, pvalue=2.3925362421921482e-28),\n",
       "  MannwhitneyuResult(statistic=1250262.5, pvalue=2.1174836803283426e-27),\n",
       "  MannwhitneyuResult(statistic=1265424.0, pvalue=1.9554961901045175e-26),\n",
       "  MannwhitneyuResult(statistic=1281607.0, pvalue=2.0021576386545786e-25),\n",
       "  MannwhitneyuResult(statistic=1298406.5, pvalue=2.1287380066175767e-24),\n",
       "  MannwhitneyuResult(statistic=1316090.0, pvalue=2.4235536188718053e-23),\n",
       "  MannwhitneyuResult(statistic=1335058.0, pvalue=3.0888996153908457e-22),\n",
       "  MannwhitneyuResult(statistic=1354784.0, pvalue=4.0636810166078117e-21),\n",
       "  MannwhitneyuResult(statistic=1376091.0, pvalue=6.0662489859987453e-20),\n",
       "  MannwhitneyuResult(statistic=1398823.0, pvalue=9.8993056025818156e-19),\n",
       "  MannwhitneyuResult(statistic=1423006.5, pvalue=1.7402569711105214e-17),\n",
       "  MannwhitneyuResult(statistic=1449110.5, pvalue=3.4068224368721746e-16),\n",
       "  MannwhitneyuResult(statistic=1477007.0, pvalue=7.1287516981285027e-15),\n",
       "  MannwhitneyuResult(statistic=1507566.0, pvalue=1.6941050727472993e-13),\n",
       "  MannwhitneyuResult(statistic=1540766.5, pvalue=4.3657783314809547e-12),\n",
       "  MannwhitneyuResult(statistic=1577391.0, pvalue=1.2467171549683844e-10),\n",
       "  MannwhitneyuResult(statistic=1618007.5, pvalue=3.8606427312947647e-09),\n",
       "  MannwhitneyuResult(statistic=1662914.0, pvalue=1.2146538754300737e-07),\n",
       "  MannwhitneyuResult(statistic=1713809.5, pvalue=3.9077830597897826e-06),\n",
       "  MannwhitneyuResult(statistic=1772033.5, pvalue=0.00011776196000666394),\n",
       "  MannwhitneyuResult(statistic=1838541.0, pvalue=0.0027850678643526541),\n",
       "  MannwhitneyuResult(statistic=1917701.5, pvalue=0.045097538297535537),\n",
       "  MannwhitneyuResult(statistic=2014574.5, pvalue=0.35363271196697865),\n",
       "  MannwhitneyuResult(statistic=1946510.0, pvalue=0.096429500291008108),\n",
       "  MannwhitneyuResult(statistic=1776367.5, pvalue=0.00014815531204760476),\n",
       "  MannwhitneyuResult(statistic=1516484.5, pvalue=4.1358383590883179e-13),\n",
       "  MannwhitneyuResult(statistic=901185.0, pvalue=1.0320045426067493e-54)]}"
      ]
     },
     "execution_count": 103,
     "metadata": {},
     "output_type": "execute_result"
    }
   ],
   "source": [
    "wmw_res = {\n",
    "    tissue:  [mannwhitneyu(s_mixed[~ind[tissue]], s_mixed[ind[tissue]]) for s_mixed in mixed] for \n",
    "    tissue in ind\n",
    "}\n",
    "wmw_res"
   ]
  },
  {
   "cell_type": "code",
   "execution_count": 104,
   "metadata": {
    "collapsed": false
   },
   "outputs": [
    {
     "data": {
      "text/plain": [
       "{'tissue1': (0.75862721594852056, 1325709.0, 1.3647908394616023e-251),\n",
       " 'tissue2': (0.95962399848589996, 83840.0, 3.6756100890541761e-157)}"
      ]
     },
     "execution_count": 104,
     "metadata": {},
     "output_type": "execute_result"
    }
   ],
   "source": [
    "wmw_exp = {}\n",
    "for tissue in ind:\n",
    "    y = np.repeat(np.percentile(s[tissue], (1- rel_rk[tissue]) * 100), size[tissue])\n",
    "    u, p = mannwhitneyu(s[tissue], y)\n",
    "    wmw_exp[tissue] = (wmw_r(s[tissue], y, u), u, p) \n",
    "wmw_exp"
   ]
  },
  {
   "cell_type": "code",
   "execution_count": 105,
   "metadata": {
    "collapsed": false
   },
   "outputs": [
    {
     "data": {
      "text/plain": [
       "{'tissue1': 1085057.7248874507, 'tissue2': 49161.941787031828}"
      ]
     },
     "execution_count": 105,
     "metadata": {},
     "output_type": "execute_result"
    }
   ],
   "source": [
    "u_exp = {\n",
    "    tissue: wmw_u_exp(rel_rk[tissue], size[tissue], s[tissue].size) for tissue in ind\n",
    "}\n",
    "u_exp"
   ]
  },
  {
   "cell_type": "markdown",
   "metadata": {},
   "source": [
    "## BioQC score, corrected and uncorrected"
   ]
  },
  {
   "cell_type": "code",
   "execution_count": 106,
   "metadata": {
    "collapsed": true
   },
   "outputs": [],
   "source": [
    "wmw_score_corr = {\n",
    "    tissue: [-np.log10(p) / -np.log10(wmw_exp[tissue][2]) for u, p in res] for tissue, res in wmw_res.items()\n",
    "}\n",
    "wmw_score = {\n",
    "    tissue: [-np.log10(p) for u, p in res] for tissue, res in wmw_res.items()\n",
    "}"
   ]
  },
  {
   "cell_type": "code",
   "execution_count": 107,
   "metadata": {
    "collapsed": false
   },
   "outputs": [
    {
     "data": {
      "text/plain": [
       "<matplotlib.axes._subplots.AxesSubplot at 0x7fff706806d8>"
      ]
     },
     "execution_count": 107,
     "metadata": {},
     "output_type": "execute_result"
    },
    {
     "data": {
      "image/png": "[encoded data removed]",
      "text/plain": [
       "<matplotlib.figure.Figure at 0x7fff70792160>"
      ]
     },
     "metadata": {},
     "output_type": "display_data"
    }
   ],
   "source": [
    "fix, (ax1, ax2) = subplots(1, 2, figsize=(14, 4))\n",
    "pd.DataFrame(wmw_score).plot(ax=ax1)\n",
    "pd.DataFrame(wmw_score_corr).plot(ax=ax2)"
   ]
  },
  {
   "cell_type": "markdown",
   "metadata": {},
   "source": [
    "## $r$ effect size, corrected and uncorrected"
   ]
  },
  {
   "cell_type": "code",
   "execution_count": 108,
   "metadata": {
    "collapsed": false
   },
   "outputs": [],
   "source": [
    "r = {\n",
    "    tissue: [wmw_r(s_mixed[~ind[tissue]], s_mixed[ind[tissue]], u) for u, p in res]\n",
    "    for s_mixed, (tissue, res) in zip(mixed, wmw_res.items())\n",
    "}\n",
    "r_corr = {\n",
    "    tissue: [wmw_r(s_mixed[~ind[tissue]], s_mixed[ind[tissue]], u) / wmw_exp[tissue][0] for u, p in res]\n",
    "    for s_mixed, (tissue, res) in zip(mixed, wmw_res.items())\n",
    "}\n",
    "r_corr_u = {\n",
    "    tissue: [wmw_r_corr(s_mixed[~ind[tissue]], s_mixed[ind[tissue]], u, u_exp[tissue]) for u, p in res]\n",
    "    for s_mixed, (tissue, res) in zip(mixed, wmw_res.items())\n",
    "}"
   ]
  },
  {
   "cell_type": "code",
   "execution_count": 109,
   "metadata": {
    "collapsed": false
   },
   "outputs": [
    {
     "data": {
      "text/plain": [
       "<matplotlib.axes._subplots.AxesSubplot at 0x7fff60a5d518>"
      ]
     },
     "execution_count": 109,
     "metadata": {},
     "output_type": "execute_result"
    },
    {
     "data": {
      "image/png": "[encoded data removed]",
      "text/plain": [
       "<matplotlib.figure.Figure at 0x7fff60b0f4a8>"
      ]
     },
     "metadata": {},
     "output_type": "display_data"
    }
   ],
   "source": [
    "fix, (ax1, ax2) = subplots(1, 2, figsize=(14, 4))\n",
    "pd.DataFrame(r).plot(ax=ax1)\n",
    "pd.DataFrame(r_corr).plot(ax=ax2)"
   ]
  },
  {
   "cell_type": "code",
   "execution_count": 110,
   "metadata": {
    "collapsed": false
   },
   "outputs": [
    {
     "data": {
      "text/plain": [
       "<matplotlib.axes._subplots.AxesSubplot at 0x7fff60abeba8>"
      ]
     },
     "execution_count": 110,
     "metadata": {},
     "output_type": "execute_result"
    },
    {
     "data": {
      "image/png": "[encoded data removed]",
      "text/plain": [
       "<matplotlib.figure.Figure at 0x7fff60af7518>"
      ]
     },
     "metadata": {},
     "output_type": "display_data"
    }
   ],
   "source": [
    "pd.DataFrame(r_corr_u).applymap(lambda x: x).plot()"
   ]
  },
  {
   "cell_type": "code",
   "execution_count": null,
   "metadata": {
    "collapsed": true
   },
   "outputs": [],
   "source": []
  }
 ],
 "metadata": {
  "kernelspec": {
   "display_name": "Python [Root]",
   "language": "python",
   "name": "Python [Root]"
  },
  "language_info": {
   "codemirror_mode": {
    "name": "ipython",
    "version": 3
   },
   "file_extension": ".py",
   "mimetype": "text/x-python",
   "name": "python",
   "nbconvert_exporter": "python",
   "pygments_lexer": "ipython3",
   "version": "3.5.2"
  }
 },
 "nbformat": 4,
 "nbformat_minor": 0
}
